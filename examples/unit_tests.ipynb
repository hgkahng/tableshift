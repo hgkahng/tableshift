{
 "cells": [
  {
   "cell_type": "markdown",
   "id": "6ce6e6d8",
   "metadata": {},
   "source": [
    "# Unit Tests on Loading Data"
   ]
  },
  {
   "cell_type": "markdown",
   "id": "2b65a3ec",
   "metadata": {},
   "source": [
    "<img src=\"../img/tableshift_paper_table_1.png\" alt=\"alt text\">"
   ]
  },
  {
   "cell_type": "code",
   "execution_count": 2,
   "id": "b795f3c7",
   "metadata": {},
   "outputs": [
    {
     "name": "stdout",
     "output_type": "stream",
     "text": [
      "Name: tableshift\n",
      "Version: 0.1\n",
      "Summary: A tabular data benchmarking toolkit.\n",
      "Home-page: https://tableshift.org\n",
      "Author: Josh Gardner\n",
      "Author-email: jpgard@cs.washington.edu\n",
      "License: \n",
      "Location: /opt/miniconda3/envs/tableshift/lib/python3.10/site-packages\n",
      "Requires: category-encoders, datasets, einops, fairlearn, folktables, frozendict, h5py, hyperopt, kaggle, numpy, openpyxl, optuna, pandas, ray, rtdl, scikit-learn, tab-transformer-pytorch, tables, torch, torchinfo, torchvision, tqdm, xport\n",
      "Required-by: \n",
      "---\n",
      "Name: numpy\n",
      "Version: 1.23.5\n",
      "Summary: NumPy is the fundamental package for array computing with Python.\n",
      "Home-page: https://www.numpy.org\n",
      "Author: Travis E. Oliphant et al.\n",
      "Author-email: \n",
      "License: BSD\n",
      "Location: /opt/miniconda3/envs/tableshift/lib/python3.10/site-packages\n",
      "Requires: \n",
      "Required-by: accelerate, blis, catboost, category-encoders, cmaes, contourpy, datasets, evaluate, fairlearn, fairscale, fasttext, folktables, gluonts, h5py, hyperopt, imageio, lightgbm, matplotlib, nlpaug, nptyping, numba, optuna, pandas, patsy, pmdarima, pyarrow, pytorch-lightning, pytorch-metric-learning, pytorch-tabnet, PyWavelets, ray, rtdl, scikit-image, scikit-learn, scipy, seqeval, spacy, statsforecast, statsmodels, tableshift, tbats, tensorboardX, tensorflow-datasets, thinc, tifffile, torchmetrics, torchvision, transformers, tune-sklearn, xarray, xgboost, xgboost-ray\n"
     ]
    }
   ],
   "source": [
    "!pip show tableshift numpy"
   ]
  },
  {
   "cell_type": "code",
   "execution_count": 3,
   "id": "e4485bc5",
   "metadata": {},
   "outputs": [
    {
     "name": "stderr",
     "output_type": "stream",
     "text": [
      "/opt/miniconda3/envs/tableshift/lib/python3.10/site-packages/tqdm/auto.py:22: TqdmWarning: IProgress not found. Please update jupyter and ipywidgets. See https://ipywidgets.readthedocs.io/en/stable/user_install.html\n",
      "  from .autonotebook import tqdm as notebook_tqdm\n"
     ]
    }
   ],
   "source": [
    "from tableshift.core.tabular_dataset import DatasetConfig\n",
    "from tableshift.configs.benchmark_configs import BENCHMARK_CONFIGS\n",
    "\n",
    "from pathlib import Path\n",
    "from rich import print as rich_print"
   ]
  },
  {
   "cell_type": "code",
   "execution_count": 4,
   "id": "3fe1f7dc",
   "metadata": {},
   "outputs": [
    {
     "name": "stdout",
     "output_type": "stream",
     "text": [
      "[List of supported datasets]\n",
      "acsfoodstamps\n",
      "acsincome\n",
      "acspubcov\n",
      "acsunemployment\n",
      "anes\n",
      "brfss_blood_pressure\n",
      "brfss_diabetes\n",
      "diabetes_readmission\n",
      "heloc\n",
      "mimic_extract_los_3\n",
      "mimic_extract_mort_hosp\n",
      "nhanes_cholesterol\n",
      "assistments\n",
      "college_scorecard\n",
      "nhanes_lead\n",
      "physionet\n"
     ]
    }
   ],
   "source": [
    "print(\"[List of supported datasets]\")\n",
    "print(*BENCHMARK_CONFIGS.keys(), sep=\"\\n\")"
   ]
  },
  {
   "cell_type": "markdown",
   "id": "6cb17c24",
   "metadata": {},
   "source": [
    "## Public Health Insurance (Work in Progress)"
   ]
  },
  {
   "cell_type": "code",
   "execution_count": null,
   "id": "ebe3cb0c",
   "metadata": {},
   "outputs": [
    {
     "data": {
      "text/html": [
       "<pre style=\"white-space:pre;overflow-x:auto;line-height:normal;font-family:Menlo,'DejaVu Sans Mono',consolas,'Courier New',monospace\"><span style=\"font-weight: bold\">{</span>\n",
       "    <span style=\"color: #008000; text-decoration-color: #008000\">'splitter'</span>: <span style=\"color: #800080; text-decoration-color: #800080; font-weight: bold\">DomainSplitter</span><span style=\"font-weight: bold\">(</span>\n",
       "        <span style=\"color: #808000; text-decoration-color: #808000\">val_size</span>=<span style=\"color: #008080; text-decoration-color: #008080; font-weight: bold\">0.1</span>,\n",
       "        <span style=\"color: #808000; text-decoration-color: #808000\">random_state</span>=<span style=\"color: #008080; text-decoration-color: #008080; font-weight: bold\">264738</span>,\n",
       "        <span style=\"color: #808000; text-decoration-color: #808000\">id_test_size</span>=<span style=\"color: #008080; text-decoration-color: #008080; font-weight: bold\">0.1</span>,\n",
       "        <span style=\"color: #808000; text-decoration-color: #808000\">domain_split_varname</span>=<span style=\"color: #008000; text-decoration-color: #008000\">'DIS'</span>,\n",
       "        <span style=\"color: #808000; text-decoration-color: #808000\">domain_split_ood_values</span>=<span style=\"font-weight: bold\">[</span><span style=\"color: #008000; text-decoration-color: #008000\">'1.0'</span><span style=\"font-weight: bold\">]</span>,\n",
       "        <span style=\"color: #808000; text-decoration-color: #808000\">domain_split_id_values</span>=<span style=\"color: #800080; text-decoration-color: #800080; font-style: italic\">None</span>,\n",
       "        <span style=\"color: #808000; text-decoration-color: #808000\">domain_split_gt_thresh</span>=<span style=\"color: #800080; text-decoration-color: #800080; font-style: italic\">None</span>,\n",
       "        <span style=\"color: #808000; text-decoration-color: #808000\">drop_domain_split_col</span>=<span style=\"color: #00ff00; text-decoration-color: #00ff00; font-style: italic\">True</span>,\n",
       "        <span style=\"color: #808000; text-decoration-color: #808000\">ood_val_size</span>=<span style=\"color: #008080; text-decoration-color: #008080; font-weight: bold\">0.1</span>\n",
       "    <span style=\"font-weight: bold\">)</span>,\n",
       "    <span style=\"color: #008000; text-decoration-color: #008000\">'grouper'</span>: <span style=\"color: #800080; text-decoration-color: #800080; font-weight: bold\">Grouper</span><span style=\"font-weight: bold\">(</span><span style=\"color: #808000; text-decoration-color: #808000\">features_and_values</span>=<span style=\"font-weight: bold\">{</span><span style=\"color: #008000; text-decoration-color: #008000\">'RAC1P'</span>: <span style=\"font-weight: bold\">[</span><span style=\"color: #008080; text-decoration-color: #008080; font-weight: bold\">1</span><span style=\"font-weight: bold\">]</span>, <span style=\"color: #008000; text-decoration-color: #008000\">'SEX'</span>: <span style=\"font-weight: bold\">[</span><span style=\"color: #008080; text-decoration-color: #008080; font-weight: bold\">1</span><span style=\"font-weight: bold\">]}</span>, <span style=\"color: #808000; text-decoration-color: #808000\">drop</span>=<span style=\"color: #ff0000; text-decoration-color: #ff0000; font-style: italic\">False</span>, <span style=\"color: #808000; text-decoration-color: #808000\">transformer</span>=<span style=\"color: #800080; text-decoration-color: #800080; font-style: italic\">None</span><span style=\"font-weight: bold\">)</span>,\n",
       "    <span style=\"color: #008000; text-decoration-color: #008000\">'preprocessor_config'</span>: <span style=\"color: #800080; text-decoration-color: #800080; font-weight: bold\">PreprocessorConfig</span><span style=\"font-weight: bold\">(</span>\n",
       "        <span style=\"color: #808000; text-decoration-color: #808000\">categorical_features</span>=<span style=\"color: #008000; text-decoration-color: #008000\">'one_hot'</span>,\n",
       "        <span style=\"color: #808000; text-decoration-color: #808000\">numeric_features</span>=<span style=\"color: #008000; text-decoration-color: #008000\">'normalize'</span>,\n",
       "        <span style=\"color: #808000; text-decoration-color: #808000\">domain_labels</span>=<span style=\"color: #008000; text-decoration-color: #008000\">'label_encode'</span>,\n",
       "        <span style=\"color: #808000; text-decoration-color: #808000\">passthrough_columns</span>=<span style=\"color: #800080; text-decoration-color: #800080; font-style: italic\">None</span>,\n",
       "        <span style=\"color: #808000; text-decoration-color: #808000\">dropna</span>=<span style=\"color: #008000; text-decoration-color: #008000\">'rows'</span>,\n",
       "        <span style=\"color: #808000; text-decoration-color: #808000\">use_extended_names</span>=<span style=\"color: #ff0000; text-decoration-color: #ff0000; font-style: italic\">False</span>,\n",
       "        <span style=\"color: #808000; text-decoration-color: #808000\">map_targets</span>=<span style=\"color: #ff0000; text-decoration-color: #ff0000; font-style: italic\">False</span>,\n",
       "        <span style=\"color: #808000; text-decoration-color: #808000\">cast_targets_to_default_type</span>=<span style=\"color: #ff0000; text-decoration-color: #ff0000; font-style: italic\">False</span>,\n",
       "        <span style=\"color: #808000; text-decoration-color: #808000\">min_frequency</span>=<span style=\"color: #800080; text-decoration-color: #800080; font-style: italic\">None</span>,\n",
       "        <span style=\"color: #808000; text-decoration-color: #808000\">max_categories</span>=<span style=\"color: #800080; text-decoration-color: #800080; font-style: italic\">None</span>,\n",
       "        <span style=\"color: #808000; text-decoration-color: #808000\">n_bins</span>=<span style=\"color: #008080; text-decoration-color: #008080; font-weight: bold\">5</span>,\n",
       "        <span style=\"color: #808000; text-decoration-color: #808000\">sub_illegal_chars</span>=<span style=\"color: #00ff00; text-decoration-color: #00ff00; font-style: italic\">True</span>\n",
       "    <span style=\"font-weight: bold\">)</span>,\n",
       "    <span style=\"color: #008000; text-decoration-color: #008000\">'tabular_dataset_kwargs'</span>: <span style=\"font-weight: bold\">{</span>\n",
       "        <span style=\"color: #008000; text-decoration-color: #008000\">'acs_task'</span>: <span style=\"color: #008000; text-decoration-color: #008000\">'acspubcov'</span>,\n",
       "        <span style=\"color: #008000; text-decoration-color: #008000\">'name'</span>: <span style=\"color: #008000; text-decoration-color: #008000\">'acspubcov'</span>,\n",
       "        <span style=\"color: #008000; text-decoration-color: #008000\">'years'</span>: <span style=\"font-weight: bold\">[</span><span style=\"color: #008080; text-decoration-color: #008080; font-weight: bold\">2014</span>, <span style=\"color: #008080; text-decoration-color: #008080; font-weight: bold\">2015</span>, <span style=\"color: #008080; text-decoration-color: #008080; font-weight: bold\">2016</span>, <span style=\"color: #008080; text-decoration-color: #008080; font-weight: bold\">2017</span>, <span style=\"color: #008080; text-decoration-color: #008080; font-weight: bold\">2018</span><span style=\"font-weight: bold\">]</span>\n",
       "    <span style=\"font-weight: bold\">}</span>\n",
       "<span style=\"font-weight: bold\">}</span>\n",
       "</pre>\n"
      ],
      "text/plain": [
       "\u001b[1m{\u001b[0m\n",
       "    \u001b[32m'splitter'\u001b[0m: \u001b[1;35mDomainSplitter\u001b[0m\u001b[1m(\u001b[0m\n",
       "        \u001b[33mval_size\u001b[0m=\u001b[1;36m0\u001b[0m\u001b[1;36m.1\u001b[0m,\n",
       "        \u001b[33mrandom_state\u001b[0m=\u001b[1;36m264738\u001b[0m,\n",
       "        \u001b[33mid_test_size\u001b[0m=\u001b[1;36m0\u001b[0m\u001b[1;36m.1\u001b[0m,\n",
       "        \u001b[33mdomain_split_varname\u001b[0m=\u001b[32m'DIS'\u001b[0m,\n",
       "        \u001b[33mdomain_split_ood_values\u001b[0m=\u001b[1m[\u001b[0m\u001b[32m'1.0'\u001b[0m\u001b[1m]\u001b[0m,\n",
       "        \u001b[33mdomain_split_id_values\u001b[0m=\u001b[3;35mNone\u001b[0m,\n",
       "        \u001b[33mdomain_split_gt_thresh\u001b[0m=\u001b[3;35mNone\u001b[0m,\n",
       "        \u001b[33mdrop_domain_split_col\u001b[0m=\u001b[3;92mTrue\u001b[0m,\n",
       "        \u001b[33mood_val_size\u001b[0m=\u001b[1;36m0\u001b[0m\u001b[1;36m.1\u001b[0m\n",
       "    \u001b[1m)\u001b[0m,\n",
       "    \u001b[32m'grouper'\u001b[0m: \u001b[1;35mGrouper\u001b[0m\u001b[1m(\u001b[0m\u001b[33mfeatures_and_values\u001b[0m=\u001b[1m{\u001b[0m\u001b[32m'RAC1P'\u001b[0m: \u001b[1m[\u001b[0m\u001b[1;36m1\u001b[0m\u001b[1m]\u001b[0m, \u001b[32m'SEX'\u001b[0m: \u001b[1m[\u001b[0m\u001b[1;36m1\u001b[0m\u001b[1m]\u001b[0m\u001b[1m}\u001b[0m, \u001b[33mdrop\u001b[0m=\u001b[3;91mFalse\u001b[0m, \u001b[33mtransformer\u001b[0m=\u001b[3;35mNone\u001b[0m\u001b[1m)\u001b[0m,\n",
       "    \u001b[32m'preprocessor_config'\u001b[0m: \u001b[1;35mPreprocessorConfig\u001b[0m\u001b[1m(\u001b[0m\n",
       "        \u001b[33mcategorical_features\u001b[0m=\u001b[32m'one_hot'\u001b[0m,\n",
       "        \u001b[33mnumeric_features\u001b[0m=\u001b[32m'normalize'\u001b[0m,\n",
       "        \u001b[33mdomain_labels\u001b[0m=\u001b[32m'label_encode'\u001b[0m,\n",
       "        \u001b[33mpassthrough_columns\u001b[0m=\u001b[3;35mNone\u001b[0m,\n",
       "        \u001b[33mdropna\u001b[0m=\u001b[32m'rows'\u001b[0m,\n",
       "        \u001b[33muse_extended_names\u001b[0m=\u001b[3;91mFalse\u001b[0m,\n",
       "        \u001b[33mmap_targets\u001b[0m=\u001b[3;91mFalse\u001b[0m,\n",
       "        \u001b[33mcast_targets_to_default_type\u001b[0m=\u001b[3;91mFalse\u001b[0m,\n",
       "        \u001b[33mmin_frequency\u001b[0m=\u001b[3;35mNone\u001b[0m,\n",
       "        \u001b[33mmax_categories\u001b[0m=\u001b[3;35mNone\u001b[0m,\n",
       "        \u001b[33mn_bins\u001b[0m=\u001b[1;36m5\u001b[0m,\n",
       "        \u001b[33msub_illegal_chars\u001b[0m=\u001b[3;92mTrue\u001b[0m\n",
       "    \u001b[1m)\u001b[0m,\n",
       "    \u001b[32m'tabular_dataset_kwargs'\u001b[0m: \u001b[1m{\u001b[0m\n",
       "        \u001b[32m'acs_task'\u001b[0m: \u001b[32m'acspubcov'\u001b[0m,\n",
       "        \u001b[32m'name'\u001b[0m: \u001b[32m'acspubcov'\u001b[0m,\n",
       "        \u001b[32m'years'\u001b[0m: \u001b[1m[\u001b[0m\u001b[1;36m2014\u001b[0m, \u001b[1;36m2015\u001b[0m, \u001b[1;36m2016\u001b[0m, \u001b[1;36m2017\u001b[0m, \u001b[1;36m2018\u001b[0m\u001b[1m]\u001b[0m\n",
       "    \u001b[1m}\u001b[0m\n",
       "\u001b[1m}\u001b[0m\n"
      ]
     },
     "metadata": {},
     "output_type": "display_data"
    }
   ],
   "source": [
    "name = \"acspubcov\"\n",
    "expt_config = BENCHMARK_CONFIGS.get(name)\n",
    "rich_print(expt_config.__dict__);  # the `domain_split_varname` is the domain indicator"
   ]
  },
  {
   "cell_type": "code",
   "execution_count": 6,
   "id": "59feffdf",
   "metadata": {},
   "outputs": [
    {
     "name": "stdout",
     "output_type": "stream",
     "text": [
      "/Users/hgkahng/Workspaces/domain_adaptation/tableshift/examples\n"
     ]
    }
   ],
   "source": [
    "!pwd"
   ]
  },
  {
   "cell_type": "code",
   "execution_count": 15,
   "id": "5ee2299b",
   "metadata": {},
   "outputs": [
    {
     "name": "stdout",
     "output_type": "stream",
     "text": [
      "/Users/hgkahng/Workspaces/domain_adaptation/tmp/acspubcov\n"
     ]
    }
   ],
   "source": [
    "from pathlib import Path\n",
    "CACHE_DIR = Path(f\"../../tmp/{name}\").resolve()\n",
    "print(CACHE_DIR)"
   ]
  },
  {
   "cell_type": "code",
   "execution_count": 16,
   "id": "8cd5cbe6",
   "metadata": {},
   "outputs": [],
   "source": [
    "from tableshift.core.tabular_dataset import DatasetConfig\n",
    "dataset_config = DatasetConfig(cache_dir=CACHE_DIR)"
   ]
  },
  {
   "cell_type": "code",
   "execution_count": 17,
   "id": "a211f17a",
   "metadata": {},
   "outputs": [
    {
     "data": {
      "text/html": [
       "<pre style=\"white-space:pre;overflow-x:auto;line-height:normal;font-family:Menlo,'DejaVu Sans Mono',consolas,'Courier New',monospace\"><span style=\"color: #800080; text-decoration-color: #800080; font-weight: bold\">DatasetConfig</span><span style=\"font-weight: bold\">(</span>\n",
       "    <span style=\"color: #808000; text-decoration-color: #808000\">cache_dir</span>=<span style=\"color: #800080; text-decoration-color: #800080; font-weight: bold\">PosixPath</span><span style=\"font-weight: bold\">(</span><span style=\"color: #008000; text-decoration-color: #008000\">'/Users/hgkahng/Workspaces/domain_adaptation/tmp/acspubcov'</span><span style=\"font-weight: bold\">)</span>,\n",
       "    <span style=\"color: #808000; text-decoration-color: #808000\">download</span>=<span style=\"color: #00ff00; text-decoration-color: #00ff00; font-style: italic\">True</span>,\n",
       "    <span style=\"color: #808000; text-decoration-color: #808000\">random_seed</span>=<span style=\"color: #008080; text-decoration-color: #008080; font-weight: bold\">948324</span>\n",
       "<span style=\"font-weight: bold\">)</span>\n",
       "</pre>\n"
      ],
      "text/plain": [
       "\u001b[1;35mDatasetConfig\u001b[0m\u001b[1m(\u001b[0m\n",
       "    \u001b[33mcache_dir\u001b[0m=\u001b[1;35mPosixPath\u001b[0m\u001b[1m(\u001b[0m\u001b[32m'/Users/hgkahng/Workspaces/domain_adaptation/tmp/acspubcov'\u001b[0m\u001b[1m)\u001b[0m,\n",
       "    \u001b[33mdownload\u001b[0m=\u001b[3;92mTrue\u001b[0m,\n",
       "    \u001b[33mrandom_seed\u001b[0m=\u001b[1;36m948324\u001b[0m\n",
       "\u001b[1m)\u001b[0m\n"
      ]
     },
     "metadata": {},
     "output_type": "display_data"
    }
   ],
   "source": [
    "rich_print(dataset_config)"
   ]
  },
  {
   "cell_type": "code",
   "execution_count": 18,
   "id": "a42b91eb",
   "metadata": {},
   "outputs": [
    {
     "data": {
      "text/plain": [
       "{'acs_task': 'acspubcov',\n",
       " 'name': 'acspubcov',\n",
       " 'years': [2014, 2015, 2016, 2017, 2018]}"
      ]
     },
     "execution_count": 18,
     "metadata": {},
     "output_type": "execute_result"
    }
   ],
   "source": [
    "import copy\n",
    "tabular_dataset_kwargs = copy.copy(expt_config.tabular_dataset_kwargs)\n",
    "tabular_dataset_kwargs"
   ]
  },
  {
   "cell_type": "code",
   "execution_count": null,
   "id": "a441a84b",
   "metadata": {},
   "outputs": [
    {
     "data": {
      "text/plain": [
       "{'acs_task': 'acspubcov', 'name': 'acspubcov', 'years': [2014, 2015]}"
      ]
     },
     "execution_count": 25,
     "metadata": {},
     "output_type": "execute_result"
    }
   ],
   "source": [
    "tabular_dataset_kwargs['years'] = [2014, 2015]  # TODO: [2014, 2015, 2016, 2017, 2018]\n",
    "tabular_dataset_kwargs"
   ]
  },
  {
   "cell_type": "code",
   "execution_count": 26,
   "id": "f20558ef",
   "metadata": {},
   "outputs": [
    {
     "name": "stderr",
     "output_type": "stream",
     "text": [
      "/opt/miniconda3/envs/tableshift/lib/python3.10/site-packages/tableshift/core/data_source.py:396: PerformanceWarning: DataFrame is highly fragmented.  This is usually the result of calling `frame.insert` many times, which has poor performance.  Consider joining all columns at once using pd.concat(axis=1) instead.  To get a de-fragmented frame, use `newframe = frame.copy()`\n",
      "  year_data[\"ACS_YEAR\"] = year\n"
     ]
    }
   ],
   "source": [
    "from tableshift import get_dataset\n",
    "from tableshift.core import TabularDataset\n",
    "\n",
    "# mimic the behaviour of `get_dataset`\n",
    "dset = TabularDataset(\n",
    "    config=dataset_config,\n",
    "    splitter=expt_config.splitter,\n",
    "    grouper=expt_config.grouper,\n",
    "    preprocessor_config=expt_config.preprocessor_config,\n",
    "    initialize_data=True,\n",
    "    **tabular_dataset_kwargs\n",
    ")"
   ]
  },
  {
   "cell_type": "code",
   "execution_count": 24,
   "id": "20fadaf3",
   "metadata": {},
   "outputs": [
    {
     "data": {
      "text/plain": [
       "0          0\n",
       "1          1\n",
       "2          1\n",
       "3          1\n",
       "4          1\n",
       "          ..\n",
       "1230408    1\n",
       "1230409    1\n",
       "1230410    1\n",
       "1230411    1\n",
       "1230412    1\n",
       "Name: DIS, Length: 1230413, dtype: int64"
      ]
     },
     "execution_count": 24,
     "metadata": {},
     "output_type": "execute_result"
    }
   ],
   "source": [
    "dset._df['DIS']"
   ]
  },
  {
   "cell_type": "markdown",
   "id": "fae8fe2a",
   "metadata": {},
   "source": [
    "## ASSISTments"
   ]
  },
  {
   "cell_type": "code",
   "execution_count": 4,
   "id": "57f3695e",
   "metadata": {},
   "outputs": [
    {
     "data": {
      "text/html": [
       "<pre style=\"white-space:pre;overflow-x:auto;line-height:normal;font-family:Menlo,'DejaVu Sans Mono',consolas,'Courier New',monospace\"><span style=\"font-weight: bold\">{</span>\n",
       "    <span style=\"color: #008000; text-decoration-color: #008000\">'splitter'</span>: <span style=\"color: #800080; text-decoration-color: #800080; font-weight: bold\">DomainSplitter</span><span style=\"font-weight: bold\">(</span>\n",
       "        <span style=\"color: #808000; text-decoration-color: #808000\">val_size</span>=<span style=\"color: #008080; text-decoration-color: #008080; font-weight: bold\">0.1</span>,\n",
       "        <span style=\"color: #808000; text-decoration-color: #808000\">random_state</span>=<span style=\"color: #008080; text-decoration-color: #008080; font-weight: bold\">264738</span>,\n",
       "        <span style=\"color: #808000; text-decoration-color: #808000\">id_test_size</span>=<span style=\"color: #008080; text-decoration-color: #008080; font-weight: bold\">0.1</span>,\n",
       "        <span style=\"color: #808000; text-decoration-color: #808000\">domain_split_varname</span>=<span style=\"color: #008000; text-decoration-color: #008000\">'school_id'</span>,\n",
       "        <span style=\"color: #808000; text-decoration-color: #808000\">domain_split_ood_values</span>=<span style=\"font-weight: bold\">[</span>\n",
       "            <span style=\"color: #008080; text-decoration-color: #008080; font-weight: bold\">5040.0</span>,\n",
       "            <span style=\"color: #008080; text-decoration-color: #008080; font-weight: bold\">11502.0</span>,\n",
       "            <span style=\"color: #008080; text-decoration-color: #008080; font-weight: bold\">11318.0</span>,\n",
       "            <span style=\"color: #008080; text-decoration-color: #008080; font-weight: bold\">11976.0</span>,\n",
       "            <span style=\"color: #008080; text-decoration-color: #008080; font-weight: bold\">12421.0</span>,\n",
       "            <span style=\"color: #008080; text-decoration-color: #008080; font-weight: bold\">12379.0</span>,\n",
       "            <span style=\"color: #008080; text-decoration-color: #008080; font-weight: bold\">11791.0</span>,\n",
       "            <span style=\"color: #008080; text-decoration-color: #008080; font-weight: bold\">8359.0</span>,\n",
       "            <span style=\"color: #008080; text-decoration-color: #008080; font-weight: bold\">12406.0</span>,\n",
       "            <span style=\"color: #008080; text-decoration-color: #008080; font-weight: bold\">7594.0</span>\n",
       "        <span style=\"font-weight: bold\">]</span>,\n",
       "        <span style=\"color: #808000; text-decoration-color: #808000\">domain_split_id_values</span>=<span style=\"color: #800080; text-decoration-color: #800080; font-style: italic\">None</span>,\n",
       "        <span style=\"color: #808000; text-decoration-color: #808000\">domain_split_gt_thresh</span>=<span style=\"color: #800080; text-decoration-color: #800080; font-style: italic\">None</span>,\n",
       "        <span style=\"color: #808000; text-decoration-color: #808000\">drop_domain_split_col</span>=<span style=\"color: #00ff00; text-decoration-color: #00ff00; font-style: italic\">True</span>,\n",
       "        <span style=\"color: #808000; text-decoration-color: #808000\">ood_val_size</span>=<span style=\"color: #008080; text-decoration-color: #008080; font-weight: bold\">0.1</span>\n",
       "    <span style=\"font-weight: bold\">)</span>,\n",
       "    <span style=\"color: #008000; text-decoration-color: #008000\">'grouper'</span>: <span style=\"color: #800080; text-decoration-color: #800080; font-style: italic\">None</span>,\n",
       "    <span style=\"color: #008000; text-decoration-color: #008000\">'preprocessor_config'</span>: <span style=\"color: #800080; text-decoration-color: #800080; font-weight: bold\">PreprocessorConfig</span><span style=\"font-weight: bold\">(</span>\n",
       "        <span style=\"color: #808000; text-decoration-color: #808000\">categorical_features</span>=<span style=\"color: #008000; text-decoration-color: #008000\">'one_hot'</span>,\n",
       "        <span style=\"color: #808000; text-decoration-color: #808000\">numeric_features</span>=<span style=\"color: #008000; text-decoration-color: #008000\">'normalize'</span>,\n",
       "        <span style=\"color: #808000; text-decoration-color: #808000\">domain_labels</span>=<span style=\"color: #008000; text-decoration-color: #008000\">'label_encode'</span>,\n",
       "        <span style=\"color: #808000; text-decoration-color: #808000\">passthrough_columns</span>=<span style=\"font-weight: bold\">[</span><span style=\"color: #008000; text-decoration-color: #008000\">'skill_id'</span>, <span style=\"color: #008000; text-decoration-color: #008000\">'bottom_hint'</span>, <span style=\"color: #008000; text-decoration-color: #008000\">'first_action'</span><span style=\"font-weight: bold\">]</span>,\n",
       "        <span style=\"color: #808000; text-decoration-color: #808000\">dropna</span>=<span style=\"color: #008000; text-decoration-color: #008000\">'rows'</span>,\n",
       "        <span style=\"color: #808000; text-decoration-color: #808000\">use_extended_names</span>=<span style=\"color: #ff0000; text-decoration-color: #ff0000; font-style: italic\">False</span>,\n",
       "        <span style=\"color: #808000; text-decoration-color: #808000\">map_targets</span>=<span style=\"color: #ff0000; text-decoration-color: #ff0000; font-style: italic\">False</span>,\n",
       "        <span style=\"color: #808000; text-decoration-color: #808000\">cast_targets_to_default_type</span>=<span style=\"color: #ff0000; text-decoration-color: #ff0000; font-style: italic\">False</span>,\n",
       "        <span style=\"color: #808000; text-decoration-color: #808000\">min_frequency</span>=<span style=\"color: #800080; text-decoration-color: #800080; font-style: italic\">None</span>,\n",
       "        <span style=\"color: #808000; text-decoration-color: #808000\">max_categories</span>=<span style=\"color: #800080; text-decoration-color: #800080; font-style: italic\">None</span>,\n",
       "        <span style=\"color: #808000; text-decoration-color: #808000\">n_bins</span>=<span style=\"color: #008080; text-decoration-color: #008080; font-weight: bold\">5</span>,\n",
       "        <span style=\"color: #808000; text-decoration-color: #808000\">sub_illegal_chars</span>=<span style=\"color: #00ff00; text-decoration-color: #00ff00; font-style: italic\">True</span>\n",
       "    <span style=\"font-weight: bold\">)</span>,\n",
       "    <span style=\"color: #008000; text-decoration-color: #008000\">'tabular_dataset_kwargs'</span>: <span style=\"font-weight: bold\">{}</span>\n",
       "<span style=\"font-weight: bold\">}</span>\n",
       "</pre>\n"
      ],
      "text/plain": [
       "\u001b[1m{\u001b[0m\n",
       "    \u001b[32m'splitter'\u001b[0m: \u001b[1;35mDomainSplitter\u001b[0m\u001b[1m(\u001b[0m\n",
       "        \u001b[33mval_size\u001b[0m=\u001b[1;36m0\u001b[0m\u001b[1;36m.1\u001b[0m,\n",
       "        \u001b[33mrandom_state\u001b[0m=\u001b[1;36m264738\u001b[0m,\n",
       "        \u001b[33mid_test_size\u001b[0m=\u001b[1;36m0\u001b[0m\u001b[1;36m.1\u001b[0m,\n",
       "        \u001b[33mdomain_split_varname\u001b[0m=\u001b[32m'school_id'\u001b[0m,\n",
       "        \u001b[33mdomain_split_ood_values\u001b[0m=\u001b[1m[\u001b[0m\n",
       "            \u001b[1;36m5040.0\u001b[0m,\n",
       "            \u001b[1;36m11502.0\u001b[0m,\n",
       "            \u001b[1;36m11318.0\u001b[0m,\n",
       "            \u001b[1;36m11976.0\u001b[0m,\n",
       "            \u001b[1;36m12421.0\u001b[0m,\n",
       "            \u001b[1;36m12379.0\u001b[0m,\n",
       "            \u001b[1;36m11791.0\u001b[0m,\n",
       "            \u001b[1;36m8359.0\u001b[0m,\n",
       "            \u001b[1;36m12406.0\u001b[0m,\n",
       "            \u001b[1;36m7594.0\u001b[0m\n",
       "        \u001b[1m]\u001b[0m,\n",
       "        \u001b[33mdomain_split_id_values\u001b[0m=\u001b[3;35mNone\u001b[0m,\n",
       "        \u001b[33mdomain_split_gt_thresh\u001b[0m=\u001b[3;35mNone\u001b[0m,\n",
       "        \u001b[33mdrop_domain_split_col\u001b[0m=\u001b[3;92mTrue\u001b[0m,\n",
       "        \u001b[33mood_val_size\u001b[0m=\u001b[1;36m0\u001b[0m\u001b[1;36m.1\u001b[0m\n",
       "    \u001b[1m)\u001b[0m,\n",
       "    \u001b[32m'grouper'\u001b[0m: \u001b[3;35mNone\u001b[0m,\n",
       "    \u001b[32m'preprocessor_config'\u001b[0m: \u001b[1;35mPreprocessorConfig\u001b[0m\u001b[1m(\u001b[0m\n",
       "        \u001b[33mcategorical_features\u001b[0m=\u001b[32m'one_hot'\u001b[0m,\n",
       "        \u001b[33mnumeric_features\u001b[0m=\u001b[32m'normalize'\u001b[0m,\n",
       "        \u001b[33mdomain_labels\u001b[0m=\u001b[32m'label_encode'\u001b[0m,\n",
       "        \u001b[33mpassthrough_columns\u001b[0m=\u001b[1m[\u001b[0m\u001b[32m'skill_id'\u001b[0m, \u001b[32m'bottom_hint'\u001b[0m, \u001b[32m'first_action'\u001b[0m\u001b[1m]\u001b[0m,\n",
       "        \u001b[33mdropna\u001b[0m=\u001b[32m'rows'\u001b[0m,\n",
       "        \u001b[33muse_extended_names\u001b[0m=\u001b[3;91mFalse\u001b[0m,\n",
       "        \u001b[33mmap_targets\u001b[0m=\u001b[3;91mFalse\u001b[0m,\n",
       "        \u001b[33mcast_targets_to_default_type\u001b[0m=\u001b[3;91mFalse\u001b[0m,\n",
       "        \u001b[33mmin_frequency\u001b[0m=\u001b[3;35mNone\u001b[0m,\n",
       "        \u001b[33mmax_categories\u001b[0m=\u001b[3;35mNone\u001b[0m,\n",
       "        \u001b[33mn_bins\u001b[0m=\u001b[1;36m5\u001b[0m,\n",
       "        \u001b[33msub_illegal_chars\u001b[0m=\u001b[3;92mTrue\u001b[0m\n",
       "    \u001b[1m)\u001b[0m,\n",
       "    \u001b[32m'tabular_dataset_kwargs'\u001b[0m: \u001b[1m{\u001b[0m\u001b[1m}\u001b[0m\n",
       "\u001b[1m}\u001b[0m\n"
      ]
     },
     "metadata": {},
     "output_type": "display_data"
    }
   ],
   "source": [
    "name = \"assistments\"\n",
    "expt_config = BENCHMARK_CONFIGS.get(name)\n",
    "rich_print(expt_config.__dict__);  # the `domain_split_varname` is the domain indicator"
   ]
  },
  {
   "cell_type": "code",
   "execution_count": 5,
   "id": "006c7cbd",
   "metadata": {},
   "outputs": [
    {
     "name": "stdout",
     "output_type": "stream",
     "text": [
      "/Users/hgkahng/Workspaces/domain_adaptation/tmp/assistments\n"
     ]
    }
   ],
   "source": [
    "cache_dir = Path(f\"../../tmp/{name}\").resolve()\n",
    "print(cache_dir)"
   ]
  },
  {
   "cell_type": "markdown",
   "id": "7d8f4de2",
   "metadata": {},
   "source": [
    "This datasets requires a Kaggle API Key.\n",
    "- Login to Kaggle -> [Settings] -> API -> Create new token\n",
    "- A `kaggle.json` is automatically downloaded. Place it as: ~/.kaggle/kaggle.json"
   ]
  },
  {
   "cell_type": "code",
   "execution_count": 6,
   "id": "65d2639e",
   "metadata": {},
   "outputs": [
    {
     "name": "stdout",
     "output_type": "stream",
     "text": [
      "Warning: Your Kaggle API key is readable by other users on this system! To fix this, you can run 'chmod 600 /Users/hgkahng/.kaggle/kaggle.json'\n",
      "skillbuilder-data-2009-2010.zip: Skipping, found more recently modified local copy (use --force to force download)\n"
     ]
    }
   ],
   "source": [
    "from tableshift import get_dataset\n",
    "dset = get_dataset(name=name, cache_dir=cache_dir)"
   ]
  },
  {
   "cell_type": "code",
   "execution_count": 7,
   "id": "278c7ff9",
   "metadata": {},
   "outputs": [
    {
     "data": {
      "text/plain": [
       "(2667776, 28)"
      ]
     },
     "execution_count": 7,
     "metadata": {},
     "output_type": "execute_result"
    }
   ],
   "source": [
    "dset._df.shape"
   ]
  },
  {
   "cell_type": "code",
   "execution_count": 8,
   "id": "78b0cb08",
   "metadata": {},
   "outputs": [
    {
     "data": {
      "text/plain": [
       "Index(['hint_count', 'attempt_count', 'ms_first_response', 'position',\n",
       "       'overlap_time', 'Average_confidence(FRUSTRATED)',\n",
       "       'Average_confidence(CONFUSED)', 'Average_confidence(CONCENTRATING)',\n",
       "       'Average_confidence(BORED)', 'problem_type_algebra',\n",
       "       'problem_type_fill_in_1', 'problem_type_choose_1',\n",
       "       'problem_type_choose_n', 'problem_type_rank',\n",
       "       'problem_type_open_response', 'tutor_mode_tutor', 'type_LinearSection',\n",
       "       'type_MasterySection', 'type_RandomChildOrderSection',\n",
       "       'type_RandomIterateSection', 'type_PlacementsSection',\n",
       "       'type_ChooseConditionSection', 'type_NumericLimitSection', 'correct',\n",
       "       'bottom_hint', 'skill_id', 'school_id', 'first_action'],\n",
       "      dtype='object')"
      ]
     },
     "execution_count": 8,
     "metadata": {},
     "output_type": "execute_result"
    }
   ],
   "source": [
    "dset._df.columns"
   ]
  },
  {
   "cell_type": "code",
   "execution_count": 12,
   "id": "76e002d4",
   "metadata": {},
   "outputs": [
    {
     "data": {
      "text/plain": [
       "401"
      ]
     },
     "execution_count": 12,
     "metadata": {},
     "output_type": "execute_result"
    }
   ],
   "source": [
    "dset._df['school_id'].unique().__len__()"
   ]
  },
  {
   "cell_type": "code",
   "execution_count": 20,
   "id": "c1da8741",
   "metadata": {},
   "outputs": [],
   "source": [
    "X_tr, y_tr, _, d_tr = dset.get_pandas(split='train')  # ['train', 'validation', 'id_test', 'ood_test', 'ood_validation']"
   ]
  },
  {
   "cell_type": "code",
   "execution_count": null,
   "id": "fad0dbd6",
   "metadata": {},
   "outputs": [
    {
     "data": {
      "text/plain": [
       "45     240962\n",
       "49     158871\n",
       "106     92205\n",
       "17      79432\n",
       "1       78659\n",
       "        ...  \n",
       "378         1\n",
       "314         1\n",
       "383         1\n",
       "398         1\n",
       "267         1\n",
       "Name: school_id, Length: 386, dtype: int64"
      ]
     },
     "execution_count": 24,
     "metadata": {},
     "output_type": "execute_result"
    }
   ],
   "source": [
    "d_tr.value_counts()  # "
   ]
  },
  {
   "cell_type": "code",
   "execution_count": 21,
   "id": "9206c23e",
   "metadata": {},
   "outputs": [
    {
     "data": {
      "text/plain": [
       "(2132526, 26)"
      ]
     },
     "execution_count": 21,
     "metadata": {},
     "output_type": "execute_result"
    }
   ],
   "source": [
    "X_tr.shape"
   ]
  },
  {
   "cell_type": "markdown",
   "id": "a33223a3",
   "metadata": {},
   "source": [
    "## College Scorecard"
   ]
  },
  {
   "cell_type": "code",
   "execution_count": 25,
   "id": "6a308637",
   "metadata": {},
   "outputs": [
    {
     "data": {
      "text/html": [
       "<pre style=\"white-space:pre;overflow-x:auto;line-height:normal;font-family:Menlo,'DejaVu Sans Mono',consolas,'Courier New',monospace\"><span style=\"font-weight: bold\">{</span>\n",
       "    <span style=\"color: #008000; text-decoration-color: #008000\">'splitter'</span>: <span style=\"color: #800080; text-decoration-color: #800080; font-weight: bold\">DomainSplitter</span><span style=\"font-weight: bold\">(</span>\n",
       "        <span style=\"color: #808000; text-decoration-color: #808000\">val_size</span>=<span style=\"color: #008080; text-decoration-color: #008080; font-weight: bold\">0.1</span>,\n",
       "        <span style=\"color: #808000; text-decoration-color: #808000\">random_state</span>=<span style=\"color: #008080; text-decoration-color: #008080; font-weight: bold\">264738</span>,\n",
       "        <span style=\"color: #808000; text-decoration-color: #808000\">id_test_size</span>=<span style=\"color: #008080; text-decoration-color: #008080; font-weight: bold\">0.1</span>,\n",
       "        <span style=\"color: #808000; text-decoration-color: #808000\">domain_split_varname</span>=<span style=\"color: #008000; text-decoration-color: #008000\">'CCBASIC'</span>,\n",
       "        <span style=\"color: #808000; text-decoration-color: #808000\">domain_split_ood_values</span>=<span style=\"font-weight: bold\">[</span>\n",
       "            <span style=\"color: #008000; text-decoration-color: #008000\">'Special Focus Institutions--Other special-focus institutions'</span>,\n",
       "            <span style=\"color: #008000; text-decoration-color: #008000\">'Special Focus Institutions--Theological seminaries, Bible colleges, and other faith-related </span>\n",
       "<span style=\"color: #008000; text-decoration-color: #008000\">institutions'</span>,\n",
       "            <span style=\"color: #008000; text-decoration-color: #008000\">\"Associate's--Private For-profit 4-year Primarily Associate's\"</span>,\n",
       "            <span style=\"color: #008000; text-decoration-color: #008000\">'Baccalaureate Colleges--Diverse Fields'</span>,\n",
       "            <span style=\"color: #008000; text-decoration-color: #008000\">'Special Focus Institutions--Schools of art, music, and design'</span>,\n",
       "            <span style=\"color: #008000; text-decoration-color: #008000\">\"Associate's--Private Not-for-profit\"</span>,\n",
       "            <span style=\"color: #008000; text-decoration-color: #008000\">\"Baccalaureate/Associate's Colleges\"</span>,\n",
       "            <span style=\"color: #008000; text-decoration-color: #008000\">\"Master's Colleges and Universities (larger programs)\"</span>\n",
       "        <span style=\"font-weight: bold\">]</span>,\n",
       "        <span style=\"color: #808000; text-decoration-color: #808000\">domain_split_id_values</span>=<span style=\"color: #800080; text-decoration-color: #800080; font-style: italic\">None</span>,\n",
       "        <span style=\"color: #808000; text-decoration-color: #808000\">domain_split_gt_thresh</span>=<span style=\"color: #800080; text-decoration-color: #800080; font-style: italic\">None</span>,\n",
       "        <span style=\"color: #808000; text-decoration-color: #808000\">drop_domain_split_col</span>=<span style=\"color: #00ff00; text-decoration-color: #00ff00; font-style: italic\">True</span>,\n",
       "        <span style=\"color: #808000; text-decoration-color: #808000\">ood_val_size</span>=<span style=\"color: #008080; text-decoration-color: #008080; font-weight: bold\">0.1</span>\n",
       "    <span style=\"font-weight: bold\">)</span>,\n",
       "    <span style=\"color: #008000; text-decoration-color: #008000\">'grouper'</span>: <span style=\"color: #800080; text-decoration-color: #800080; font-style: italic\">None</span>,\n",
       "    <span style=\"color: #008000; text-decoration-color: #008000\">'preprocessor_config'</span>: <span style=\"color: #800080; text-decoration-color: #800080; font-weight: bold\">PreprocessorConfig</span><span style=\"font-weight: bold\">(</span>\n",
       "        <span style=\"color: #808000; text-decoration-color: #808000\">categorical_features</span>=<span style=\"color: #008000; text-decoration-color: #008000\">'label_encode'</span>,\n",
       "        <span style=\"color: #808000; text-decoration-color: #808000\">numeric_features</span>=<span style=\"color: #008000; text-decoration-color: #008000\">'kbins'</span>,\n",
       "        <span style=\"color: #808000; text-decoration-color: #808000\">domain_labels</span>=<span style=\"color: #008000; text-decoration-color: #008000\">'label_encode'</span>,\n",
       "        <span style=\"color: #808000; text-decoration-color: #808000\">passthrough_columns</span>=<span style=\"color: #800080; text-decoration-color: #800080; font-style: italic\">None</span>,\n",
       "        <span style=\"color: #808000; text-decoration-color: #808000\">dropna</span>=<span style=\"color: #800080; text-decoration-color: #800080; font-style: italic\">None</span>,\n",
       "        <span style=\"color: #808000; text-decoration-color: #808000\">use_extended_names</span>=<span style=\"color: #ff0000; text-decoration-color: #ff0000; font-style: italic\">False</span>,\n",
       "        <span style=\"color: #808000; text-decoration-color: #808000\">map_targets</span>=<span style=\"color: #ff0000; text-decoration-color: #ff0000; font-style: italic\">False</span>,\n",
       "        <span style=\"color: #808000; text-decoration-color: #808000\">cast_targets_to_default_type</span>=<span style=\"color: #ff0000; text-decoration-color: #ff0000; font-style: italic\">False</span>,\n",
       "        <span style=\"color: #808000; text-decoration-color: #808000\">min_frequency</span>=<span style=\"color: #800080; text-decoration-color: #800080; font-style: italic\">None</span>,\n",
       "        <span style=\"color: #808000; text-decoration-color: #808000\">max_categories</span>=<span style=\"color: #800080; text-decoration-color: #800080; font-style: italic\">None</span>,\n",
       "        <span style=\"color: #808000; text-decoration-color: #808000\">n_bins</span>=<span style=\"color: #008080; text-decoration-color: #008080; font-weight: bold\">100</span>,\n",
       "        <span style=\"color: #808000; text-decoration-color: #808000\">sub_illegal_chars</span>=<span style=\"color: #00ff00; text-decoration-color: #00ff00; font-style: italic\">True</span>\n",
       "    <span style=\"font-weight: bold\">)</span>,\n",
       "    <span style=\"color: #008000; text-decoration-color: #008000\">'tabular_dataset_kwargs'</span>: <span style=\"font-weight: bold\">{}</span>\n",
       "<span style=\"font-weight: bold\">}</span>\n",
       "</pre>\n"
      ],
      "text/plain": [
       "\u001b[1m{\u001b[0m\n",
       "    \u001b[32m'splitter'\u001b[0m: \u001b[1;35mDomainSplitter\u001b[0m\u001b[1m(\u001b[0m\n",
       "        \u001b[33mval_size\u001b[0m=\u001b[1;36m0\u001b[0m\u001b[1;36m.1\u001b[0m,\n",
       "        \u001b[33mrandom_state\u001b[0m=\u001b[1;36m264738\u001b[0m,\n",
       "        \u001b[33mid_test_size\u001b[0m=\u001b[1;36m0\u001b[0m\u001b[1;36m.1\u001b[0m,\n",
       "        \u001b[33mdomain_split_varname\u001b[0m=\u001b[32m'CCBASIC'\u001b[0m,\n",
       "        \u001b[33mdomain_split_ood_values\u001b[0m=\u001b[1m[\u001b[0m\n",
       "            \u001b[32m'Special Focus Institutions--Other special-focus institutions'\u001b[0m,\n",
       "            \u001b[32m'Special Focus Institutions--Theological seminaries, Bible colleges, and other faith-related \u001b[0m\n",
       "\u001b[32minstitutions'\u001b[0m,\n",
       "            \u001b[32m\"Associate's--Private For-profit 4-year Primarily Associate's\"\u001b[0m,\n",
       "            \u001b[32m'Baccalaureate Colleges--Diverse Fields'\u001b[0m,\n",
       "            \u001b[32m'Special Focus Institutions--Schools of art, music, and design'\u001b[0m,\n",
       "            \u001b[32m\"Associate's--Private Not-for-profit\"\u001b[0m,\n",
       "            \u001b[32m\"Baccalaureate/Associate's Colleges\"\u001b[0m,\n",
       "            \u001b[32m\"Master's Colleges and Universities \u001b[0m\u001b[32m(\u001b[0m\u001b[32mlarger programs\u001b[0m\u001b[32m)\u001b[0m\u001b[32m\"\u001b[0m\n",
       "        \u001b[1m]\u001b[0m,\n",
       "        \u001b[33mdomain_split_id_values\u001b[0m=\u001b[3;35mNone\u001b[0m,\n",
       "        \u001b[33mdomain_split_gt_thresh\u001b[0m=\u001b[3;35mNone\u001b[0m,\n",
       "        \u001b[33mdrop_domain_split_col\u001b[0m=\u001b[3;92mTrue\u001b[0m,\n",
       "        \u001b[33mood_val_size\u001b[0m=\u001b[1;36m0\u001b[0m\u001b[1;36m.1\u001b[0m\n",
       "    \u001b[1m)\u001b[0m,\n",
       "    \u001b[32m'grouper'\u001b[0m: \u001b[3;35mNone\u001b[0m,\n",
       "    \u001b[32m'preprocessor_config'\u001b[0m: \u001b[1;35mPreprocessorConfig\u001b[0m\u001b[1m(\u001b[0m\n",
       "        \u001b[33mcategorical_features\u001b[0m=\u001b[32m'label_encode'\u001b[0m,\n",
       "        \u001b[33mnumeric_features\u001b[0m=\u001b[32m'kbins'\u001b[0m,\n",
       "        \u001b[33mdomain_labels\u001b[0m=\u001b[32m'label_encode'\u001b[0m,\n",
       "        \u001b[33mpassthrough_columns\u001b[0m=\u001b[3;35mNone\u001b[0m,\n",
       "        \u001b[33mdropna\u001b[0m=\u001b[3;35mNone\u001b[0m,\n",
       "        \u001b[33muse_extended_names\u001b[0m=\u001b[3;91mFalse\u001b[0m,\n",
       "        \u001b[33mmap_targets\u001b[0m=\u001b[3;91mFalse\u001b[0m,\n",
       "        \u001b[33mcast_targets_to_default_type\u001b[0m=\u001b[3;91mFalse\u001b[0m,\n",
       "        \u001b[33mmin_frequency\u001b[0m=\u001b[3;35mNone\u001b[0m,\n",
       "        \u001b[33mmax_categories\u001b[0m=\u001b[3;35mNone\u001b[0m,\n",
       "        \u001b[33mn_bins\u001b[0m=\u001b[1;36m100\u001b[0m,\n",
       "        \u001b[33msub_illegal_chars\u001b[0m=\u001b[3;92mTrue\u001b[0m\n",
       "    \u001b[1m)\u001b[0m,\n",
       "    \u001b[32m'tabular_dataset_kwargs'\u001b[0m: \u001b[1m{\u001b[0m\u001b[1m}\u001b[0m\n",
       "\u001b[1m}\u001b[0m\n"
      ]
     },
     "metadata": {},
     "output_type": "display_data"
    }
   ],
   "source": [
    "name = \"college_scorecard\"\n",
    "expt_config = BENCHMARK_CONFIGS.get(name)\n",
    "rich_print(expt_config.__dict__);  # the `domain_split_varname` is the domain indicator"
   ]
  },
  {
   "cell_type": "code",
   "execution_count": 26,
   "id": "4fb3deb9",
   "metadata": {},
   "outputs": [
    {
     "name": "stdout",
     "output_type": "stream",
     "text": [
      "/Users/hgkahng/Workspaces/domain_adaptation/tmp/college_scorecard\n"
     ]
    }
   ],
   "source": [
    "cache_dir = Path(f\"../../tmp/{name}\").resolve()\n",
    "print(cache_dir)"
   ]
  },
  {
   "cell_type": "markdown",
   "id": "1c03a130",
   "metadata": {},
   "source": [
    "This dataset also requires a Kaggle API key."
   ]
  },
  {
   "cell_type": "code",
   "execution_count": null,
   "id": "5083c8ec",
   "metadata": {},
   "outputs": [],
   "source": [
    "# This raises a warning that bins are too small.\n",
    "# TODO: consider decreasing the number of bins `n_bins` in PreprocessorConfig\n",
    "\n",
    "from tableshift import get_dataset\n",
    "dset = get_dataset(name=name, cache_dir=cache_dir)"
   ]
  },
  {
   "cell_type": "code",
   "execution_count": 28,
   "id": "61fa3257",
   "metadata": {},
   "outputs": [
    {
     "data": {
      "text/plain": [
       "(124699, 120)"
      ]
     },
     "execution_count": 28,
     "metadata": {},
     "output_type": "execute_result"
    }
   ],
   "source": [
    "dset._df.shape"
   ]
  },
  {
   "cell_type": "code",
   "execution_count": 29,
   "id": "51fdf947",
   "metadata": {},
   "outputs": [],
   "source": [
    "X_tr, y_tr, _, d_tr = dset.get_pandas(split='train')"
   ]
  },
  {
   "cell_type": "code",
   "execution_count": 30,
   "id": "d12a063b",
   "metadata": {},
   "outputs": [
    {
     "data": {
      "text/plain": [
       "(98556, 118)"
      ]
     },
     "execution_count": 30,
     "metadata": {},
     "output_type": "execute_result"
    }
   ],
   "source": [
    "X_tr.shape"
   ]
  },
  {
   "cell_type": "code",
   "execution_count": 31,
   "id": "0d9279d7",
   "metadata": {},
   "outputs": [
    {
     "data": {
      "text/plain": [
       "(98556,)"
      ]
     },
     "execution_count": 31,
     "metadata": {},
     "output_type": "execute_result"
    }
   ],
   "source": [
    "y_tr.shape"
   ]
  },
  {
   "cell_type": "code",
   "execution_count": null,
   "id": "a88f3866",
   "metadata": {},
   "outputs": [
    {
     "data": {
      "text/plain": [
       "26"
      ]
     },
     "execution_count": 33,
     "metadata": {},
     "output_type": "execute_result"
    }
   ],
   "source": [
    "d_tr.unique().__len__()  # 26 unique training domains"
   ]
  },
  {
   "cell_type": "code",
   "execution_count": 34,
   "id": "f6f5f135",
   "metadata": {},
   "outputs": [],
   "source": [
    "X_te, y_te, _, d_te = dset.get_pandas(split='ood_test')"
   ]
  },
  {
   "cell_type": "code",
   "execution_count": null,
   "id": "807e14ff",
   "metadata": {},
   "outputs": [
    {
     "data": {
      "text/plain": [
       "8"
      ]
     },
     "execution_count": 35,
     "metadata": {},
     "output_type": "execute_result"
    }
   ],
   "source": [
    "d_te.unique().__len__()  # 8 testing domains"
   ]
  },
  {
   "cell_type": "markdown",
   "id": "2bdd71a2",
   "metadata": {},
   "source": [
    "## Childhood Lead (Work in Progress)\n",
    "- - The library `xport` fails to load `.xpt` files."
   ]
  },
  {
   "cell_type": "code",
   "execution_count": 4,
   "id": "f2fabfe7",
   "metadata": {},
   "outputs": [
    {
     "data": {
      "text/html": [
       "<pre style=\"white-space:pre;overflow-x:auto;line-height:normal;font-family:Menlo,'DejaVu Sans Mono',consolas,'Courier New',monospace\"><span style=\"font-weight: bold\">{</span>\n",
       "    <span style=\"color: #008000; text-decoration-color: #008000\">'splitter'</span>: <span style=\"color: #800080; text-decoration-color: #800080; font-weight: bold\">DomainSplitter</span><span style=\"font-weight: bold\">(</span>\n",
       "        <span style=\"color: #808000; text-decoration-color: #808000\">val_size</span>=<span style=\"color: #008080; text-decoration-color: #008080; font-weight: bold\">0.1</span>,\n",
       "        <span style=\"color: #808000; text-decoration-color: #808000\">random_state</span>=<span style=\"color: #008080; text-decoration-color: #008080; font-weight: bold\">264738</span>,\n",
       "        <span style=\"color: #808000; text-decoration-color: #808000\">id_test_size</span>=<span style=\"color: #008080; text-decoration-color: #008080; font-weight: bold\">0.1</span>,\n",
       "        <span style=\"color: #808000; text-decoration-color: #808000\">domain_split_varname</span>=<span style=\"color: #008000; text-decoration-color: #008000\">'INDFMPIRBelowCutoff'</span>,\n",
       "        <span style=\"color: #808000; text-decoration-color: #808000\">domain_split_ood_values</span>=<span style=\"font-weight: bold\">[</span><span style=\"color: #008080; text-decoration-color: #008080; font-weight: bold\">1.0</span><span style=\"font-weight: bold\">]</span>,\n",
       "        <span style=\"color: #808000; text-decoration-color: #808000\">domain_split_id_values</span>=<span style=\"color: #800080; text-decoration-color: #800080; font-style: italic\">None</span>,\n",
       "        <span style=\"color: #808000; text-decoration-color: #808000\">domain_split_gt_thresh</span>=<span style=\"color: #800080; text-decoration-color: #800080; font-style: italic\">None</span>,\n",
       "        <span style=\"color: #808000; text-decoration-color: #808000\">drop_domain_split_col</span>=<span style=\"color: #00ff00; text-decoration-color: #00ff00; font-style: italic\">True</span>,\n",
       "        <span style=\"color: #808000; text-decoration-color: #808000\">ood_val_size</span>=<span style=\"color: #008080; text-decoration-color: #008080; font-weight: bold\">0.1</span>\n",
       "    <span style=\"font-weight: bold\">)</span>,\n",
       "    <span style=\"color: #008000; text-decoration-color: #008000\">'grouper'</span>: <span style=\"color: #800080; text-decoration-color: #800080; font-weight: bold\">Grouper</span><span style=\"font-weight: bold\">(</span>\n",
       "        <span style=\"color: #808000; text-decoration-color: #808000\">features_and_values</span>=<span style=\"font-weight: bold\">{</span><span style=\"color: #008000; text-decoration-color: #008000\">'RIDRETH_merged'</span>: <span style=\"font-weight: bold\">[</span><span style=\"color: #008080; text-decoration-color: #008080; font-weight: bold\">3</span><span style=\"font-weight: bold\">]</span>, <span style=\"color: #008000; text-decoration-color: #008000\">'RIAGENDR'</span>: <span style=\"font-weight: bold\">[</span><span style=\"color: #008000; text-decoration-color: #008000\">'1.0'</span><span style=\"font-weight: bold\">]}</span>,\n",
       "        <span style=\"color: #808000; text-decoration-color: #808000\">drop</span>=<span style=\"color: #ff0000; text-decoration-color: #ff0000; font-style: italic\">False</span>,\n",
       "        <span style=\"color: #808000; text-decoration-color: #808000\">transformer</span>=<span style=\"color: #800080; text-decoration-color: #800080; font-style: italic\">None</span>\n",
       "    <span style=\"font-weight: bold\">)</span>,\n",
       "    <span style=\"color: #008000; text-decoration-color: #008000\">'preprocessor_config'</span>: <span style=\"color: #800080; text-decoration-color: #800080; font-weight: bold\">PreprocessorConfig</span><span style=\"font-weight: bold\">(</span>\n",
       "        <span style=\"color: #808000; text-decoration-color: #808000\">categorical_features</span>=<span style=\"color: #008000; text-decoration-color: #008000\">'one_hot'</span>,\n",
       "        <span style=\"color: #808000; text-decoration-color: #808000\">numeric_features</span>=<span style=\"color: #008000; text-decoration-color: #008000\">'kbins'</span>,\n",
       "        <span style=\"color: #808000; text-decoration-color: #808000\">domain_labels</span>=<span style=\"color: #008000; text-decoration-color: #008000\">'label_encode'</span>,\n",
       "        <span style=\"color: #808000; text-decoration-color: #808000\">passthrough_columns</span>=<span style=\"font-weight: bold\">[</span><span style=\"color: #008000; text-decoration-color: #008000\">'nhanes_year'</span><span style=\"font-weight: bold\">]</span>,\n",
       "        <span style=\"color: #808000; text-decoration-color: #808000\">dropna</span>=<span style=\"color: #008000; text-decoration-color: #008000\">'rows'</span>,\n",
       "        <span style=\"color: #808000; text-decoration-color: #808000\">use_extended_names</span>=<span style=\"color: #ff0000; text-decoration-color: #ff0000; font-style: italic\">False</span>,\n",
       "        <span style=\"color: #808000; text-decoration-color: #808000\">map_targets</span>=<span style=\"color: #ff0000; text-decoration-color: #ff0000; font-style: italic\">False</span>,\n",
       "        <span style=\"color: #808000; text-decoration-color: #808000\">cast_targets_to_default_type</span>=<span style=\"color: #ff0000; text-decoration-color: #ff0000; font-style: italic\">False</span>,\n",
       "        <span style=\"color: #808000; text-decoration-color: #808000\">min_frequency</span>=<span style=\"color: #800080; text-decoration-color: #800080; font-style: italic\">None</span>,\n",
       "        <span style=\"color: #808000; text-decoration-color: #808000\">max_categories</span>=<span style=\"color: #800080; text-decoration-color: #800080; font-style: italic\">None</span>,\n",
       "        <span style=\"color: #808000; text-decoration-color: #808000\">n_bins</span>=<span style=\"color: #008080; text-decoration-color: #008080; font-weight: bold\">5</span>,\n",
       "        <span style=\"color: #808000; text-decoration-color: #808000\">sub_illegal_chars</span>=<span style=\"color: #00ff00; text-decoration-color: #00ff00; font-style: italic\">True</span>\n",
       "    <span style=\"font-weight: bold\">)</span>,\n",
       "    <span style=\"color: #008000; text-decoration-color: #008000\">'tabular_dataset_kwargs'</span>: <span style=\"font-weight: bold\">{</span>\n",
       "        <span style=\"color: #008000; text-decoration-color: #008000\">'nhanes_task'</span>: <span style=\"color: #008000; text-decoration-color: #008000\">'lead'</span>,\n",
       "        <span style=\"color: #008000; text-decoration-color: #008000\">'years'</span>: <span style=\"font-weight: bold\">[</span><span style=\"color: #008080; text-decoration-color: #008080; font-weight: bold\">1999</span>, <span style=\"color: #008080; text-decoration-color: #008080; font-weight: bold\">2001</span>, <span style=\"color: #008080; text-decoration-color: #008080; font-weight: bold\">2003</span>, <span style=\"color: #008080; text-decoration-color: #008080; font-weight: bold\">2005</span>, <span style=\"color: #008080; text-decoration-color: #008080; font-weight: bold\">2007</span>, <span style=\"color: #008080; text-decoration-color: #008080; font-weight: bold\">2009</span>, <span style=\"color: #008080; text-decoration-color: #008080; font-weight: bold\">2011</span>, <span style=\"color: #008080; text-decoration-color: #008080; font-weight: bold\">2013</span>, <span style=\"color: #008080; text-decoration-color: #008080; font-weight: bold\">2015</span>, <span style=\"color: #008080; text-decoration-color: #008080; font-weight: bold\">2017</span><span style=\"font-weight: bold\">]</span>\n",
       "    <span style=\"font-weight: bold\">}</span>\n",
       "<span style=\"font-weight: bold\">}</span>\n",
       "</pre>\n"
      ],
      "text/plain": [
       "\u001b[1m{\u001b[0m\n",
       "    \u001b[32m'splitter'\u001b[0m: \u001b[1;35mDomainSplitter\u001b[0m\u001b[1m(\u001b[0m\n",
       "        \u001b[33mval_size\u001b[0m=\u001b[1;36m0\u001b[0m\u001b[1;36m.1\u001b[0m,\n",
       "        \u001b[33mrandom_state\u001b[0m=\u001b[1;36m264738\u001b[0m,\n",
       "        \u001b[33mid_test_size\u001b[0m=\u001b[1;36m0\u001b[0m\u001b[1;36m.1\u001b[0m,\n",
       "        \u001b[33mdomain_split_varname\u001b[0m=\u001b[32m'INDFMPIRBelowCutoff'\u001b[0m,\n",
       "        \u001b[33mdomain_split_ood_values\u001b[0m=\u001b[1m[\u001b[0m\u001b[1;36m1.0\u001b[0m\u001b[1m]\u001b[0m,\n",
       "        \u001b[33mdomain_split_id_values\u001b[0m=\u001b[3;35mNone\u001b[0m,\n",
       "        \u001b[33mdomain_split_gt_thresh\u001b[0m=\u001b[3;35mNone\u001b[0m,\n",
       "        \u001b[33mdrop_domain_split_col\u001b[0m=\u001b[3;92mTrue\u001b[0m,\n",
       "        \u001b[33mood_val_size\u001b[0m=\u001b[1;36m0\u001b[0m\u001b[1;36m.1\u001b[0m\n",
       "    \u001b[1m)\u001b[0m,\n",
       "    \u001b[32m'grouper'\u001b[0m: \u001b[1;35mGrouper\u001b[0m\u001b[1m(\u001b[0m\n",
       "        \u001b[33mfeatures_and_values\u001b[0m=\u001b[1m{\u001b[0m\u001b[32m'RIDRETH_merged'\u001b[0m: \u001b[1m[\u001b[0m\u001b[1;36m3\u001b[0m\u001b[1m]\u001b[0m, \u001b[32m'RIAGENDR'\u001b[0m: \u001b[1m[\u001b[0m\u001b[32m'1.0'\u001b[0m\u001b[1m]\u001b[0m\u001b[1m}\u001b[0m,\n",
       "        \u001b[33mdrop\u001b[0m=\u001b[3;91mFalse\u001b[0m,\n",
       "        \u001b[33mtransformer\u001b[0m=\u001b[3;35mNone\u001b[0m\n",
       "    \u001b[1m)\u001b[0m,\n",
       "    \u001b[32m'preprocessor_config'\u001b[0m: \u001b[1;35mPreprocessorConfig\u001b[0m\u001b[1m(\u001b[0m\n",
       "        \u001b[33mcategorical_features\u001b[0m=\u001b[32m'one_hot'\u001b[0m,\n",
       "        \u001b[33mnumeric_features\u001b[0m=\u001b[32m'kbins'\u001b[0m,\n",
       "        \u001b[33mdomain_labels\u001b[0m=\u001b[32m'label_encode'\u001b[0m,\n",
       "        \u001b[33mpassthrough_columns\u001b[0m=\u001b[1m[\u001b[0m\u001b[32m'nhanes_year'\u001b[0m\u001b[1m]\u001b[0m,\n",
       "        \u001b[33mdropna\u001b[0m=\u001b[32m'rows'\u001b[0m,\n",
       "        \u001b[33muse_extended_names\u001b[0m=\u001b[3;91mFalse\u001b[0m,\n",
       "        \u001b[33mmap_targets\u001b[0m=\u001b[3;91mFalse\u001b[0m,\n",
       "        \u001b[33mcast_targets_to_default_type\u001b[0m=\u001b[3;91mFalse\u001b[0m,\n",
       "        \u001b[33mmin_frequency\u001b[0m=\u001b[3;35mNone\u001b[0m,\n",
       "        \u001b[33mmax_categories\u001b[0m=\u001b[3;35mNone\u001b[0m,\n",
       "        \u001b[33mn_bins\u001b[0m=\u001b[1;36m5\u001b[0m,\n",
       "        \u001b[33msub_illegal_chars\u001b[0m=\u001b[3;92mTrue\u001b[0m\n",
       "    \u001b[1m)\u001b[0m,\n",
       "    \u001b[32m'tabular_dataset_kwargs'\u001b[0m: \u001b[1m{\u001b[0m\n",
       "        \u001b[32m'nhanes_task'\u001b[0m: \u001b[32m'lead'\u001b[0m,\n",
       "        \u001b[32m'years'\u001b[0m: \u001b[1m[\u001b[0m\u001b[1;36m1999\u001b[0m, \u001b[1;36m2001\u001b[0m, \u001b[1;36m2003\u001b[0m, \u001b[1;36m2005\u001b[0m, \u001b[1;36m2007\u001b[0m, \u001b[1;36m2009\u001b[0m, \u001b[1;36m2011\u001b[0m, \u001b[1;36m2013\u001b[0m, \u001b[1;36m2015\u001b[0m, \u001b[1;36m2017\u001b[0m\u001b[1m]\u001b[0m\n",
       "    \u001b[1m}\u001b[0m\n",
       "\u001b[1m}\u001b[0m\n"
      ]
     },
     "metadata": {},
     "output_type": "display_data"
    }
   ],
   "source": [
    "name = \"nhanes_lead\"\n",
    "expt_config = BENCHMARK_CONFIGS.get(name)\n",
    "rich_print(expt_config.__dict__);  # the `domain_split_varname` is the domain indicator"
   ]
  },
  {
   "cell_type": "code",
   "execution_count": 5,
   "id": "cc4e35d4",
   "metadata": {},
   "outputs": [
    {
     "name": "stdout",
     "output_type": "stream",
     "text": [
      "/Users/hgkahng/Workspaces/domain_adaptation/tmp/nhanes_lead\n"
     ]
    }
   ],
   "source": [
    "cache_dir = Path(f\"../../tmp/{name}\").resolve()\n",
    "print(cache_dir)"
   ]
  },
  {
   "cell_type": "code",
   "execution_count": 6,
   "id": "99700542",
   "metadata": {},
   "outputs": [
    {
     "name": "stderr",
     "output_type": "stream",
     "text": [
      "ERROR:xport.v56:Document begins with\n",
      "b'<!DOCTYPE html>\\r\\n<html lang=\"en-us\" class=\"cdc-2022 theme-blue cdc-root-home hom'\n",
      "b'e-2022 cdc-page-type-2022home cdc-tp5\" >\\r\\n<head>\\r\\n\\t<title>Page Not Found | CDC</'\n",
      "b'title>\\r\\n\\t<meta name=\"description\" content=\"Page Not Found | CDC\" />\\r\\n\\t<meta name'\n",
      "b'=\"date\" content=\"2024-05-02T11:44:27.140Z\">\\r\\n\\r\\n\\t<meta charset=\"UTF-8\" />\\r\\n\\t<meta'\n",
      "b' http-equiv=\"X-UA-Compatible\" content=\"IE=Edge\" />\\r\\n\\t<meta content=\"width=device'\n",
      "b'-width, initial-scale=1, shrink-to-fit=no\" name=\"viewport\" />\\r\\n\\t<meta name=\"mobi'\n",
      "b'le-web-app-capable\" content=\"yes\" />\\r\\n\\t<meta name=\"apple-mobile-web-app-capable\"'\n",
      "b' content=\"yes\" />\\r\\n\\t<link rel=\"apple-touch-icon\" sizes=\"180x180\" href=\"/Template'\n"
     ]
    },
    {
     "ename": "ValueError",
     "evalue": "Document does not match SAS Version 5 or 6 Transport (XPORT) format",
     "output_type": "error",
     "traceback": [
      "\u001b[0;31m---------------------------------------------------------------------------\u001b[0m",
      "\u001b[0;31mValueError\u001b[0m                                Traceback (most recent call last)",
      "Cell \u001b[0;32mIn[6], line 2\u001b[0m\n\u001b[1;32m      1\u001b[0m \u001b[38;5;28;01mfrom\u001b[39;00m \u001b[38;5;21;01mtableshift\u001b[39;00m \u001b[38;5;28;01mimport\u001b[39;00m get_dataset\n\u001b[0;32m----> 2\u001b[0m dset \u001b[38;5;241m=\u001b[39m \u001b[43mget_dataset\u001b[49m\u001b[43m(\u001b[49m\u001b[43mname\u001b[49m\u001b[38;5;241;43m=\u001b[39;49m\u001b[43mname\u001b[49m\u001b[43m,\u001b[49m\u001b[43m \u001b[49m\u001b[43mcache_dir\u001b[49m\u001b[38;5;241;43m=\u001b[39;49m\u001b[43mcache_dir\u001b[49m\u001b[43m)\u001b[49m\n",
      "File \u001b[0;32m/opt/miniconda3/envs/tableshift/lib/python3.10/site-packages/tableshift/core/getters.py:62\u001b[0m, in \u001b[0;36mget_dataset\u001b[0;34m(name, cache_dir, preprocessor_config, initialize_data, use_cached, **kwargs)\u001b[0m\n\u001b[1;32m     59\u001b[0m     preprocessor_config \u001b[38;5;241m=\u001b[39m expt_config\u001b[38;5;241m.\u001b[39mpreprocessor_config\n\u001b[1;32m     61\u001b[0m \u001b[38;5;28;01mif\u001b[39;00m \u001b[38;5;129;01mnot\u001b[39;00m use_cached:\n\u001b[0;32m---> 62\u001b[0m     dset \u001b[38;5;241m=\u001b[39m \u001b[43mTabularDataset\u001b[49m\u001b[43m(\u001b[49m\n\u001b[1;32m     63\u001b[0m \u001b[43m        \u001b[49m\u001b[43mconfig\u001b[49m\u001b[38;5;241;43m=\u001b[39;49m\u001b[43mdataset_config\u001b[49m\u001b[43m,\u001b[49m\n\u001b[1;32m     64\u001b[0m \u001b[43m        \u001b[49m\u001b[43msplitter\u001b[49m\u001b[38;5;241;43m=\u001b[39;49m\u001b[43mexpt_config\u001b[49m\u001b[38;5;241;43m.\u001b[39;49m\u001b[43msplitter\u001b[49m\u001b[43m,\u001b[49m\n\u001b[1;32m     65\u001b[0m \u001b[43m        \u001b[49m\u001b[43mgrouper\u001b[49m\u001b[38;5;241;43m=\u001b[39;49m\u001b[43mkwargs\u001b[49m\u001b[38;5;241;43m.\u001b[39;49m\u001b[43mget\u001b[49m\u001b[43m(\u001b[49m\u001b[38;5;124;43m\"\u001b[39;49m\u001b[38;5;124;43mgrouper\u001b[39;49m\u001b[38;5;124;43m\"\u001b[39;49m\u001b[43m,\u001b[49m\u001b[43m \u001b[49m\u001b[43mexpt_config\u001b[49m\u001b[38;5;241;43m.\u001b[39;49m\u001b[43mgrouper\u001b[49m\u001b[43m)\u001b[49m\u001b[43m,\u001b[49m\n\u001b[1;32m     66\u001b[0m \u001b[43m        \u001b[49m\u001b[43mpreprocessor_config\u001b[49m\u001b[38;5;241;43m=\u001b[39;49m\u001b[43mpreprocessor_config\u001b[49m\u001b[43m,\u001b[49m\n\u001b[1;32m     67\u001b[0m \u001b[43m        \u001b[49m\u001b[43minitialize_data\u001b[49m\u001b[38;5;241;43m=\u001b[39;49m\u001b[43minitialize_data\u001b[49m\u001b[43m,\u001b[49m\n\u001b[1;32m     68\u001b[0m \u001b[43m        \u001b[49m\u001b[38;5;241;43m*\u001b[39;49m\u001b[38;5;241;43m*\u001b[39;49m\u001b[43mtabular_dataset_kwargs\u001b[49m\u001b[43m)\u001b[49m\n\u001b[1;32m     69\u001b[0m \u001b[38;5;28;01melse\u001b[39;00m:\n\u001b[1;32m     70\u001b[0m     dset \u001b[38;5;241m=\u001b[39m CachedDataset(config\u001b[38;5;241m=\u001b[39mdataset_config,\n\u001b[1;32m     71\u001b[0m                          splitter\u001b[38;5;241m=\u001b[39mexpt_config\u001b[38;5;241m.\u001b[39msplitter,\n\u001b[1;32m     72\u001b[0m                          grouper\u001b[38;5;241m=\u001b[39mkwargs\u001b[38;5;241m.\u001b[39mget(\u001b[38;5;124m\"\u001b[39m\u001b[38;5;124mgrouper\u001b[39m\u001b[38;5;124m\"\u001b[39m, expt_config\u001b[38;5;241m.\u001b[39mgrouper),\n\u001b[1;32m     73\u001b[0m                          preprocessor_config\u001b[38;5;241m=\u001b[39mpreprocessor_config,\n\u001b[1;32m     74\u001b[0m                          initialize_data\u001b[38;5;241m=\u001b[39minitialize_data,\n\u001b[1;32m     75\u001b[0m                          name\u001b[38;5;241m=\u001b[39mname)\n",
      "File \u001b[0;32m/opt/miniconda3/envs/tableshift/lib/python3.10/site-packages/tableshift/core/tabular_dataset.py:224\u001b[0m, in \u001b[0;36mTabularDataset.__init__\u001b[0;34m(self, name, config, splitter, preprocessor_config, grouper, initialize_data, task_config, **kwargs)\u001b[0m\n\u001b[1;32m    221\u001b[0m \u001b[38;5;28mself\u001b[39m\u001b[38;5;241m.\u001b[39m_df: Union[pd\u001b[38;5;241m.\u001b[39mDataFrame, \u001b[38;5;28;01mNone\u001b[39;00m] \u001b[38;5;241m=\u001b[39m \u001b[38;5;28;01mNone\u001b[39;00m  \u001b[38;5;66;03m# holds all the data\u001b[39;00m\n\u001b[1;32m    223\u001b[0m \u001b[38;5;28;01mif\u001b[39;00m initialize_data:\n\u001b[0;32m--> 224\u001b[0m     \u001b[38;5;28;43mself\u001b[39;49m\u001b[38;5;241;43m.\u001b[39;49m\u001b[43m_initialize_data\u001b[49m\u001b[43m(\u001b[49m\u001b[43m)\u001b[49m\n",
      "File \u001b[0;32m/opt/miniconda3/envs/tableshift/lib/python3.10/site-packages/tableshift/core/tabular_dataset.py:301\u001b[0m, in \u001b[0;36mTabularDataset._initialize_data\u001b[0;34m(self)\u001b[0m\n\u001b[1;32m    299\u001b[0m \u001b[38;5;28;01mdef\u001b[39;00m \u001b[38;5;21m_initialize_data\u001b[39m(\u001b[38;5;28mself\u001b[39m):\n\u001b[1;32m    300\u001b[0m     \u001b[38;5;124;03m\"\"\"Load the data/labels/groups from a data source.\"\"\"\u001b[39;00m\n\u001b[0;32m--> 301\u001b[0m     data \u001b[38;5;241m=\u001b[39m \u001b[38;5;28;43mself\u001b[39;49m\u001b[38;5;241;43m.\u001b[39;49m\u001b[43mdata_source\u001b[49m\u001b[38;5;241;43m.\u001b[39;49m\u001b[43mget_data\u001b[49m\u001b[43m(\u001b[49m\u001b[43m)\u001b[49m\n\u001b[1;32m    302\u001b[0m     data \u001b[38;5;241m=\u001b[39m \u001b[38;5;28mself\u001b[39m\u001b[38;5;241m.\u001b[39m_check_data_source(data)\n\u001b[1;32m    303\u001b[0m     data \u001b[38;5;241m=\u001b[39m \u001b[38;5;28mself\u001b[39m\u001b[38;5;241m.\u001b[39mtask_config\u001b[38;5;241m.\u001b[39mfeature_list\u001b[38;5;241m.\u001b[39mapply_schema(\n\u001b[1;32m    304\u001b[0m         data, passthrough_columns\u001b[38;5;241m=\u001b[39m[\u001b[38;5;124m\"\u001b[39m\u001b[38;5;124mSplit\u001b[39m\u001b[38;5;124m\"\u001b[39m])\n",
      "File \u001b[0;32m/opt/miniconda3/envs/tableshift/lib/python3.10/site-packages/tableshift/core/data_source.py:74\u001b[0m, in \u001b[0;36mDataSource.get_data\u001b[0;34m(self)\u001b[0m\n\u001b[1;32m     72\u001b[0m \u001b[38;5;124;03m\"\"\"Fetch data from local cache or download if necessary.\"\"\"\u001b[39;00m\n\u001b[1;32m     73\u001b[0m \u001b[38;5;28mself\u001b[39m\u001b[38;5;241m.\u001b[39m_download_if_not_cached()\n\u001b[0;32m---> 74\u001b[0m raw_data \u001b[38;5;241m=\u001b[39m \u001b[38;5;28;43mself\u001b[39;49m\u001b[38;5;241;43m.\u001b[39;49m\u001b[43m_load_data\u001b[49m\u001b[43m(\u001b[49m\u001b[43m)\u001b[49m\n\u001b[1;32m     75\u001b[0m \u001b[38;5;28;01mreturn\u001b[39;00m \u001b[38;5;28mself\u001b[39m\u001b[38;5;241m.\u001b[39mpreprocess_fn(raw_data)\n",
      "File \u001b[0;32m/opt/miniconda3/envs/tableshift/lib/python3.10/site-packages/tableshift/core/data_source.py:343\u001b[0m, in \u001b[0;36mNHANESDataSource._load_data\u001b[0;34m(self)\u001b[0m\n\u001b[1;32m    341\u001b[0m \u001b[38;5;28;01mif\u001b[39;00m year \u001b[38;5;129;01min\u001b[39;00m \u001b[38;5;28mself\u001b[39m\u001b[38;5;241m.\u001b[39myears:\n\u001b[1;32m    342\u001b[0m     logging\u001b[38;5;241m.\u001b[39mdebug(\u001b[38;5;124mf\u001b[39m\u001b[38;5;124m\"\u001b[39m\u001b[38;5;124mreading \u001b[39m\u001b[38;5;132;01m{\u001b[39;00mf\u001b[38;5;132;01m}\u001b[39;00m\u001b[38;5;124m\"\u001b[39m)\n\u001b[0;32m--> 343\u001b[0m     df \u001b[38;5;241m=\u001b[39m \u001b[43mutils\u001b[49m\u001b[38;5;241;43m.\u001b[39;49m\u001b[43mread_xpt\u001b[49m\u001b[43m(\u001b[49m\u001b[43mf\u001b[49m\u001b[43m)\u001b[49m\n\u001b[1;32m    344\u001b[0m     \u001b[38;5;28;01mtry\u001b[39;00m:\n\u001b[1;32m    345\u001b[0m         df\u001b[38;5;241m.\u001b[39mset_index(\u001b[38;5;124m\"\u001b[39m\u001b[38;5;124mSEQN\u001b[39m\u001b[38;5;124m\"\u001b[39m, inplace\u001b[38;5;241m=\u001b[39m\u001b[38;5;28;01mTrue\u001b[39;00m)\n",
      "File \u001b[0;32m/opt/miniconda3/envs/tableshift/lib/python3.10/site-packages/tableshift/core/utils.py:55\u001b[0m, in \u001b[0;36mread_xpt\u001b[0;34m(fp)\u001b[0m\n\u001b[1;32m     53\u001b[0m \u001b[38;5;28;01massert\u001b[39;00m os\u001b[38;5;241m.\u001b[39mpath\u001b[38;5;241m.\u001b[39mexists(fp), \u001b[38;5;124m\"\u001b[39m\u001b[38;5;124mfile does not exist \u001b[39m\u001b[38;5;132;01m%s\u001b[39;00m\u001b[38;5;124m\"\u001b[39m \u001b[38;5;241m%\u001b[39m fp\n\u001b[1;32m     54\u001b[0m \u001b[38;5;28;01mwith\u001b[39;00m \u001b[38;5;28mopen\u001b[39m(fp, \u001b[38;5;124m\"\u001b[39m\u001b[38;5;124mrb\u001b[39m\u001b[38;5;124m\"\u001b[39m) \u001b[38;5;28;01mas\u001b[39;00m f:\n\u001b[0;32m---> 55\u001b[0m     obj \u001b[38;5;241m=\u001b[39m \u001b[43mxport\u001b[49m\u001b[38;5;241;43m.\u001b[39;49m\u001b[43mv89\u001b[49m\u001b[38;5;241;43m.\u001b[39;49m\u001b[43mload\u001b[49m\u001b[43m(\u001b[49m\u001b[43mf\u001b[49m\u001b[43m)\u001b[49m\n\u001b[1;32m     56\u001b[0m     \u001b[38;5;66;03m#obj = xport.v56.load(f)\u001b[39;00m\n\u001b[1;32m     57\u001b[0m \u001b[38;5;66;03m# index into SAS structure, assuming there is only one dataframe\u001b[39;00m\n\u001b[1;32m     58\u001b[0m \u001b[38;5;28;01massert\u001b[39;00m \u001b[38;5;28mlen\u001b[39m(\u001b[38;5;28mtuple\u001b[39m(obj\u001b[38;5;241m.\u001b[39m_members\u001b[38;5;241m.\u001b[39mkeys())) \u001b[38;5;241m==\u001b[39m \u001b[38;5;241m1\u001b[39m\n",
      "File \u001b[0;32m/opt/miniconda3/envs/tableshift/lib/python3.10/site-packages/xport/v89.py:292\u001b[0m, in \u001b[0;36mload\u001b[0;34m(fp)\u001b[0m\n\u001b[1;32m    290\u001b[0m \u001b[38;5;28;01mexcept\u001b[39;00m \u001b[38;5;167;01mUnicodeDecodeError\u001b[39;00m:\n\u001b[1;32m    291\u001b[0m     \u001b[38;5;28;01mraise\u001b[39;00m \u001b[38;5;167;01mTypeError\u001b[39;00m(\u001b[38;5;124mf\u001b[39m\u001b[38;5;124m'\u001b[39m\u001b[38;5;124mExpected a BufferedReader in bytes-mode, got \u001b[39m\u001b[38;5;132;01m{\u001b[39;00m\u001b[38;5;28mtype\u001b[39m(fp)\u001b[38;5;241m.\u001b[39m\u001b[38;5;18m__name__\u001b[39m\u001b[38;5;132;01m}\u001b[39;00m\u001b[38;5;124m'\u001b[39m)\n\u001b[0;32m--> 292\u001b[0m \u001b[38;5;28;01mreturn\u001b[39;00m \u001b[43mloads\u001b[49m\u001b[43m(\u001b[49m\u001b[43mbytestring\u001b[49m\u001b[43m)\u001b[49m\n",
      "File \u001b[0;32m/opt/miniconda3/envs/tableshift/lib/python3.10/site-packages/xport/v89.py:303\u001b[0m, in \u001b[0;36mloads\u001b[0;34m(bytestring)\u001b[0m\n\u001b[1;32m    295\u001b[0m \u001b[38;5;28;01mdef\u001b[39;00m \u001b[38;5;21mloads\u001b[39m(bytestring):\n\u001b[1;32m    296\u001b[0m     \u001b[38;5;124;03m\"\"\"\u001b[39;00m\n\u001b[1;32m    297\u001b[0m \u001b[38;5;124;03m    Deserialize a dataset library from an XPORT-format string.\u001b[39;00m\n\u001b[1;32m    298\u001b[0m \n\u001b[0;32m   (...)\u001b[0m\n\u001b[1;32m    301\u001b[0m \u001b[38;5;124;03m        >>> library = loads(bytestring)\u001b[39;00m\n\u001b[1;32m    302\u001b[0m \u001b[38;5;124;03m    \"\"\"\u001b[39;00m\n\u001b[0;32m--> 303\u001b[0m     \u001b[38;5;28;01mreturn\u001b[39;00m \u001b[43mLibrary\u001b[49m\u001b[38;5;241;43m.\u001b[39;49m\u001b[43mfrom_bytes\u001b[49m\u001b[43m(\u001b[49m\u001b[43mbytestring\u001b[49m\u001b[43m)\u001b[49m\n",
      "File \u001b[0;32m/opt/miniconda3/envs/tableshift/lib/python3.10/site-packages/xport/v89.py:51\u001b[0m, in \u001b[0;36mLibrary.from_bytes\u001b[0;34m(cls, bytestring)\u001b[0m\n\u001b[1;32m     46\u001b[0m \u001b[38;5;129m@classmethod\u001b[39m\n\u001b[1;32m     47\u001b[0m \u001b[38;5;28;01mdef\u001b[39;00m \u001b[38;5;21mfrom_bytes\u001b[39m(\u001b[38;5;28mcls\u001b[39m, bytestring):\n\u001b[1;32m     48\u001b[0m     \u001b[38;5;124;03m\"\"\"\u001b[39;00m\n\u001b[1;32m     49\u001b[0m \u001b[38;5;124;03m    Construct a ``Library`` from an XPORT-format bytes string.\u001b[39;00m\n\u001b[1;32m     50\u001b[0m \u001b[38;5;124;03m    \"\"\"\u001b[39;00m\n\u001b[0;32m---> 51\u001b[0m     \u001b[38;5;28;01mreturn\u001b[39;00m \u001b[38;5;28;43msuper\u001b[39;49m\u001b[43m(\u001b[49m\u001b[43m)\u001b[49m\u001b[38;5;241;43m.\u001b[39;49m\u001b[43mfrom_bytes\u001b[49m\u001b[43m(\u001b[49m\u001b[43mbytestring\u001b[49m\u001b[43m,\u001b[49m\u001b[43m \u001b[49m\u001b[43mMemberHeader\u001b[49m\u001b[38;5;241;43m=\u001b[39;49m\u001b[43mMemberHeader\u001b[49m\u001b[43m,\u001b[49m\u001b[43m \u001b[49m\u001b[43mMember\u001b[49m\u001b[38;5;241;43m=\u001b[39;49m\u001b[43mMember\u001b[49m\u001b[43m)\u001b[49m\n",
      "File \u001b[0;32m/opt/miniconda3/envs/tableshift/lib/python3.10/site-packages/xport/v56.py:730\u001b[0m, in \u001b[0;36mLibrary.from_bytes\u001b[0;34m(cls, bytestring, MemberHeader, Member)\u001b[0m\n\u001b[1;32m    728\u001b[0m     lines \u001b[38;5;241m=\u001b[39m [mview[i \u001b[38;5;241m*\u001b[39m \u001b[38;5;241m80\u001b[39m:(i \u001b[38;5;241m+\u001b[39m \u001b[38;5;241m1\u001b[39m) \u001b[38;5;241m*\u001b[39m \u001b[38;5;241m80\u001b[39m]\u001b[38;5;241m.\u001b[39mtobytes() \u001b[38;5;28;01mfor\u001b[39;00m i \u001b[38;5;129;01min\u001b[39;00m \u001b[38;5;28mrange\u001b[39m(\u001b[38;5;241m8\u001b[39m)]\n\u001b[1;32m    729\u001b[0m     LOG\u001b[38;5;241m.\u001b[39merror(\u001b[38;5;124m'\u001b[39m\u001b[38;5;124mDocument begins with\u001b[39m\u001b[38;5;124m'\u001b[39m \u001b[38;5;241m+\u001b[39m \u001b[38;5;124m'\u001b[39m\u001b[38;5;130;01m\\n\u001b[39;00m\u001b[38;5;132;01m%s\u001b[39;00m\u001b[38;5;124m'\u001b[39m \u001b[38;5;241m*\u001b[39m \u001b[38;5;28mlen\u001b[39m(lines), \u001b[38;5;241m*\u001b[39mlines)\n\u001b[0;32m--> 730\u001b[0m     \u001b[38;5;28;01mraise\u001b[39;00m \u001b[38;5;167;01mValueError\u001b[39;00m(\u001b[38;5;124m'\u001b[39m\u001b[38;5;124mDocument does not match SAS Version 5 or 6 Transport (XPORT) format\u001b[39m\u001b[38;5;124m'\u001b[39m)\n\u001b[1;32m    732\u001b[0m matches \u001b[38;5;241m=\u001b[39m MemberHeader\u001b[38;5;241m.\u001b[39mpattern\u001b[38;5;241m.\u001b[39mfinditer(mview)\n\u001b[1;32m    733\u001b[0m indices \u001b[38;5;241m=\u001b[39m [m\u001b[38;5;241m.\u001b[39mstart(\u001b[38;5;241m0\u001b[39m) \u001b[38;5;28;01mfor\u001b[39;00m m \u001b[38;5;129;01min\u001b[39;00m matches] \u001b[38;5;241m+\u001b[39m [\u001b[38;5;28;01mNone\u001b[39;00m]\n",
      "\u001b[0;31mValueError\u001b[0m: Document does not match SAS Version 5 or 6 Transport (XPORT) format"
     ]
    }
   ],
   "source": [
    "from tableshift import get_dataset\n",
    "dset = get_dataset(name=name, cache_dir=cache_dir)"
   ]
  },
  {
   "cell_type": "code",
   "execution_count": null,
   "id": "da89b05a",
   "metadata": {},
   "outputs": [],
   "source": []
  },
  {
   "cell_type": "markdown",
   "id": "f8bffa44",
   "metadata": {},
   "source": [
    "## Diabetes (Work in Progress)\n",
    "- The library `xport` fails to load `.xpt` files."
   ]
  },
  {
   "cell_type": "code",
   "execution_count": 8,
   "id": "b01e894d",
   "metadata": {},
   "outputs": [
    {
     "data": {
      "text/html": [
       "<pre style=\"white-space:pre;overflow-x:auto;line-height:normal;font-family:Menlo,'DejaVu Sans Mono',consolas,'Courier New',monospace\"><span style=\"font-weight: bold\">{</span>\n",
       "    <span style=\"color: #008000; text-decoration-color: #008000\">'splitter'</span>: <span style=\"color: #800080; text-decoration-color: #800080; font-weight: bold\">DomainSplitter</span><span style=\"font-weight: bold\">(</span>\n",
       "        <span style=\"color: #808000; text-decoration-color: #808000\">val_size</span>=<span style=\"color: #008080; text-decoration-color: #008080; font-weight: bold\">0.1</span>,\n",
       "        <span style=\"color: #808000; text-decoration-color: #808000\">random_state</span>=<span style=\"color: #008080; text-decoration-color: #008080; font-weight: bold\">264738</span>,\n",
       "        <span style=\"color: #808000; text-decoration-color: #808000\">id_test_size</span>=<span style=\"color: #008080; text-decoration-color: #008080; font-weight: bold\">0.1</span>,\n",
       "        <span style=\"color: #808000; text-decoration-color: #808000\">domain_split_varname</span>=<span style=\"color: #008000; text-decoration-color: #008000\">'PRACE1'</span>,\n",
       "        <span style=\"color: #808000; text-decoration-color: #808000\">domain_split_ood_values</span>=<span style=\"font-weight: bold\">[</span><span style=\"color: #008080; text-decoration-color: #008080; font-weight: bold\">2</span>, <span style=\"color: #008080; text-decoration-color: #008080; font-weight: bold\">3</span>, <span style=\"color: #008080; text-decoration-color: #008080; font-weight: bold\">4</span>, <span style=\"color: #008080; text-decoration-color: #008080; font-weight: bold\">5</span>, <span style=\"color: #008080; text-decoration-color: #008080; font-weight: bold\">6</span><span style=\"font-weight: bold\">]</span>,\n",
       "        <span style=\"color: #808000; text-decoration-color: #808000\">domain_split_id_values</span>=<span style=\"font-weight: bold\">[</span><span style=\"color: #008080; text-decoration-color: #008080; font-weight: bold\">1</span><span style=\"font-weight: bold\">]</span>,\n",
       "        <span style=\"color: #808000; text-decoration-color: #808000\">domain_split_gt_thresh</span>=<span style=\"color: #800080; text-decoration-color: #800080; font-style: italic\">None</span>,\n",
       "        <span style=\"color: #808000; text-decoration-color: #808000\">drop_domain_split_col</span>=<span style=\"color: #00ff00; text-decoration-color: #00ff00; font-style: italic\">True</span>,\n",
       "        <span style=\"color: #808000; text-decoration-color: #808000\">ood_val_size</span>=<span style=\"color: #008080; text-decoration-color: #008080; font-weight: bold\">0.1</span>\n",
       "    <span style=\"font-weight: bold\">)</span>,\n",
       "    <span style=\"color: #008000; text-decoration-color: #008000\">'grouper'</span>: <span style=\"color: #800080; text-decoration-color: #800080; font-weight: bold\">Grouper</span><span style=\"font-weight: bold\">(</span><span style=\"color: #808000; text-decoration-color: #808000\">features_and_values</span>=<span style=\"font-weight: bold\">{</span><span style=\"color: #008000; text-decoration-color: #008000\">'SEX'</span>: <span style=\"font-weight: bold\">[</span><span style=\"color: #008080; text-decoration-color: #008080; font-weight: bold\">1</span><span style=\"font-weight: bold\">]}</span>, <span style=\"color: #808000; text-decoration-color: #808000\">drop</span>=<span style=\"color: #ff0000; text-decoration-color: #ff0000; font-style: italic\">False</span>, <span style=\"color: #808000; text-decoration-color: #808000\">transformer</span>=<span style=\"color: #800080; text-decoration-color: #800080; font-style: italic\">None</span><span style=\"font-weight: bold\">)</span>,\n",
       "    <span style=\"color: #008000; text-decoration-color: #008000\">'preprocessor_config'</span>: <span style=\"color: #800080; text-decoration-color: #800080; font-weight: bold\">PreprocessorConfig</span><span style=\"font-weight: bold\">(</span>\n",
       "        <span style=\"color: #808000; text-decoration-color: #808000\">categorical_features</span>=<span style=\"color: #008000; text-decoration-color: #008000\">'one_hot'</span>,\n",
       "        <span style=\"color: #808000; text-decoration-color: #808000\">numeric_features</span>=<span style=\"color: #008000; text-decoration-color: #008000\">'normalize'</span>,\n",
       "        <span style=\"color: #808000; text-decoration-color: #808000\">domain_labels</span>=<span style=\"color: #008000; text-decoration-color: #008000\">'label_encode'</span>,\n",
       "        <span style=\"color: #808000; text-decoration-color: #808000\">passthrough_columns</span>=<span style=\"font-weight: bold\">[</span><span style=\"color: #008000; text-decoration-color: #008000\">'IYEAR'</span><span style=\"font-weight: bold\">]</span>,\n",
       "        <span style=\"color: #808000; text-decoration-color: #808000\">dropna</span>=<span style=\"color: #008000; text-decoration-color: #008000\">'rows'</span>,\n",
       "        <span style=\"color: #808000; text-decoration-color: #808000\">use_extended_names</span>=<span style=\"color: #ff0000; text-decoration-color: #ff0000; font-style: italic\">False</span>,\n",
       "        <span style=\"color: #808000; text-decoration-color: #808000\">map_targets</span>=<span style=\"color: #ff0000; text-decoration-color: #ff0000; font-style: italic\">False</span>,\n",
       "        <span style=\"color: #808000; text-decoration-color: #808000\">cast_targets_to_default_type</span>=<span style=\"color: #ff0000; text-decoration-color: #ff0000; font-style: italic\">False</span>,\n",
       "        <span style=\"color: #808000; text-decoration-color: #808000\">min_frequency</span>=<span style=\"color: #800080; text-decoration-color: #800080; font-style: italic\">None</span>,\n",
       "        <span style=\"color: #808000; text-decoration-color: #808000\">max_categories</span>=<span style=\"color: #800080; text-decoration-color: #800080; font-style: italic\">None</span>,\n",
       "        <span style=\"color: #808000; text-decoration-color: #808000\">n_bins</span>=<span style=\"color: #008080; text-decoration-color: #008080; font-weight: bold\">5</span>,\n",
       "        <span style=\"color: #808000; text-decoration-color: #808000\">sub_illegal_chars</span>=<span style=\"color: #00ff00; text-decoration-color: #00ff00; font-style: italic\">True</span>\n",
       "    <span style=\"font-weight: bold\">)</span>,\n",
       "    <span style=\"color: #008000; text-decoration-color: #008000\">'tabular_dataset_kwargs'</span>: <span style=\"font-weight: bold\">{</span><span style=\"color: #008000; text-decoration-color: #008000\">'name'</span>: <span style=\"color: #008000; text-decoration-color: #008000\">'brfss_diabetes'</span>, <span style=\"color: #008000; text-decoration-color: #008000\">'task'</span>: <span style=\"color: #008000; text-decoration-color: #008000\">'diabetes'</span>, <span style=\"color: #008000; text-decoration-color: #008000\">'years'</span>: <span style=\"font-weight: bold\">(</span><span style=\"color: #008080; text-decoration-color: #008080; font-weight: bold\">2015</span>, <span style=\"color: #008080; text-decoration-color: #008080; font-weight: bold\">2017</span>, <span style=\"color: #008080; text-decoration-color: #008080; font-weight: bold\">2019</span>, <span style=\"color: #008080; text-decoration-color: #008080; font-weight: bold\">2021</span><span style=\"font-weight: bold\">)}</span>\n",
       "<span style=\"font-weight: bold\">}</span>\n",
       "</pre>\n"
      ],
      "text/plain": [
       "\u001b[1m{\u001b[0m\n",
       "    \u001b[32m'splitter'\u001b[0m: \u001b[1;35mDomainSplitter\u001b[0m\u001b[1m(\u001b[0m\n",
       "        \u001b[33mval_size\u001b[0m=\u001b[1;36m0\u001b[0m\u001b[1;36m.1\u001b[0m,\n",
       "        \u001b[33mrandom_state\u001b[0m=\u001b[1;36m264738\u001b[0m,\n",
       "        \u001b[33mid_test_size\u001b[0m=\u001b[1;36m0\u001b[0m\u001b[1;36m.1\u001b[0m,\n",
       "        \u001b[33mdomain_split_varname\u001b[0m=\u001b[32m'PRACE1'\u001b[0m,\n",
       "        \u001b[33mdomain_split_ood_values\u001b[0m=\u001b[1m[\u001b[0m\u001b[1;36m2\u001b[0m, \u001b[1;36m3\u001b[0m, \u001b[1;36m4\u001b[0m, \u001b[1;36m5\u001b[0m, \u001b[1;36m6\u001b[0m\u001b[1m]\u001b[0m,\n",
       "        \u001b[33mdomain_split_id_values\u001b[0m=\u001b[1m[\u001b[0m\u001b[1;36m1\u001b[0m\u001b[1m]\u001b[0m,\n",
       "        \u001b[33mdomain_split_gt_thresh\u001b[0m=\u001b[3;35mNone\u001b[0m,\n",
       "        \u001b[33mdrop_domain_split_col\u001b[0m=\u001b[3;92mTrue\u001b[0m,\n",
       "        \u001b[33mood_val_size\u001b[0m=\u001b[1;36m0\u001b[0m\u001b[1;36m.1\u001b[0m\n",
       "    \u001b[1m)\u001b[0m,\n",
       "    \u001b[32m'grouper'\u001b[0m: \u001b[1;35mGrouper\u001b[0m\u001b[1m(\u001b[0m\u001b[33mfeatures_and_values\u001b[0m=\u001b[1m{\u001b[0m\u001b[32m'SEX'\u001b[0m: \u001b[1m[\u001b[0m\u001b[1;36m1\u001b[0m\u001b[1m]\u001b[0m\u001b[1m}\u001b[0m, \u001b[33mdrop\u001b[0m=\u001b[3;91mFalse\u001b[0m, \u001b[33mtransformer\u001b[0m=\u001b[3;35mNone\u001b[0m\u001b[1m)\u001b[0m,\n",
       "    \u001b[32m'preprocessor_config'\u001b[0m: \u001b[1;35mPreprocessorConfig\u001b[0m\u001b[1m(\u001b[0m\n",
       "        \u001b[33mcategorical_features\u001b[0m=\u001b[32m'one_hot'\u001b[0m,\n",
       "        \u001b[33mnumeric_features\u001b[0m=\u001b[32m'normalize'\u001b[0m,\n",
       "        \u001b[33mdomain_labels\u001b[0m=\u001b[32m'label_encode'\u001b[0m,\n",
       "        \u001b[33mpassthrough_columns\u001b[0m=\u001b[1m[\u001b[0m\u001b[32m'IYEAR'\u001b[0m\u001b[1m]\u001b[0m,\n",
       "        \u001b[33mdropna\u001b[0m=\u001b[32m'rows'\u001b[0m,\n",
       "        \u001b[33muse_extended_names\u001b[0m=\u001b[3;91mFalse\u001b[0m,\n",
       "        \u001b[33mmap_targets\u001b[0m=\u001b[3;91mFalse\u001b[0m,\n",
       "        \u001b[33mcast_targets_to_default_type\u001b[0m=\u001b[3;91mFalse\u001b[0m,\n",
       "        \u001b[33mmin_frequency\u001b[0m=\u001b[3;35mNone\u001b[0m,\n",
       "        \u001b[33mmax_categories\u001b[0m=\u001b[3;35mNone\u001b[0m,\n",
       "        \u001b[33mn_bins\u001b[0m=\u001b[1;36m5\u001b[0m,\n",
       "        \u001b[33msub_illegal_chars\u001b[0m=\u001b[3;92mTrue\u001b[0m\n",
       "    \u001b[1m)\u001b[0m,\n",
       "    \u001b[32m'tabular_dataset_kwargs'\u001b[0m: \u001b[1m{\u001b[0m\u001b[32m'name'\u001b[0m: \u001b[32m'brfss_diabetes'\u001b[0m, \u001b[32m'task'\u001b[0m: \u001b[32m'diabetes'\u001b[0m, \u001b[32m'years'\u001b[0m: \u001b[1m(\u001b[0m\u001b[1;36m2015\u001b[0m, \u001b[1;36m2017\u001b[0m, \u001b[1;36m2019\u001b[0m, \u001b[1;36m2021\u001b[0m\u001b[1m)\u001b[0m\u001b[1m}\u001b[0m\n",
       "\u001b[1m}\u001b[0m\n"
      ]
     },
     "metadata": {},
     "output_type": "display_data"
    }
   ],
   "source": [
    "name = \"brfss_diabetes\"\n",
    "expt_config = BENCHMARK_CONFIGS.get(name)\n",
    "rich_print(expt_config.__dict__);  # the `domain_split_varname` is the domain indicator"
   ]
  },
  {
   "cell_type": "code",
   "execution_count": 9,
   "id": "1dbc6800",
   "metadata": {},
   "outputs": [
    {
     "name": "stdout",
     "output_type": "stream",
     "text": [
      "/Users/hgkahng/Workspaces/domain_adaptation/tmp/brfss_diabetes\n"
     ]
    }
   ],
   "source": [
    "cache_dir = Path(f\"../../tmp/{name}\").resolve()\n",
    "print(cache_dir)"
   ]
  },
  {
   "cell_type": "code",
   "execution_count": 10,
   "id": "95caa8d0",
   "metadata": {},
   "outputs": [
    {
     "name": "stderr",
     "output_type": "stream",
     "text": [
      "ERROR:xport.v56:Document begins with\n",
      "b'HEADER RECORD*******LIBRARY HEADER RECORD!!!!!!!000000000000000000000000000000  '\n",
      "b'SAS     SAS     SASLIB  9.3     W32_7PRO                        23AUG16:12:51:21'\n",
      "b'23AUG16:12:51:21                                                                '\n",
      "b'HEADER RECORD*******MEMBER  HEADER RECORD!!!!!!!000000000000000001600000000140  '\n",
      "b'HEADER RECORD*******DSCRPTR HEADER RECORD!!!!!!!000000000000000000000000000000  '\n",
      "b'SAS     LLCP2015SASDATA 9.3     W32_7PRO                        23AUG16:12:51:21'\n",
      "b'23AUG16:12:51:21                                                                '\n",
      "b'HEADER RECORD*******NAMESTR HEADER RECORD!!!!!!!000000033000000000000000000000  '\n"
     ]
    },
    {
     "ename": "ValueError",
     "evalue": "Document does not match SAS Version 5 or 6 Transport (XPORT) format",
     "output_type": "error",
     "traceback": [
      "\u001b[0;31m---------------------------------------------------------------------------\u001b[0m",
      "\u001b[0;31mValueError\u001b[0m                                Traceback (most recent call last)",
      "Cell \u001b[0;32mIn[10], line 2\u001b[0m\n\u001b[1;32m      1\u001b[0m \u001b[38;5;28;01mfrom\u001b[39;00m \u001b[38;5;21;01mtableshift\u001b[39;00m \u001b[38;5;28;01mimport\u001b[39;00m get_dataset\n\u001b[0;32m----> 2\u001b[0m dset \u001b[38;5;241m=\u001b[39m \u001b[43mget_dataset\u001b[49m\u001b[43m(\u001b[49m\u001b[43mname\u001b[49m\u001b[38;5;241;43m=\u001b[39;49m\u001b[43mname\u001b[49m\u001b[43m,\u001b[49m\u001b[43m \u001b[49m\u001b[43mcache_dir\u001b[49m\u001b[38;5;241;43m=\u001b[39;49m\u001b[43mcache_dir\u001b[49m\u001b[43m)\u001b[49m\n",
      "File \u001b[0;32m/opt/miniconda3/envs/tableshift/lib/python3.10/site-packages/tableshift/core/getters.py:62\u001b[0m, in \u001b[0;36mget_dataset\u001b[0;34m(name, cache_dir, preprocessor_config, initialize_data, use_cached, **kwargs)\u001b[0m\n\u001b[1;32m     59\u001b[0m     preprocessor_config \u001b[38;5;241m=\u001b[39m expt_config\u001b[38;5;241m.\u001b[39mpreprocessor_config\n\u001b[1;32m     61\u001b[0m \u001b[38;5;28;01mif\u001b[39;00m \u001b[38;5;129;01mnot\u001b[39;00m use_cached:\n\u001b[0;32m---> 62\u001b[0m     dset \u001b[38;5;241m=\u001b[39m \u001b[43mTabularDataset\u001b[49m\u001b[43m(\u001b[49m\n\u001b[1;32m     63\u001b[0m \u001b[43m        \u001b[49m\u001b[43mconfig\u001b[49m\u001b[38;5;241;43m=\u001b[39;49m\u001b[43mdataset_config\u001b[49m\u001b[43m,\u001b[49m\n\u001b[1;32m     64\u001b[0m \u001b[43m        \u001b[49m\u001b[43msplitter\u001b[49m\u001b[38;5;241;43m=\u001b[39;49m\u001b[43mexpt_config\u001b[49m\u001b[38;5;241;43m.\u001b[39;49m\u001b[43msplitter\u001b[49m\u001b[43m,\u001b[49m\n\u001b[1;32m     65\u001b[0m \u001b[43m        \u001b[49m\u001b[43mgrouper\u001b[49m\u001b[38;5;241;43m=\u001b[39;49m\u001b[43mkwargs\u001b[49m\u001b[38;5;241;43m.\u001b[39;49m\u001b[43mget\u001b[49m\u001b[43m(\u001b[49m\u001b[38;5;124;43m\"\u001b[39;49m\u001b[38;5;124;43mgrouper\u001b[39;49m\u001b[38;5;124;43m\"\u001b[39;49m\u001b[43m,\u001b[49m\u001b[43m \u001b[49m\u001b[43mexpt_config\u001b[49m\u001b[38;5;241;43m.\u001b[39;49m\u001b[43mgrouper\u001b[49m\u001b[43m)\u001b[49m\u001b[43m,\u001b[49m\n\u001b[1;32m     66\u001b[0m \u001b[43m        \u001b[49m\u001b[43mpreprocessor_config\u001b[49m\u001b[38;5;241;43m=\u001b[39;49m\u001b[43mpreprocessor_config\u001b[49m\u001b[43m,\u001b[49m\n\u001b[1;32m     67\u001b[0m \u001b[43m        \u001b[49m\u001b[43minitialize_data\u001b[49m\u001b[38;5;241;43m=\u001b[39;49m\u001b[43minitialize_data\u001b[49m\u001b[43m,\u001b[49m\n\u001b[1;32m     68\u001b[0m \u001b[43m        \u001b[49m\u001b[38;5;241;43m*\u001b[39;49m\u001b[38;5;241;43m*\u001b[39;49m\u001b[43mtabular_dataset_kwargs\u001b[49m\u001b[43m)\u001b[49m\n\u001b[1;32m     69\u001b[0m \u001b[38;5;28;01melse\u001b[39;00m:\n\u001b[1;32m     70\u001b[0m     dset \u001b[38;5;241m=\u001b[39m CachedDataset(config\u001b[38;5;241m=\u001b[39mdataset_config,\n\u001b[1;32m     71\u001b[0m                          splitter\u001b[38;5;241m=\u001b[39mexpt_config\u001b[38;5;241m.\u001b[39msplitter,\n\u001b[1;32m     72\u001b[0m                          grouper\u001b[38;5;241m=\u001b[39mkwargs\u001b[38;5;241m.\u001b[39mget(\u001b[38;5;124m\"\u001b[39m\u001b[38;5;124mgrouper\u001b[39m\u001b[38;5;124m\"\u001b[39m, expt_config\u001b[38;5;241m.\u001b[39mgrouper),\n\u001b[1;32m     73\u001b[0m                          preprocessor_config\u001b[38;5;241m=\u001b[39mpreprocessor_config,\n\u001b[1;32m     74\u001b[0m                          initialize_data\u001b[38;5;241m=\u001b[39minitialize_data,\n\u001b[1;32m     75\u001b[0m                          name\u001b[38;5;241m=\u001b[39mname)\n",
      "File \u001b[0;32m/opt/miniconda3/envs/tableshift/lib/python3.10/site-packages/tableshift/core/tabular_dataset.py:224\u001b[0m, in \u001b[0;36mTabularDataset.__init__\u001b[0;34m(self, name, config, splitter, preprocessor_config, grouper, initialize_data, task_config, **kwargs)\u001b[0m\n\u001b[1;32m    221\u001b[0m \u001b[38;5;28mself\u001b[39m\u001b[38;5;241m.\u001b[39m_df: Union[pd\u001b[38;5;241m.\u001b[39mDataFrame, \u001b[38;5;28;01mNone\u001b[39;00m] \u001b[38;5;241m=\u001b[39m \u001b[38;5;28;01mNone\u001b[39;00m  \u001b[38;5;66;03m# holds all the data\u001b[39;00m\n\u001b[1;32m    223\u001b[0m \u001b[38;5;28;01mif\u001b[39;00m initialize_data:\n\u001b[0;32m--> 224\u001b[0m     \u001b[38;5;28;43mself\u001b[39;49m\u001b[38;5;241;43m.\u001b[39;49m\u001b[43m_initialize_data\u001b[49m\u001b[43m(\u001b[49m\u001b[43m)\u001b[49m\n",
      "File \u001b[0;32m/opt/miniconda3/envs/tableshift/lib/python3.10/site-packages/tableshift/core/tabular_dataset.py:301\u001b[0m, in \u001b[0;36mTabularDataset._initialize_data\u001b[0;34m(self)\u001b[0m\n\u001b[1;32m    299\u001b[0m \u001b[38;5;28;01mdef\u001b[39;00m \u001b[38;5;21m_initialize_data\u001b[39m(\u001b[38;5;28mself\u001b[39m):\n\u001b[1;32m    300\u001b[0m     \u001b[38;5;124;03m\"\"\"Load the data/labels/groups from a data source.\"\"\"\u001b[39;00m\n\u001b[0;32m--> 301\u001b[0m     data \u001b[38;5;241m=\u001b[39m \u001b[38;5;28;43mself\u001b[39;49m\u001b[38;5;241;43m.\u001b[39;49m\u001b[43mdata_source\u001b[49m\u001b[38;5;241;43m.\u001b[39;49m\u001b[43mget_data\u001b[49m\u001b[43m(\u001b[49m\u001b[43m)\u001b[49m\n\u001b[1;32m    302\u001b[0m     data \u001b[38;5;241m=\u001b[39m \u001b[38;5;28mself\u001b[39m\u001b[38;5;241m.\u001b[39m_check_data_source(data)\n\u001b[1;32m    303\u001b[0m     data \u001b[38;5;241m=\u001b[39m \u001b[38;5;28mself\u001b[39m\u001b[38;5;241m.\u001b[39mtask_config\u001b[38;5;241m.\u001b[39mfeature_list\u001b[38;5;241m.\u001b[39mapply_schema(\n\u001b[1;32m    304\u001b[0m         data, passthrough_columns\u001b[38;5;241m=\u001b[39m[\u001b[38;5;124m\"\u001b[39m\u001b[38;5;124mSplit\u001b[39m\u001b[38;5;124m\"\u001b[39m])\n",
      "File \u001b[0;32m/opt/miniconda3/envs/tableshift/lib/python3.10/site-packages/tableshift/core/data_source.py:74\u001b[0m, in \u001b[0;36mDataSource.get_data\u001b[0;34m(self)\u001b[0m\n\u001b[1;32m     72\u001b[0m \u001b[38;5;124;03m\"\"\"Fetch data from local cache or download if necessary.\"\"\"\u001b[39;00m\n\u001b[1;32m     73\u001b[0m \u001b[38;5;28mself\u001b[39m\u001b[38;5;241m.\u001b[39m_download_if_not_cached()\n\u001b[0;32m---> 74\u001b[0m raw_data \u001b[38;5;241m=\u001b[39m \u001b[38;5;28;43mself\u001b[39;49m\u001b[38;5;241;43m.\u001b[39;49m\u001b[43m_load_data\u001b[49m\u001b[43m(\u001b[49m\u001b[43m)\u001b[49m\n\u001b[1;32m     75\u001b[0m \u001b[38;5;28;01mreturn\u001b[39;00m \u001b[38;5;28mself\u001b[39m\u001b[38;5;241m.\u001b[39mpreprocess_fn(raw_data)\n",
      "File \u001b[0;32m/opt/miniconda3/envs/tableshift/lib/python3.10/site-packages/tableshift/core/data_source.py:288\u001b[0m, in \u001b[0;36mBRFSSDataSource._load_data\u001b[0;34m(self)\u001b[0m\n\u001b[1;32m    286\u001b[0m \u001b[38;5;66;03m# Read the XPT data\u001b[39;00m\n\u001b[1;32m    287\u001b[0m logging\u001b[38;5;241m.\u001b[39mdebug(\u001b[38;5;124mf\u001b[39m\u001b[38;5;124m\"\u001b[39m\u001b[38;5;124mreading \u001b[39m\u001b[38;5;132;01m{\u001b[39;00mxpt_fp\u001b[38;5;132;01m}\u001b[39;00m\u001b[38;5;124m\"\u001b[39m)\n\u001b[0;32m--> 288\u001b[0m df \u001b[38;5;241m=\u001b[39m \u001b[43mutils\u001b[49m\u001b[38;5;241;43m.\u001b[39;49m\u001b[43mread_xpt\u001b[49m\u001b[43m(\u001b[49m\u001b[43mxpt_fp\u001b[49m\u001b[43m)\u001b[49m\n\u001b[1;32m    289\u001b[0m df \u001b[38;5;241m=\u001b[39m align_brfss_features(df)\n\u001b[1;32m    290\u001b[0m dfs[url] \u001b[38;5;241m=\u001b[39m df\n",
      "File \u001b[0;32m/opt/miniconda3/envs/tableshift/lib/python3.10/site-packages/tableshift/core/utils.py:55\u001b[0m, in \u001b[0;36mread_xpt\u001b[0;34m(fp)\u001b[0m\n\u001b[1;32m     53\u001b[0m \u001b[38;5;28;01massert\u001b[39;00m os\u001b[38;5;241m.\u001b[39mpath\u001b[38;5;241m.\u001b[39mexists(fp), \u001b[38;5;124m\"\u001b[39m\u001b[38;5;124mfile does not exist \u001b[39m\u001b[38;5;132;01m%s\u001b[39;00m\u001b[38;5;124m\"\u001b[39m \u001b[38;5;241m%\u001b[39m fp\n\u001b[1;32m     54\u001b[0m \u001b[38;5;28;01mwith\u001b[39;00m \u001b[38;5;28mopen\u001b[39m(fp, \u001b[38;5;124m\"\u001b[39m\u001b[38;5;124mrb\u001b[39m\u001b[38;5;124m\"\u001b[39m) \u001b[38;5;28;01mas\u001b[39;00m f:\n\u001b[0;32m---> 55\u001b[0m     obj \u001b[38;5;241m=\u001b[39m \u001b[43mxport\u001b[49m\u001b[38;5;241;43m.\u001b[39;49m\u001b[43mv89\u001b[49m\u001b[38;5;241;43m.\u001b[39;49m\u001b[43mload\u001b[49m\u001b[43m(\u001b[49m\u001b[43mf\u001b[49m\u001b[43m)\u001b[49m\n\u001b[1;32m     56\u001b[0m     \u001b[38;5;66;03m#obj = xport.v56.load(f)\u001b[39;00m\n\u001b[1;32m     57\u001b[0m \u001b[38;5;66;03m# index into SAS structure, assuming there is only one dataframe\u001b[39;00m\n\u001b[1;32m     58\u001b[0m \u001b[38;5;28;01massert\u001b[39;00m \u001b[38;5;28mlen\u001b[39m(\u001b[38;5;28mtuple\u001b[39m(obj\u001b[38;5;241m.\u001b[39m_members\u001b[38;5;241m.\u001b[39mkeys())) \u001b[38;5;241m==\u001b[39m \u001b[38;5;241m1\u001b[39m\n",
      "File \u001b[0;32m/opt/miniconda3/envs/tableshift/lib/python3.10/site-packages/xport/v89.py:292\u001b[0m, in \u001b[0;36mload\u001b[0;34m(fp)\u001b[0m\n\u001b[1;32m    290\u001b[0m \u001b[38;5;28;01mexcept\u001b[39;00m \u001b[38;5;167;01mUnicodeDecodeError\u001b[39;00m:\n\u001b[1;32m    291\u001b[0m     \u001b[38;5;28;01mraise\u001b[39;00m \u001b[38;5;167;01mTypeError\u001b[39;00m(\u001b[38;5;124mf\u001b[39m\u001b[38;5;124m'\u001b[39m\u001b[38;5;124mExpected a BufferedReader in bytes-mode, got \u001b[39m\u001b[38;5;132;01m{\u001b[39;00m\u001b[38;5;28mtype\u001b[39m(fp)\u001b[38;5;241m.\u001b[39m\u001b[38;5;18m__name__\u001b[39m\u001b[38;5;132;01m}\u001b[39;00m\u001b[38;5;124m'\u001b[39m)\n\u001b[0;32m--> 292\u001b[0m \u001b[38;5;28;01mreturn\u001b[39;00m \u001b[43mloads\u001b[49m\u001b[43m(\u001b[49m\u001b[43mbytestring\u001b[49m\u001b[43m)\u001b[49m\n",
      "File \u001b[0;32m/opt/miniconda3/envs/tableshift/lib/python3.10/site-packages/xport/v89.py:303\u001b[0m, in \u001b[0;36mloads\u001b[0;34m(bytestring)\u001b[0m\n\u001b[1;32m    295\u001b[0m \u001b[38;5;28;01mdef\u001b[39;00m \u001b[38;5;21mloads\u001b[39m(bytestring):\n\u001b[1;32m    296\u001b[0m     \u001b[38;5;124;03m\"\"\"\u001b[39;00m\n\u001b[1;32m    297\u001b[0m \u001b[38;5;124;03m    Deserialize a dataset library from an XPORT-format string.\u001b[39;00m\n\u001b[1;32m    298\u001b[0m \n\u001b[0;32m   (...)\u001b[0m\n\u001b[1;32m    301\u001b[0m \u001b[38;5;124;03m        >>> library = loads(bytestring)\u001b[39;00m\n\u001b[1;32m    302\u001b[0m \u001b[38;5;124;03m    \"\"\"\u001b[39;00m\n\u001b[0;32m--> 303\u001b[0m     \u001b[38;5;28;01mreturn\u001b[39;00m \u001b[43mLibrary\u001b[49m\u001b[38;5;241;43m.\u001b[39;49m\u001b[43mfrom_bytes\u001b[49m\u001b[43m(\u001b[49m\u001b[43mbytestring\u001b[49m\u001b[43m)\u001b[49m\n",
      "File \u001b[0;32m/opt/miniconda3/envs/tableshift/lib/python3.10/site-packages/xport/v89.py:51\u001b[0m, in \u001b[0;36mLibrary.from_bytes\u001b[0;34m(cls, bytestring)\u001b[0m\n\u001b[1;32m     46\u001b[0m \u001b[38;5;129m@classmethod\u001b[39m\n\u001b[1;32m     47\u001b[0m \u001b[38;5;28;01mdef\u001b[39;00m \u001b[38;5;21mfrom_bytes\u001b[39m(\u001b[38;5;28mcls\u001b[39m, bytestring):\n\u001b[1;32m     48\u001b[0m     \u001b[38;5;124;03m\"\"\"\u001b[39;00m\n\u001b[1;32m     49\u001b[0m \u001b[38;5;124;03m    Construct a ``Library`` from an XPORT-format bytes string.\u001b[39;00m\n\u001b[1;32m     50\u001b[0m \u001b[38;5;124;03m    \"\"\"\u001b[39;00m\n\u001b[0;32m---> 51\u001b[0m     \u001b[38;5;28;01mreturn\u001b[39;00m \u001b[38;5;28;43msuper\u001b[39;49m\u001b[43m(\u001b[49m\u001b[43m)\u001b[49m\u001b[38;5;241;43m.\u001b[39;49m\u001b[43mfrom_bytes\u001b[49m\u001b[43m(\u001b[49m\u001b[43mbytestring\u001b[49m\u001b[43m,\u001b[49m\u001b[43m \u001b[49m\u001b[43mMemberHeader\u001b[49m\u001b[38;5;241;43m=\u001b[39;49m\u001b[43mMemberHeader\u001b[49m\u001b[43m,\u001b[49m\u001b[43m \u001b[49m\u001b[43mMember\u001b[49m\u001b[38;5;241;43m=\u001b[39;49m\u001b[43mMember\u001b[49m\u001b[43m)\u001b[49m\n",
      "File \u001b[0;32m/opt/miniconda3/envs/tableshift/lib/python3.10/site-packages/xport/v56.py:730\u001b[0m, in \u001b[0;36mLibrary.from_bytes\u001b[0;34m(cls, bytestring, MemberHeader, Member)\u001b[0m\n\u001b[1;32m    728\u001b[0m     lines \u001b[38;5;241m=\u001b[39m [mview[i \u001b[38;5;241m*\u001b[39m \u001b[38;5;241m80\u001b[39m:(i \u001b[38;5;241m+\u001b[39m \u001b[38;5;241m1\u001b[39m) \u001b[38;5;241m*\u001b[39m \u001b[38;5;241m80\u001b[39m]\u001b[38;5;241m.\u001b[39mtobytes() \u001b[38;5;28;01mfor\u001b[39;00m i \u001b[38;5;129;01min\u001b[39;00m \u001b[38;5;28mrange\u001b[39m(\u001b[38;5;241m8\u001b[39m)]\n\u001b[1;32m    729\u001b[0m     LOG\u001b[38;5;241m.\u001b[39merror(\u001b[38;5;124m'\u001b[39m\u001b[38;5;124mDocument begins with\u001b[39m\u001b[38;5;124m'\u001b[39m \u001b[38;5;241m+\u001b[39m \u001b[38;5;124m'\u001b[39m\u001b[38;5;130;01m\\n\u001b[39;00m\u001b[38;5;132;01m%s\u001b[39;00m\u001b[38;5;124m'\u001b[39m \u001b[38;5;241m*\u001b[39m \u001b[38;5;28mlen\u001b[39m(lines), \u001b[38;5;241m*\u001b[39mlines)\n\u001b[0;32m--> 730\u001b[0m     \u001b[38;5;28;01mraise\u001b[39;00m \u001b[38;5;167;01mValueError\u001b[39;00m(\u001b[38;5;124m'\u001b[39m\u001b[38;5;124mDocument does not match SAS Version 5 or 6 Transport (XPORT) format\u001b[39m\u001b[38;5;124m'\u001b[39m)\n\u001b[1;32m    732\u001b[0m matches \u001b[38;5;241m=\u001b[39m MemberHeader\u001b[38;5;241m.\u001b[39mpattern\u001b[38;5;241m.\u001b[39mfinditer(mview)\n\u001b[1;32m    733\u001b[0m indices \u001b[38;5;241m=\u001b[39m [m\u001b[38;5;241m.\u001b[39mstart(\u001b[38;5;241m0\u001b[39m) \u001b[38;5;28;01mfor\u001b[39;00m m \u001b[38;5;129;01min\u001b[39;00m matches] \u001b[38;5;241m+\u001b[39m [\u001b[38;5;28;01mNone\u001b[39;00m]\n",
      "\u001b[0;31mValueError\u001b[0m: Document does not match SAS Version 5 or 6 Transport (XPORT) format"
     ]
    }
   ],
   "source": [
    "from tableshift import get_dataset\n",
    "dset = get_dataset(name=name, cache_dir=cache_dir)"
   ]
  },
  {
   "cell_type": "code",
   "execution_count": null,
   "id": "e0fd9dc9",
   "metadata": {},
   "outputs": [],
   "source": []
  },
  {
   "cell_type": "markdown",
   "id": "b0c232ca",
   "metadata": {},
   "source": [
    "## Food Stamps"
   ]
  },
  {
   "cell_type": "code",
   "execution_count": 11,
   "id": "461ad0d5",
   "metadata": {},
   "outputs": [
    {
     "data": {
      "text/html": [
       "<pre style=\"white-space:pre;overflow-x:auto;line-height:normal;font-family:Menlo,'DejaVu Sans Mono',consolas,'Courier New',monospace\"><span style=\"font-weight: bold\">{</span>\n",
       "    <span style=\"color: #008000; text-decoration-color: #008000\">'splitter'</span>: <span style=\"color: #800080; text-decoration-color: #800080; font-weight: bold\">DomainSplitter</span><span style=\"font-weight: bold\">(</span>\n",
       "        <span style=\"color: #808000; text-decoration-color: #808000\">val_size</span>=<span style=\"color: #008080; text-decoration-color: #008080; font-weight: bold\">0.1</span>,\n",
       "        <span style=\"color: #808000; text-decoration-color: #808000\">random_state</span>=<span style=\"color: #008080; text-decoration-color: #008080; font-weight: bold\">264738</span>,\n",
       "        <span style=\"color: #808000; text-decoration-color: #808000\">id_test_size</span>=<span style=\"color: #008080; text-decoration-color: #008080; font-weight: bold\">0.1</span>,\n",
       "        <span style=\"color: #808000; text-decoration-color: #808000\">domain_split_varname</span>=<span style=\"color: #008000; text-decoration-color: #008000\">'DIVISION'</span>,\n",
       "        <span style=\"color: #808000; text-decoration-color: #808000\">domain_split_ood_values</span>=<span style=\"font-weight: bold\">[</span><span style=\"color: #008000; text-decoration-color: #008000\">'06'</span><span style=\"font-weight: bold\">]</span>,\n",
       "        <span style=\"color: #808000; text-decoration-color: #808000\">domain_split_id_values</span>=<span style=\"color: #800080; text-decoration-color: #800080; font-style: italic\">None</span>,\n",
       "        <span style=\"color: #808000; text-decoration-color: #808000\">domain_split_gt_thresh</span>=<span style=\"color: #800080; text-decoration-color: #800080; font-style: italic\">None</span>,\n",
       "        <span style=\"color: #808000; text-decoration-color: #808000\">drop_domain_split_col</span>=<span style=\"color: #00ff00; text-decoration-color: #00ff00; font-style: italic\">True</span>,\n",
       "        <span style=\"color: #808000; text-decoration-color: #808000\">ood_val_size</span>=<span style=\"color: #008080; text-decoration-color: #008080; font-weight: bold\">0.1</span>\n",
       "    <span style=\"font-weight: bold\">)</span>,\n",
       "    <span style=\"color: #008000; text-decoration-color: #008000\">'grouper'</span>: <span style=\"color: #800080; text-decoration-color: #800080; font-weight: bold\">Grouper</span><span style=\"font-weight: bold\">(</span><span style=\"color: #808000; text-decoration-color: #808000\">features_and_values</span>=<span style=\"font-weight: bold\">{</span><span style=\"color: #008000; text-decoration-color: #008000\">'RAC1P'</span>: <span style=\"font-weight: bold\">[</span><span style=\"color: #008080; text-decoration-color: #008080; font-weight: bold\">1</span><span style=\"font-weight: bold\">]</span>, <span style=\"color: #008000; text-decoration-color: #008000\">'SEX'</span>: <span style=\"font-weight: bold\">[</span><span style=\"color: #008080; text-decoration-color: #008080; font-weight: bold\">1</span><span style=\"font-weight: bold\">]}</span>, <span style=\"color: #808000; text-decoration-color: #808000\">drop</span>=<span style=\"color: #ff0000; text-decoration-color: #ff0000; font-style: italic\">False</span>, <span style=\"color: #808000; text-decoration-color: #808000\">transformer</span>=<span style=\"color: #800080; text-decoration-color: #800080; font-style: italic\">None</span><span style=\"font-weight: bold\">)</span>,\n",
       "    <span style=\"color: #008000; text-decoration-color: #008000\">'preprocessor_config'</span>: <span style=\"color: #800080; text-decoration-color: #800080; font-weight: bold\">PreprocessorConfig</span><span style=\"font-weight: bold\">(</span>\n",
       "        <span style=\"color: #808000; text-decoration-color: #808000\">categorical_features</span>=<span style=\"color: #008000; text-decoration-color: #008000\">'one_hot'</span>,\n",
       "        <span style=\"color: #808000; text-decoration-color: #808000\">numeric_features</span>=<span style=\"color: #008000; text-decoration-color: #008000\">'normalize'</span>,\n",
       "        <span style=\"color: #808000; text-decoration-color: #808000\">domain_labels</span>=<span style=\"color: #008000; text-decoration-color: #008000\">'label_encode'</span>,\n",
       "        <span style=\"color: #808000; text-decoration-color: #808000\">passthrough_columns</span>=<span style=\"color: #800080; text-decoration-color: #800080; font-style: italic\">None</span>,\n",
       "        <span style=\"color: #808000; text-decoration-color: #808000\">dropna</span>=<span style=\"color: #008000; text-decoration-color: #008000\">'rows'</span>,\n",
       "        <span style=\"color: #808000; text-decoration-color: #808000\">use_extended_names</span>=<span style=\"color: #ff0000; text-decoration-color: #ff0000; font-style: italic\">False</span>,\n",
       "        <span style=\"color: #808000; text-decoration-color: #808000\">map_targets</span>=<span style=\"color: #ff0000; text-decoration-color: #ff0000; font-style: italic\">False</span>,\n",
       "        <span style=\"color: #808000; text-decoration-color: #808000\">cast_targets_to_default_type</span>=<span style=\"color: #ff0000; text-decoration-color: #ff0000; font-style: italic\">False</span>,\n",
       "        <span style=\"color: #808000; text-decoration-color: #808000\">min_frequency</span>=<span style=\"color: #800080; text-decoration-color: #800080; font-style: italic\">None</span>,\n",
       "        <span style=\"color: #808000; text-decoration-color: #808000\">max_categories</span>=<span style=\"color: #800080; text-decoration-color: #800080; font-style: italic\">None</span>,\n",
       "        <span style=\"color: #808000; text-decoration-color: #808000\">n_bins</span>=<span style=\"color: #008080; text-decoration-color: #008080; font-weight: bold\">5</span>,\n",
       "        <span style=\"color: #808000; text-decoration-color: #808000\">sub_illegal_chars</span>=<span style=\"color: #00ff00; text-decoration-color: #00ff00; font-style: italic\">True</span>\n",
       "    <span style=\"font-weight: bold\">)</span>,\n",
       "    <span style=\"color: #008000; text-decoration-color: #008000\">'tabular_dataset_kwargs'</span>: <span style=\"font-weight: bold\">{</span><span style=\"color: #008000; text-decoration-color: #008000\">'acs_task'</span>: <span style=\"color: #008000; text-decoration-color: #008000\">'acsfoodstamps'</span><span style=\"font-weight: bold\">}</span>\n",
       "<span style=\"font-weight: bold\">}</span>\n",
       "</pre>\n"
      ],
      "text/plain": [
       "\u001b[1m{\u001b[0m\n",
       "    \u001b[32m'splitter'\u001b[0m: \u001b[1;35mDomainSplitter\u001b[0m\u001b[1m(\u001b[0m\n",
       "        \u001b[33mval_size\u001b[0m=\u001b[1;36m0\u001b[0m\u001b[1;36m.1\u001b[0m,\n",
       "        \u001b[33mrandom_state\u001b[0m=\u001b[1;36m264738\u001b[0m,\n",
       "        \u001b[33mid_test_size\u001b[0m=\u001b[1;36m0\u001b[0m\u001b[1;36m.1\u001b[0m,\n",
       "        \u001b[33mdomain_split_varname\u001b[0m=\u001b[32m'DIVISION'\u001b[0m,\n",
       "        \u001b[33mdomain_split_ood_values\u001b[0m=\u001b[1m[\u001b[0m\u001b[32m'06'\u001b[0m\u001b[1m]\u001b[0m,\n",
       "        \u001b[33mdomain_split_id_values\u001b[0m=\u001b[3;35mNone\u001b[0m,\n",
       "        \u001b[33mdomain_split_gt_thresh\u001b[0m=\u001b[3;35mNone\u001b[0m,\n",
       "        \u001b[33mdrop_domain_split_col\u001b[0m=\u001b[3;92mTrue\u001b[0m,\n",
       "        \u001b[33mood_val_size\u001b[0m=\u001b[1;36m0\u001b[0m\u001b[1;36m.1\u001b[0m\n",
       "    \u001b[1m)\u001b[0m,\n",
       "    \u001b[32m'grouper'\u001b[0m: \u001b[1;35mGrouper\u001b[0m\u001b[1m(\u001b[0m\u001b[33mfeatures_and_values\u001b[0m=\u001b[1m{\u001b[0m\u001b[32m'RAC1P'\u001b[0m: \u001b[1m[\u001b[0m\u001b[1;36m1\u001b[0m\u001b[1m]\u001b[0m, \u001b[32m'SEX'\u001b[0m: \u001b[1m[\u001b[0m\u001b[1;36m1\u001b[0m\u001b[1m]\u001b[0m\u001b[1m}\u001b[0m, \u001b[33mdrop\u001b[0m=\u001b[3;91mFalse\u001b[0m, \u001b[33mtransformer\u001b[0m=\u001b[3;35mNone\u001b[0m\u001b[1m)\u001b[0m,\n",
       "    \u001b[32m'preprocessor_config'\u001b[0m: \u001b[1;35mPreprocessorConfig\u001b[0m\u001b[1m(\u001b[0m\n",
       "        \u001b[33mcategorical_features\u001b[0m=\u001b[32m'one_hot'\u001b[0m,\n",
       "        \u001b[33mnumeric_features\u001b[0m=\u001b[32m'normalize'\u001b[0m,\n",
       "        \u001b[33mdomain_labels\u001b[0m=\u001b[32m'label_encode'\u001b[0m,\n",
       "        \u001b[33mpassthrough_columns\u001b[0m=\u001b[3;35mNone\u001b[0m,\n",
       "        \u001b[33mdropna\u001b[0m=\u001b[32m'rows'\u001b[0m,\n",
       "        \u001b[33muse_extended_names\u001b[0m=\u001b[3;91mFalse\u001b[0m,\n",
       "        \u001b[33mmap_targets\u001b[0m=\u001b[3;91mFalse\u001b[0m,\n",
       "        \u001b[33mcast_targets_to_default_type\u001b[0m=\u001b[3;91mFalse\u001b[0m,\n",
       "        \u001b[33mmin_frequency\u001b[0m=\u001b[3;35mNone\u001b[0m,\n",
       "        \u001b[33mmax_categories\u001b[0m=\u001b[3;35mNone\u001b[0m,\n",
       "        \u001b[33mn_bins\u001b[0m=\u001b[1;36m5\u001b[0m,\n",
       "        \u001b[33msub_illegal_chars\u001b[0m=\u001b[3;92mTrue\u001b[0m\n",
       "    \u001b[1m)\u001b[0m,\n",
       "    \u001b[32m'tabular_dataset_kwargs'\u001b[0m: \u001b[1m{\u001b[0m\u001b[32m'acs_task'\u001b[0m: \u001b[32m'acsfoodstamps'\u001b[0m\u001b[1m}\u001b[0m\n",
       "\u001b[1m}\u001b[0m\n"
      ]
     },
     "metadata": {},
     "output_type": "display_data"
    }
   ],
   "source": [
    "name = \"acsfoodstamps\"\n",
    "expt_config = BENCHMARK_CONFIGS.get(name)\n",
    "rich_print(expt_config.__dict__);  # the `domain_split_varname` is the domain indicator"
   ]
  },
  {
   "cell_type": "code",
   "execution_count": 12,
   "id": "3dda8265",
   "metadata": {},
   "outputs": [
    {
     "name": "stdout",
     "output_type": "stream",
     "text": [
      "/Users/hgkahng/Workspaces/domain_adaptation/tmp/acsfoodstamps\n"
     ]
    }
   ],
   "source": [
    "cache_dir = Path(f\"../../tmp/{name}\").resolve()\n",
    "print(cache_dir)"
   ]
  },
  {
   "cell_type": "code",
   "execution_count": 13,
   "id": "edf43435",
   "metadata": {},
   "outputs": [
    {
     "name": "stderr",
     "output_type": "stream",
     "text": [
      "/opt/miniconda3/envs/tableshift/lib/python3.10/site-packages/tableshift/core/data_source.py:396: PerformanceWarning: DataFrame is highly fragmented.  This is usually the result of calling `frame.insert` many times, which has poor performance.  Consider joining all columns at once using pd.concat(axis=1) instead.  To get a de-fragmented frame, use `newframe = frame.copy()`\n",
      "  year_data[\"ACS_YEAR\"] = year\n"
     ]
    }
   ],
   "source": [
    "from tableshift import get_dataset\n",
    "dset = get_dataset(name=name, cache_dir=cache_dir)"
   ]
  },
  {
   "cell_type": "code",
   "execution_count": 14,
   "id": "51cd0ce6",
   "metadata": {},
   "outputs": [
    {
     "data": {
      "text/plain": [
       "(840582, 241)"
      ]
     },
     "execution_count": 14,
     "metadata": {},
     "output_type": "execute_result"
    }
   ],
   "source": [
    "dset._df.shape"
   ]
  },
  {
   "cell_type": "code",
   "execution_count": 16,
   "id": "65d031f6",
   "metadata": {},
   "outputs": [
    {
     "data": {
      "text/plain": [
       "241"
      ]
     },
     "execution_count": 16,
     "metadata": {},
     "output_type": "execute_result"
    }
   ],
   "source": [
    "dset._df.columns.__len__()"
   ]
  },
  {
   "cell_type": "code",
   "execution_count": 17,
   "id": "57fc341f",
   "metadata": {},
   "outputs": [],
   "source": [
    "X_tr, y_tr, G_tr, d_tr = dset.get_pandas(split='train')"
   ]
  },
  {
   "cell_type": "code",
   "execution_count": 18,
   "id": "ef011a0c",
   "metadata": {},
   "outputs": [
    {
     "data": {
      "text/plain": [
       "(629018, 239)"
      ]
     },
     "execution_count": 18,
     "metadata": {},
     "output_type": "execute_result"
    }
   ],
   "source": [
    "X_tr.shape"
   ]
  },
  {
   "cell_type": "code",
   "execution_count": 19,
   "id": "4925f4a5",
   "metadata": {},
   "outputs": [
    {
     "data": {
      "text/plain": [
       "(629018,)"
      ]
     },
     "execution_count": 19,
     "metadata": {},
     "output_type": "execute_result"
    }
   ],
   "source": [
    "y_tr.shape"
   ]
  },
  {
   "cell_type": "code",
   "execution_count": 20,
   "id": "21585087",
   "metadata": {},
   "outputs": [
    {
     "data": {
      "text/plain": [
       "9"
      ]
     },
     "execution_count": 20,
     "metadata": {},
     "output_type": "execute_result"
    }
   ],
   "source": [
    "d_tr.unique().__len__()"
   ]
  },
  {
   "cell_type": "code",
   "execution_count": 21,
   "id": "7d0a833c",
   "metadata": {},
   "outputs": [
    {
     "data": {
      "text/html": [
       "<div>\n",
       "<style scoped>\n",
       "    .dataframe tbody tr th:only-of-type {\n",
       "        vertical-align: middle;\n",
       "    }\n",
       "\n",
       "    .dataframe tbody tr th {\n",
       "        vertical-align: top;\n",
       "    }\n",
       "\n",
       "    .dataframe thead th {\n",
       "        text-align: right;\n",
       "    }\n",
       "</style>\n",
       "<table border=\"1\" class=\"dataframe\">\n",
       "  <thead>\n",
       "    <tr style=\"text-align: right;\">\n",
       "      <th></th>\n",
       "      <th>RAC1P</th>\n",
       "      <th>SEX</th>\n",
       "    </tr>\n",
       "  </thead>\n",
       "  <tbody>\n",
       "    <tr>\n",
       "      <th>110337</th>\n",
       "      <td>0</td>\n",
       "      <td>1</td>\n",
       "    </tr>\n",
       "    <tr>\n",
       "      <th>135608</th>\n",
       "      <td>1</td>\n",
       "      <td>1</td>\n",
       "    </tr>\n",
       "    <tr>\n",
       "      <th>749395</th>\n",
       "      <td>0</td>\n",
       "      <td>0</td>\n",
       "    </tr>\n",
       "    <tr>\n",
       "      <th>211358</th>\n",
       "      <td>1</td>\n",
       "      <td>0</td>\n",
       "    </tr>\n",
       "    <tr>\n",
       "      <th>706794</th>\n",
       "      <td>1</td>\n",
       "      <td>0</td>\n",
       "    </tr>\n",
       "    <tr>\n",
       "      <th>...</th>\n",
       "      <td>...</td>\n",
       "      <td>...</td>\n",
       "    </tr>\n",
       "    <tr>\n",
       "      <th>32554</th>\n",
       "      <td>0</td>\n",
       "      <td>0</td>\n",
       "    </tr>\n",
       "    <tr>\n",
       "      <th>73580</th>\n",
       "      <td>0</td>\n",
       "      <td>0</td>\n",
       "    </tr>\n",
       "    <tr>\n",
       "      <th>57197</th>\n",
       "      <td>1</td>\n",
       "      <td>1</td>\n",
       "    </tr>\n",
       "    <tr>\n",
       "      <th>94281</th>\n",
       "      <td>0</td>\n",
       "      <td>0</td>\n",
       "    </tr>\n",
       "    <tr>\n",
       "      <th>35330</th>\n",
       "      <td>1</td>\n",
       "      <td>0</td>\n",
       "    </tr>\n",
       "  </tbody>\n",
       "</table>\n",
       "<p>629018 rows × 2 columns</p>\n",
       "</div>"
      ],
      "text/plain": [
       "        RAC1P  SEX\n",
       "110337      0    1\n",
       "135608      1    1\n",
       "749395      0    0\n",
       "211358      1    0\n",
       "706794      1    0\n",
       "...       ...  ...\n",
       "32554       0    0\n",
       "73580       0    0\n",
       "57197       1    1\n",
       "94281       0    0\n",
       "35330       1    0\n",
       "\n",
       "[629018 rows x 2 columns]"
      ]
     },
     "execution_count": 21,
     "metadata": {},
     "output_type": "execute_result"
    }
   ],
   "source": [
    "G_tr"
   ]
  },
  {
   "cell_type": "code",
   "execution_count": 22,
   "id": "674b5b77",
   "metadata": {},
   "outputs": [],
   "source": [
    "X_te, y_te, G_te, d_te = dset.get_pandas(split=\"ood_test\")"
   ]
  },
  {
   "cell_type": "code",
   "execution_count": 23,
   "id": "d280b07d",
   "metadata": {},
   "outputs": [
    {
     "data": {
      "text/plain": [
       "(48878, 239)"
      ]
     },
     "execution_count": 23,
     "metadata": {},
     "output_type": "execute_result"
    }
   ],
   "source": [
    "X_te.shape"
   ]
  },
  {
   "cell_type": "code",
   "execution_count": null,
   "id": "d8f1b821",
   "metadata": {},
   "outputs": [
    {
     "data": {
      "text/plain": [
       "1"
      ]
     },
     "execution_count": 24,
     "metadata": {},
     "output_type": "execute_result"
    }
   ],
   "source": [
    "d_te.unique().__len__()  # one ood domain"
   ]
  },
  {
   "cell_type": "markdown",
   "id": "9eefde39",
   "metadata": {},
   "source": [
    "## Hospital Readmission"
   ]
  },
  {
   "cell_type": "code",
   "execution_count": 25,
   "id": "93195d3f",
   "metadata": {},
   "outputs": [
    {
     "data": {
      "text/html": [
       "<pre style=\"white-space:pre;overflow-x:auto;line-height:normal;font-family:Menlo,'DejaVu Sans Mono',consolas,'Courier New',monospace\"><span style=\"font-weight: bold\">{</span>\n",
       "    <span style=\"color: #008000; text-decoration-color: #008000\">'splitter'</span>: <span style=\"color: #800080; text-decoration-color: #800080; font-weight: bold\">DomainSplitter</span><span style=\"font-weight: bold\">(</span>\n",
       "        <span style=\"color: #808000; text-decoration-color: #808000\">val_size</span>=<span style=\"color: #008080; text-decoration-color: #008080; font-weight: bold\">0.1</span>,\n",
       "        <span style=\"color: #808000; text-decoration-color: #808000\">random_state</span>=<span style=\"color: #008080; text-decoration-color: #008080; font-weight: bold\">264738</span>,\n",
       "        <span style=\"color: #808000; text-decoration-color: #808000\">id_test_size</span>=<span style=\"color: #008080; text-decoration-color: #008080; font-weight: bold\">0.1</span>,\n",
       "        <span style=\"color: #808000; text-decoration-color: #808000\">domain_split_varname</span>=<span style=\"color: #008000; text-decoration-color: #008000\">'admission_source_id'</span>,\n",
       "        <span style=\"color: #808000; text-decoration-color: #808000\">domain_split_ood_values</span>=<span style=\"font-weight: bold\">[</span><span style=\"color: #008080; text-decoration-color: #008080; font-weight: bold\">7</span><span style=\"font-weight: bold\">]</span>,\n",
       "        <span style=\"color: #808000; text-decoration-color: #808000\">domain_split_id_values</span>=<span style=\"color: #800080; text-decoration-color: #800080; font-style: italic\">None</span>,\n",
       "        <span style=\"color: #808000; text-decoration-color: #808000\">domain_split_gt_thresh</span>=<span style=\"color: #800080; text-decoration-color: #800080; font-style: italic\">None</span>,\n",
       "        <span style=\"color: #808000; text-decoration-color: #808000\">drop_domain_split_col</span>=<span style=\"color: #00ff00; text-decoration-color: #00ff00; font-style: italic\">True</span>,\n",
       "        <span style=\"color: #808000; text-decoration-color: #808000\">ood_val_size</span>=<span style=\"color: #008080; text-decoration-color: #008080; font-weight: bold\">0.1</span>\n",
       "    <span style=\"font-weight: bold\">)</span>,\n",
       "    <span style=\"color: #008000; text-decoration-color: #008000\">'grouper'</span>: <span style=\"color: #800080; text-decoration-color: #800080; font-weight: bold\">Grouper</span><span style=\"font-weight: bold\">(</span>\n",
       "        <span style=\"color: #808000; text-decoration-color: #808000\">features_and_values</span>=<span style=\"font-weight: bold\">{</span><span style=\"color: #008000; text-decoration-color: #008000\">'race'</span>: <span style=\"font-weight: bold\">[</span><span style=\"color: #008000; text-decoration-color: #008000\">'Caucasian'</span><span style=\"font-weight: bold\">]</span>, <span style=\"color: #008000; text-decoration-color: #008000\">'gender'</span>: <span style=\"font-weight: bold\">[</span><span style=\"color: #008000; text-decoration-color: #008000\">'Male'</span><span style=\"font-weight: bold\">]}</span>,\n",
       "        <span style=\"color: #808000; text-decoration-color: #808000\">drop</span>=<span style=\"color: #ff0000; text-decoration-color: #ff0000; font-style: italic\">False</span>,\n",
       "        <span style=\"color: #808000; text-decoration-color: #808000\">transformer</span>=<span style=\"color: #800080; text-decoration-color: #800080; font-style: italic\">None</span>\n",
       "    <span style=\"font-weight: bold\">)</span>,\n",
       "    <span style=\"color: #008000; text-decoration-color: #008000\">'preprocessor_config'</span>: <span style=\"color: #800080; text-decoration-color: #800080; font-weight: bold\">PreprocessorConfig</span><span style=\"font-weight: bold\">(</span>\n",
       "        <span style=\"color: #808000; text-decoration-color: #808000\">categorical_features</span>=<span style=\"color: #008000; text-decoration-color: #008000\">'one_hot'</span>,\n",
       "        <span style=\"color: #808000; text-decoration-color: #808000\">numeric_features</span>=<span style=\"color: #008000; text-decoration-color: #008000\">'normalize'</span>,\n",
       "        <span style=\"color: #808000; text-decoration-color: #808000\">domain_labels</span>=<span style=\"color: #008000; text-decoration-color: #008000\">'label_encode'</span>,\n",
       "        <span style=\"color: #808000; text-decoration-color: #808000\">passthrough_columns</span>=<span style=\"color: #800080; text-decoration-color: #800080; font-style: italic\">None</span>,\n",
       "        <span style=\"color: #808000; text-decoration-color: #808000\">dropna</span>=<span style=\"color: #008000; text-decoration-color: #008000\">'rows'</span>,\n",
       "        <span style=\"color: #808000; text-decoration-color: #808000\">use_extended_names</span>=<span style=\"color: #ff0000; text-decoration-color: #ff0000; font-style: italic\">False</span>,\n",
       "        <span style=\"color: #808000; text-decoration-color: #808000\">map_targets</span>=<span style=\"color: #ff0000; text-decoration-color: #ff0000; font-style: italic\">False</span>,\n",
       "        <span style=\"color: #808000; text-decoration-color: #808000\">cast_targets_to_default_type</span>=<span style=\"color: #ff0000; text-decoration-color: #ff0000; font-style: italic\">False</span>,\n",
       "        <span style=\"color: #808000; text-decoration-color: #808000\">min_frequency</span>=<span style=\"color: #008080; text-decoration-color: #008080; font-weight: bold\">0.01</span>,\n",
       "        <span style=\"color: #808000; text-decoration-color: #808000\">max_categories</span>=<span style=\"color: #800080; text-decoration-color: #800080; font-style: italic\">None</span>,\n",
       "        <span style=\"color: #808000; text-decoration-color: #808000\">n_bins</span>=<span style=\"color: #008080; text-decoration-color: #008080; font-weight: bold\">5</span>,\n",
       "        <span style=\"color: #808000; text-decoration-color: #808000\">sub_illegal_chars</span>=<span style=\"color: #00ff00; text-decoration-color: #00ff00; font-style: italic\">True</span>\n",
       "    <span style=\"font-weight: bold\">)</span>,\n",
       "    <span style=\"color: #008000; text-decoration-color: #008000\">'tabular_dataset_kwargs'</span>: <span style=\"font-weight: bold\">{}</span>\n",
       "<span style=\"font-weight: bold\">}</span>\n",
       "</pre>\n"
      ],
      "text/plain": [
       "\u001b[1m{\u001b[0m\n",
       "    \u001b[32m'splitter'\u001b[0m: \u001b[1;35mDomainSplitter\u001b[0m\u001b[1m(\u001b[0m\n",
       "        \u001b[33mval_size\u001b[0m=\u001b[1;36m0\u001b[0m\u001b[1;36m.1\u001b[0m,\n",
       "        \u001b[33mrandom_state\u001b[0m=\u001b[1;36m264738\u001b[0m,\n",
       "        \u001b[33mid_test_size\u001b[0m=\u001b[1;36m0\u001b[0m\u001b[1;36m.1\u001b[0m,\n",
       "        \u001b[33mdomain_split_varname\u001b[0m=\u001b[32m'admission_source_id'\u001b[0m,\n",
       "        \u001b[33mdomain_split_ood_values\u001b[0m=\u001b[1m[\u001b[0m\u001b[1;36m7\u001b[0m\u001b[1m]\u001b[0m,\n",
       "        \u001b[33mdomain_split_id_values\u001b[0m=\u001b[3;35mNone\u001b[0m,\n",
       "        \u001b[33mdomain_split_gt_thresh\u001b[0m=\u001b[3;35mNone\u001b[0m,\n",
       "        \u001b[33mdrop_domain_split_col\u001b[0m=\u001b[3;92mTrue\u001b[0m,\n",
       "        \u001b[33mood_val_size\u001b[0m=\u001b[1;36m0\u001b[0m\u001b[1;36m.1\u001b[0m\n",
       "    \u001b[1m)\u001b[0m,\n",
       "    \u001b[32m'grouper'\u001b[0m: \u001b[1;35mGrouper\u001b[0m\u001b[1m(\u001b[0m\n",
       "        \u001b[33mfeatures_and_values\u001b[0m=\u001b[1m{\u001b[0m\u001b[32m'race'\u001b[0m: \u001b[1m[\u001b[0m\u001b[32m'Caucasian'\u001b[0m\u001b[1m]\u001b[0m, \u001b[32m'gender'\u001b[0m: \u001b[1m[\u001b[0m\u001b[32m'Male'\u001b[0m\u001b[1m]\u001b[0m\u001b[1m}\u001b[0m,\n",
       "        \u001b[33mdrop\u001b[0m=\u001b[3;91mFalse\u001b[0m,\n",
       "        \u001b[33mtransformer\u001b[0m=\u001b[3;35mNone\u001b[0m\n",
       "    \u001b[1m)\u001b[0m,\n",
       "    \u001b[32m'preprocessor_config'\u001b[0m: \u001b[1;35mPreprocessorConfig\u001b[0m\u001b[1m(\u001b[0m\n",
       "        \u001b[33mcategorical_features\u001b[0m=\u001b[32m'one_hot'\u001b[0m,\n",
       "        \u001b[33mnumeric_features\u001b[0m=\u001b[32m'normalize'\u001b[0m,\n",
       "        \u001b[33mdomain_labels\u001b[0m=\u001b[32m'label_encode'\u001b[0m,\n",
       "        \u001b[33mpassthrough_columns\u001b[0m=\u001b[3;35mNone\u001b[0m,\n",
       "        \u001b[33mdropna\u001b[0m=\u001b[32m'rows'\u001b[0m,\n",
       "        \u001b[33muse_extended_names\u001b[0m=\u001b[3;91mFalse\u001b[0m,\n",
       "        \u001b[33mmap_targets\u001b[0m=\u001b[3;91mFalse\u001b[0m,\n",
       "        \u001b[33mcast_targets_to_default_type\u001b[0m=\u001b[3;91mFalse\u001b[0m,\n",
       "        \u001b[33mmin_frequency\u001b[0m=\u001b[1;36m0\u001b[0m\u001b[1;36m.01\u001b[0m,\n",
       "        \u001b[33mmax_categories\u001b[0m=\u001b[3;35mNone\u001b[0m,\n",
       "        \u001b[33mn_bins\u001b[0m=\u001b[1;36m5\u001b[0m,\n",
       "        \u001b[33msub_illegal_chars\u001b[0m=\u001b[3;92mTrue\u001b[0m\n",
       "    \u001b[1m)\u001b[0m,\n",
       "    \u001b[32m'tabular_dataset_kwargs'\u001b[0m: \u001b[1m{\u001b[0m\u001b[1m}\u001b[0m\n",
       "\u001b[1m}\u001b[0m\n"
      ]
     },
     "metadata": {},
     "output_type": "display_data"
    }
   ],
   "source": [
    "name = \"diabetes_readmission\"\n",
    "expt_config = BENCHMARK_CONFIGS.get(name)\n",
    "rich_print(expt_config.__dict__);  # the `domain_split_varname` is the domain indicator"
   ]
  },
  {
   "cell_type": "code",
   "execution_count": 26,
   "id": "c9ef097d",
   "metadata": {},
   "outputs": [
    {
     "name": "stdout",
     "output_type": "stream",
     "text": [
      "/Users/hgkahng/Workspaces/domain_adaptation/tmp/diabetes_readmission\n"
     ]
    }
   ],
   "source": [
    "cache_dir = Path(f\"../../tmp/{name}\").resolve()\n",
    "print(cache_dir)"
   ]
  },
  {
   "cell_type": "code",
   "execution_count": 27,
   "id": "d1ac9437",
   "metadata": {},
   "outputs": [],
   "source": [
    "from tableshift import get_dataset\n",
    "dset = get_dataset(name=name, cache_dir=cache_dir)"
   ]
  },
  {
   "cell_type": "code",
   "execution_count": 45,
   "id": "d60ff0e7",
   "metadata": {},
   "outputs": [
    {
     "data": {
      "text/plain": [
       "True"
      ]
     },
     "execution_count": 45,
     "metadata": {},
     "output_type": "execute_result"
    }
   ],
   "source": [
    "'admission_source_id' in dset._df.columns  # TODO: we need to drop this ..."
   ]
  },
  {
   "cell_type": "code",
   "execution_count": 28,
   "id": "9147b050",
   "metadata": {},
   "outputs": [
    {
     "data": {
      "text/plain": [
       "(99493, 185)"
      ]
     },
     "execution_count": 28,
     "metadata": {},
     "output_type": "execute_result"
    }
   ],
   "source": [
    "dset._df.shape"
   ]
  },
  {
   "cell_type": "code",
   "execution_count": 34,
   "id": "ae52c1ee",
   "metadata": {},
   "outputs": [
    {
     "data": {
      "text/plain": [
       "<Axes: >"
      ]
     },
     "execution_count": 34,
     "metadata": {},
     "output_type": "execute_result"
    },
    {
     "data": {
      "image/png": "[encoded data removed]",
      "text/plain": [
       "<Figure size 640x480 with 1 Axes>"
      ]
     },
     "metadata": {},
     "output_type": "display_data"
    }
   ],
   "source": [
    "dset._df['admission_source_id'].value_counts().sort_index().plot(kind='bar', edgecolor='k')"
   ]
  },
  {
   "cell_type": "code",
   "execution_count": 35,
   "id": "1f04889f",
   "metadata": {},
   "outputs": [],
   "source": [
    "X_tr, y_tr, G_tr, d_tr = dset.get_pandas(split=\"train\")"
   ]
  },
  {
   "cell_type": "code",
   "execution_count": 36,
   "id": "ff1b0c01",
   "metadata": {},
   "outputs": [
    {
     "data": {
      "text/plain": [
       "(34288, 183)"
      ]
     },
     "execution_count": 36,
     "metadata": {},
     "output_type": "execute_result"
    }
   ],
   "source": [
    "X_tr.shape"
   ]
  },
  {
   "cell_type": "code",
   "execution_count": 38,
   "id": "6b66c0f4",
   "metadata": {},
   "outputs": [
    {
     "data": {
      "text/html": [
       "<div>\n",
       "<style scoped>\n",
       "    .dataframe tbody tr th:only-of-type {\n",
       "        vertical-align: middle;\n",
       "    }\n",
       "\n",
       "    .dataframe tbody tr th {\n",
       "        vertical-align: top;\n",
       "    }\n",
       "\n",
       "    .dataframe thead th {\n",
       "        text-align: right;\n",
       "    }\n",
       "</style>\n",
       "<table border=\"1\" class=\"dataframe\">\n",
       "  <thead>\n",
       "    <tr style=\"text-align: right;\">\n",
       "      <th></th>\n",
       "      <th>race</th>\n",
       "      <th>gender</th>\n",
       "    </tr>\n",
       "  </thead>\n",
       "  <tbody>\n",
       "    <tr>\n",
       "      <th>6401</th>\n",
       "      <td>1</td>\n",
       "      <td>1</td>\n",
       "    </tr>\n",
       "    <tr>\n",
       "      <th>7204</th>\n",
       "      <td>1</td>\n",
       "      <td>1</td>\n",
       "    </tr>\n",
       "    <tr>\n",
       "      <th>51101</th>\n",
       "      <td>1</td>\n",
       "      <td>1</td>\n",
       "    </tr>\n",
       "    <tr>\n",
       "      <th>67951</th>\n",
       "      <td>1</td>\n",
       "      <td>1</td>\n",
       "    </tr>\n",
       "    <tr>\n",
       "      <th>41566</th>\n",
       "      <td>0</td>\n",
       "      <td>1</td>\n",
       "    </tr>\n",
       "    <tr>\n",
       "      <th>...</th>\n",
       "      <td>...</td>\n",
       "      <td>...</td>\n",
       "    </tr>\n",
       "    <tr>\n",
       "      <th>13553</th>\n",
       "      <td>1</td>\n",
       "      <td>1</td>\n",
       "    </tr>\n",
       "    <tr>\n",
       "      <th>14010</th>\n",
       "      <td>1</td>\n",
       "      <td>1</td>\n",
       "    </tr>\n",
       "    <tr>\n",
       "      <th>34431</th>\n",
       "      <td>1</td>\n",
       "      <td>0</td>\n",
       "    </tr>\n",
       "    <tr>\n",
       "      <th>28832</th>\n",
       "      <td>1</td>\n",
       "      <td>0</td>\n",
       "    </tr>\n",
       "    <tr>\n",
       "      <th>40551</th>\n",
       "      <td>1</td>\n",
       "      <td>1</td>\n",
       "    </tr>\n",
       "  </tbody>\n",
       "</table>\n",
       "<p>34288 rows × 2 columns</p>\n",
       "</div>"
      ],
      "text/plain": [
       "       race  gender\n",
       "6401      1       1\n",
       "7204      1       1\n",
       "51101     1       1\n",
       "67951     1       1\n",
       "41566     0       1\n",
       "...     ...     ...\n",
       "13553     1       1\n",
       "14010     1       1\n",
       "34431     1       0\n",
       "28832     1       0\n",
       "40551     1       1\n",
       "\n",
       "[34288 rows x 2 columns]"
      ]
     },
     "execution_count": 38,
     "metadata": {},
     "output_type": "execute_result"
    }
   ],
   "source": [
    "G_tr  # race, gener"
   ]
  },
  {
   "cell_type": "code",
   "execution_count": 41,
   "id": "b7a1332a",
   "metadata": {},
   "outputs": [
    {
     "data": {
      "text/plain": [
       "15"
      ]
     },
     "execution_count": 41,
     "metadata": {},
     "output_type": "execute_result"
    }
   ],
   "source": [
    "d_tr.unique().__len__()"
   ]
  },
  {
   "cell_type": "code",
   "execution_count": 42,
   "id": "b6cecec5",
   "metadata": {},
   "outputs": [],
   "source": [
    "X_te, y_te, G_te, d_te = dset.get_pandas(split=\"ood_test\")"
   ]
  },
  {
   "cell_type": "code",
   "execution_count": 43,
   "id": "1dd5acbc",
   "metadata": {},
   "outputs": [
    {
     "data": {
      "text/plain": [
       "(50968, 183)"
      ]
     },
     "execution_count": 43,
     "metadata": {},
     "output_type": "execute_result"
    }
   ],
   "source": [
    "X_te.shape"
   ]
  },
  {
   "cell_type": "code",
   "execution_count": 46,
   "id": "259ed529",
   "metadata": {},
   "outputs": [
    {
     "data": {
      "text/plain": [
       "1"
      ]
     },
     "execution_count": 46,
     "metadata": {},
     "output_type": "execute_result"
    }
   ],
   "source": [
    "d_te.unique().__len__()"
   ]
  },
  {
   "cell_type": "markdown",
   "id": "ad802f74",
   "metadata": {},
   "source": [
    "## Income"
   ]
  },
  {
   "cell_type": "code",
   "execution_count": 47,
   "id": "6b161d6d",
   "metadata": {},
   "outputs": [
    {
     "data": {
      "text/html": [
       "<pre style=\"white-space:pre;overflow-x:auto;line-height:normal;font-family:Menlo,'DejaVu Sans Mono',consolas,'Courier New',monospace\"><span style=\"font-weight: bold\">{</span>\n",
       "    <span style=\"color: #008000; text-decoration-color: #008000\">'splitter'</span>: <span style=\"color: #800080; text-decoration-color: #800080; font-weight: bold\">DomainSplitter</span><span style=\"font-weight: bold\">(</span>\n",
       "        <span style=\"color: #808000; text-decoration-color: #808000\">val_size</span>=<span style=\"color: #008080; text-decoration-color: #008080; font-weight: bold\">0.1</span>,\n",
       "        <span style=\"color: #808000; text-decoration-color: #808000\">random_state</span>=<span style=\"color: #008080; text-decoration-color: #008080; font-weight: bold\">264738</span>,\n",
       "        <span style=\"color: #808000; text-decoration-color: #808000\">id_test_size</span>=<span style=\"color: #008080; text-decoration-color: #008080; font-weight: bold\">0.1</span>,\n",
       "        <span style=\"color: #808000; text-decoration-color: #808000\">domain_split_varname</span>=<span style=\"color: #008000; text-decoration-color: #008000\">'DIVISION'</span>,\n",
       "        <span style=\"color: #808000; text-decoration-color: #808000\">domain_split_ood_values</span>=<span style=\"font-weight: bold\">[</span><span style=\"color: #008000; text-decoration-color: #008000\">'01'</span><span style=\"font-weight: bold\">]</span>,\n",
       "        <span style=\"color: #808000; text-decoration-color: #808000\">domain_split_id_values</span>=<span style=\"color: #800080; text-decoration-color: #800080; font-style: italic\">None</span>,\n",
       "        <span style=\"color: #808000; text-decoration-color: #808000\">domain_split_gt_thresh</span>=<span style=\"color: #800080; text-decoration-color: #800080; font-style: italic\">None</span>,\n",
       "        <span style=\"color: #808000; text-decoration-color: #808000\">drop_domain_split_col</span>=<span style=\"color: #00ff00; text-decoration-color: #00ff00; font-style: italic\">True</span>,\n",
       "        <span style=\"color: #808000; text-decoration-color: #808000\">ood_val_size</span>=<span style=\"color: #008080; text-decoration-color: #008080; font-weight: bold\">0.1</span>\n",
       "    <span style=\"font-weight: bold\">)</span>,\n",
       "    <span style=\"color: #008000; text-decoration-color: #008000\">'grouper'</span>: <span style=\"color: #800080; text-decoration-color: #800080; font-weight: bold\">Grouper</span><span style=\"font-weight: bold\">(</span><span style=\"color: #808000; text-decoration-color: #808000\">features_and_values</span>=<span style=\"font-weight: bold\">{</span><span style=\"color: #008000; text-decoration-color: #008000\">'RAC1P'</span>: <span style=\"font-weight: bold\">[</span><span style=\"color: #008080; text-decoration-color: #008080; font-weight: bold\">1</span><span style=\"font-weight: bold\">]</span>, <span style=\"color: #008000; text-decoration-color: #008000\">'SEX'</span>: <span style=\"font-weight: bold\">[</span><span style=\"color: #008080; text-decoration-color: #008080; font-weight: bold\">1</span><span style=\"font-weight: bold\">]}</span>, <span style=\"color: #808000; text-decoration-color: #808000\">drop</span>=<span style=\"color: #ff0000; text-decoration-color: #ff0000; font-style: italic\">False</span>, <span style=\"color: #808000; text-decoration-color: #808000\">transformer</span>=<span style=\"color: #800080; text-decoration-color: #800080; font-style: italic\">None</span><span style=\"font-weight: bold\">)</span>,\n",
       "    <span style=\"color: #008000; text-decoration-color: #008000\">'preprocessor_config'</span>: <span style=\"color: #800080; text-decoration-color: #800080; font-weight: bold\">PreprocessorConfig</span><span style=\"font-weight: bold\">(</span>\n",
       "        <span style=\"color: #808000; text-decoration-color: #808000\">categorical_features</span>=<span style=\"color: #008000; text-decoration-color: #008000\">'one_hot'</span>,\n",
       "        <span style=\"color: #808000; text-decoration-color: #808000\">numeric_features</span>=<span style=\"color: #008000; text-decoration-color: #008000\">'normalize'</span>,\n",
       "        <span style=\"color: #808000; text-decoration-color: #808000\">domain_labels</span>=<span style=\"color: #008000; text-decoration-color: #008000\">'label_encode'</span>,\n",
       "        <span style=\"color: #808000; text-decoration-color: #808000\">passthrough_columns</span>=<span style=\"color: #800080; text-decoration-color: #800080; font-style: italic\">None</span>,\n",
       "        <span style=\"color: #808000; text-decoration-color: #808000\">dropna</span>=<span style=\"color: #008000; text-decoration-color: #008000\">'rows'</span>,\n",
       "        <span style=\"color: #808000; text-decoration-color: #808000\">use_extended_names</span>=<span style=\"color: #ff0000; text-decoration-color: #ff0000; font-style: italic\">False</span>,\n",
       "        <span style=\"color: #808000; text-decoration-color: #808000\">map_targets</span>=<span style=\"color: #ff0000; text-decoration-color: #ff0000; font-style: italic\">False</span>,\n",
       "        <span style=\"color: #808000; text-decoration-color: #808000\">cast_targets_to_default_type</span>=<span style=\"color: #ff0000; text-decoration-color: #ff0000; font-style: italic\">False</span>,\n",
       "        <span style=\"color: #808000; text-decoration-color: #808000\">min_frequency</span>=<span style=\"color: #800080; text-decoration-color: #800080; font-style: italic\">None</span>,\n",
       "        <span style=\"color: #808000; text-decoration-color: #808000\">max_categories</span>=<span style=\"color: #800080; text-decoration-color: #800080; font-style: italic\">None</span>,\n",
       "        <span style=\"color: #808000; text-decoration-color: #808000\">n_bins</span>=<span style=\"color: #008080; text-decoration-color: #008080; font-weight: bold\">5</span>,\n",
       "        <span style=\"color: #808000; text-decoration-color: #808000\">sub_illegal_chars</span>=<span style=\"color: #00ff00; text-decoration-color: #00ff00; font-style: italic\">True</span>\n",
       "    <span style=\"font-weight: bold\">)</span>,\n",
       "    <span style=\"color: #008000; text-decoration-color: #008000\">'tabular_dataset_kwargs'</span>: <span style=\"font-weight: bold\">{</span><span style=\"color: #008000; text-decoration-color: #008000\">'acs_task'</span>: <span style=\"color: #008000; text-decoration-color: #008000\">'acsincome'</span><span style=\"font-weight: bold\">}</span>\n",
       "<span style=\"font-weight: bold\">}</span>\n",
       "</pre>\n"
      ],
      "text/plain": [
       "\u001b[1m{\u001b[0m\n",
       "    \u001b[32m'splitter'\u001b[0m: \u001b[1;35mDomainSplitter\u001b[0m\u001b[1m(\u001b[0m\n",
       "        \u001b[33mval_size\u001b[0m=\u001b[1;36m0\u001b[0m\u001b[1;36m.1\u001b[0m,\n",
       "        \u001b[33mrandom_state\u001b[0m=\u001b[1;36m264738\u001b[0m,\n",
       "        \u001b[33mid_test_size\u001b[0m=\u001b[1;36m0\u001b[0m\u001b[1;36m.1\u001b[0m,\n",
       "        \u001b[33mdomain_split_varname\u001b[0m=\u001b[32m'DIVISION'\u001b[0m,\n",
       "        \u001b[33mdomain_split_ood_values\u001b[0m=\u001b[1m[\u001b[0m\u001b[32m'01'\u001b[0m\u001b[1m]\u001b[0m,\n",
       "        \u001b[33mdomain_split_id_values\u001b[0m=\u001b[3;35mNone\u001b[0m,\n",
       "        \u001b[33mdomain_split_gt_thresh\u001b[0m=\u001b[3;35mNone\u001b[0m,\n",
       "        \u001b[33mdrop_domain_split_col\u001b[0m=\u001b[3;92mTrue\u001b[0m,\n",
       "        \u001b[33mood_val_size\u001b[0m=\u001b[1;36m0\u001b[0m\u001b[1;36m.1\u001b[0m\n",
       "    \u001b[1m)\u001b[0m,\n",
       "    \u001b[32m'grouper'\u001b[0m: \u001b[1;35mGrouper\u001b[0m\u001b[1m(\u001b[0m\u001b[33mfeatures_and_values\u001b[0m=\u001b[1m{\u001b[0m\u001b[32m'RAC1P'\u001b[0m: \u001b[1m[\u001b[0m\u001b[1;36m1\u001b[0m\u001b[1m]\u001b[0m, \u001b[32m'SEX'\u001b[0m: \u001b[1m[\u001b[0m\u001b[1;36m1\u001b[0m\u001b[1m]\u001b[0m\u001b[1m}\u001b[0m, \u001b[33mdrop\u001b[0m=\u001b[3;91mFalse\u001b[0m, \u001b[33mtransformer\u001b[0m=\u001b[3;35mNone\u001b[0m\u001b[1m)\u001b[0m,\n",
       "    \u001b[32m'preprocessor_config'\u001b[0m: \u001b[1;35mPreprocessorConfig\u001b[0m\u001b[1m(\u001b[0m\n",
       "        \u001b[33mcategorical_features\u001b[0m=\u001b[32m'one_hot'\u001b[0m,\n",
       "        \u001b[33mnumeric_features\u001b[0m=\u001b[32m'normalize'\u001b[0m,\n",
       "        \u001b[33mdomain_labels\u001b[0m=\u001b[32m'label_encode'\u001b[0m,\n",
       "        \u001b[33mpassthrough_columns\u001b[0m=\u001b[3;35mNone\u001b[0m,\n",
       "        \u001b[33mdropna\u001b[0m=\u001b[32m'rows'\u001b[0m,\n",
       "        \u001b[33muse_extended_names\u001b[0m=\u001b[3;91mFalse\u001b[0m,\n",
       "        \u001b[33mmap_targets\u001b[0m=\u001b[3;91mFalse\u001b[0m,\n",
       "        \u001b[33mcast_targets_to_default_type\u001b[0m=\u001b[3;91mFalse\u001b[0m,\n",
       "        \u001b[33mmin_frequency\u001b[0m=\u001b[3;35mNone\u001b[0m,\n",
       "        \u001b[33mmax_categories\u001b[0m=\u001b[3;35mNone\u001b[0m,\n",
       "        \u001b[33mn_bins\u001b[0m=\u001b[1;36m5\u001b[0m,\n",
       "        \u001b[33msub_illegal_chars\u001b[0m=\u001b[3;92mTrue\u001b[0m\n",
       "    \u001b[1m)\u001b[0m,\n",
       "    \u001b[32m'tabular_dataset_kwargs'\u001b[0m: \u001b[1m{\u001b[0m\u001b[32m'acs_task'\u001b[0m: \u001b[32m'acsincome'\u001b[0m\u001b[1m}\u001b[0m\n",
       "\u001b[1m}\u001b[0m\n"
      ]
     },
     "metadata": {},
     "output_type": "display_data"
    }
   ],
   "source": [
    "name = \"acsincome\"\n",
    "expt_config = BENCHMARK_CONFIGS.get(name)\n",
    "rich_print(expt_config.__dict__);  # the `domain_split_varname` is the domain indicator"
   ]
  },
  {
   "cell_type": "code",
   "execution_count": 48,
   "id": "eece6ae8",
   "metadata": {},
   "outputs": [
    {
     "name": "stdout",
     "output_type": "stream",
     "text": [
      "/Users/hgkahng/Workspaces/domain_adaptation/tmp/acsincome\n"
     ]
    }
   ],
   "source": [
    "cache_dir = Path(f\"../../tmp/{name}\").resolve()\n",
    "print(cache_dir)"
   ]
  },
  {
   "cell_type": "code",
   "execution_count": 49,
   "id": "5d789ee8",
   "metadata": {},
   "outputs": [
    {
     "name": "stdout",
     "output_type": "stream",
     "text": [
      "Downloading data for 2018 1-Year person survey for AL...\n",
      "Downloading data for 2018 1-Year person survey for AK...\n",
      "Downloading data for 2018 1-Year person survey for AZ...\n",
      "Downloading data for 2018 1-Year person survey for AR...\n",
      "Downloading data for 2018 1-Year person survey for CA...\n",
      "Downloading data for 2018 1-Year person survey for CO...\n",
      "Downloading data for 2018 1-Year person survey for CT...\n",
      "Downloading data for 2018 1-Year person survey for DE...\n",
      "Downloading data for 2018 1-Year person survey for FL...\n",
      "Downloading data for 2018 1-Year person survey for GA...\n",
      "Downloading data for 2018 1-Year person survey for HI...\n",
      "Downloading data for 2018 1-Year person survey for ID...\n",
      "Downloading data for 2018 1-Year person survey for IL...\n",
      "Downloading data for 2018 1-Year person survey for IN...\n",
      "Downloading data for 2018 1-Year person survey for IA...\n",
      "Downloading data for 2018 1-Year person survey for KS...\n",
      "Downloading data for 2018 1-Year person survey for KY...\n",
      "Downloading data for 2018 1-Year person survey for LA...\n",
      "Downloading data for 2018 1-Year person survey for ME...\n",
      "Downloading data for 2018 1-Year person survey for MD...\n",
      "Downloading data for 2018 1-Year person survey for MA...\n",
      "Downloading data for 2018 1-Year person survey for MI...\n",
      "Downloading data for 2018 1-Year person survey for MN...\n",
      "Downloading data for 2018 1-Year person survey for MS...\n",
      "Downloading data for 2018 1-Year person survey for MO...\n",
      "Downloading data for 2018 1-Year person survey for MT...\n",
      "Downloading data for 2018 1-Year person survey for NE...\n",
      "Downloading data for 2018 1-Year person survey for NV...\n",
      "Downloading data for 2018 1-Year person survey for NH...\n",
      "Downloading data for 2018 1-Year person survey for NJ...\n",
      "Downloading data for 2018 1-Year person survey for NM...\n",
      "Downloading data for 2018 1-Year person survey for NY...\n",
      "Downloading data for 2018 1-Year person survey for NC...\n",
      "Downloading data for 2018 1-Year person survey for ND...\n",
      "Downloading data for 2018 1-Year person survey for OH...\n",
      "Downloading data for 2018 1-Year person survey for OK...\n",
      "Downloading data for 2018 1-Year person survey for OR...\n",
      "Downloading data for 2018 1-Year person survey for PA...\n",
      "Downloading data for 2018 1-Year person survey for RI...\n",
      "Downloading data for 2018 1-Year person survey for SC...\n",
      "Downloading data for 2018 1-Year person survey for SD...\n",
      "Downloading data for 2018 1-Year person survey for TN...\n",
      "Downloading data for 2018 1-Year person survey for TX...\n",
      "Downloading data for 2018 1-Year person survey for UT...\n",
      "Downloading data for 2018 1-Year person survey for VT...\n",
      "Downloading data for 2018 1-Year person survey for VA...\n",
      "Downloading data for 2018 1-Year person survey for WA...\n",
      "Downloading data for 2018 1-Year person survey for WV...\n",
      "Downloading data for 2018 1-Year person survey for WI...\n",
      "Downloading data for 2018 1-Year person survey for WY...\n",
      "Downloading data for 2018 1-Year person survey for PR...\n",
      "Downloading data for 2018 1-Year household survey for AL...\n",
      "Downloading data for 2018 1-Year household survey for AK...\n",
      "Downloading data for 2018 1-Year household survey for AZ...\n",
      "Downloading data for 2018 1-Year household survey for AR...\n",
      "Downloading data for 2018 1-Year household survey for CA...\n",
      "Downloading data for 2018 1-Year household survey for CO...\n",
      "Downloading data for 2018 1-Year household survey for CT...\n",
      "Downloading data for 2018 1-Year household survey for DE...\n",
      "Downloading data for 2018 1-Year household survey for FL...\n",
      "Downloading data for 2018 1-Year household survey for GA...\n",
      "Downloading data for 2018 1-Year household survey for HI...\n",
      "Downloading data for 2018 1-Year household survey for ID...\n",
      "Downloading data for 2018 1-Year household survey for IL...\n",
      "Downloading data for 2018 1-Year household survey for IN...\n",
      "Downloading data for 2018 1-Year household survey for IA...\n",
      "Downloading data for 2018 1-Year household survey for KS...\n",
      "Downloading data for 2018 1-Year household survey for KY...\n",
      "Downloading data for 2018 1-Year household survey for LA...\n",
      "Downloading data for 2018 1-Year household survey for ME...\n",
      "Downloading data for 2018 1-Year household survey for MD...\n",
      "Downloading data for 2018 1-Year household survey for MA...\n",
      "Downloading data for 2018 1-Year household survey for MI...\n",
      "Downloading data for 2018 1-Year household survey for MN...\n",
      "Downloading data for 2018 1-Year household survey for MS...\n",
      "Downloading data for 2018 1-Year household survey for MO...\n",
      "Downloading data for 2018 1-Year household survey for MT...\n",
      "Downloading data for 2018 1-Year household survey for NE...\n",
      "Downloading data for 2018 1-Year household survey for NV...\n",
      "Downloading data for 2018 1-Year household survey for NH...\n",
      "Downloading data for 2018 1-Year household survey for NJ...\n",
      "Downloading data for 2018 1-Year household survey for NM...\n",
      "Downloading data for 2018 1-Year household survey for NY...\n",
      "Downloading data for 2018 1-Year household survey for NC...\n",
      "Downloading data for 2018 1-Year household survey for ND...\n",
      "Downloading data for 2018 1-Year household survey for OH...\n",
      "Downloading data for 2018 1-Year household survey for OK...\n",
      "Downloading data for 2018 1-Year household survey for OR...\n",
      "Downloading data for 2018 1-Year household survey for PA...\n",
      "Downloading data for 2018 1-Year household survey for RI...\n",
      "Downloading data for 2018 1-Year household survey for SC...\n",
      "Downloading data for 2018 1-Year household survey for SD...\n",
      "Downloading data for 2018 1-Year household survey for TN...\n",
      "Downloading data for 2018 1-Year household survey for TX...\n",
      "Downloading data for 2018 1-Year household survey for UT...\n",
      "Downloading data for 2018 1-Year household survey for VT...\n",
      "Downloading data for 2018 1-Year household survey for VA...\n",
      "Downloading data for 2018 1-Year household survey for WA...\n",
      "Downloading data for 2018 1-Year household survey for WV...\n",
      "Downloading data for 2018 1-Year household survey for WI...\n",
      "Downloading data for 2018 1-Year household survey for WY...\n",
      "Downloading data for 2018 1-Year household survey for PR...\n"
     ]
    },
    {
     "name": "stderr",
     "output_type": "stream",
     "text": [
      "/opt/miniconda3/envs/tableshift/lib/python3.10/site-packages/tableshift/core/data_source.py:396: PerformanceWarning: DataFrame is highly fragmented.  This is usually the result of calling `frame.insert` many times, which has poor performance.  Consider joining all columns at once using pd.concat(axis=1) instead.  To get a de-fragmented frame, use `newframe = frame.copy()`\n",
      "  year_data[\"ACS_YEAR\"] = year\n"
     ]
    }
   ],
   "source": [
    "from tableshift import get_dataset\n",
    "dset = get_dataset(name=name, cache_dir=cache_dir)"
   ]
  },
  {
   "cell_type": "code",
   "execution_count": 50,
   "id": "7836e462",
   "metadata": {},
   "outputs": [
    {
     "data": {
      "text/plain": [
       "(1664500, 234)"
      ]
     },
     "execution_count": 50,
     "metadata": {},
     "output_type": "execute_result"
    }
   ],
   "source": [
    "dset._df.shape"
   ]
  },
  {
   "cell_type": "code",
   "execution_count": null,
   "id": "fa922fe4",
   "metadata": {},
   "outputs": [
    {
     "data": {
      "text/plain": [
       "True"
      ]
     },
     "execution_count": 51,
     "metadata": {},
     "output_type": "execute_result"
    }
   ],
   "source": [
    "\"DIVISION\" in dset._df.columns  # TODO: Drop this later"
   ]
  },
  {
   "cell_type": "code",
   "execution_count": 53,
   "id": "457cdf32",
   "metadata": {},
   "outputs": [
    {
     "data": {
      "text/plain": [
       "<Axes: >"
      ]
     },
     "execution_count": 53,
     "metadata": {},
     "output_type": "execute_result"
    },
    {
     "data": {
      "image/png": "[encoded data removed]",
      "text/plain": [
       "<Figure size 640x480 with 1 Axes>"
      ]
     },
     "metadata": {},
     "output_type": "display_data"
    }
   ],
   "source": [
    "dset._df['DIVISION'].value_counts().sort_index().plot(kind='bar', edgecolor='k')"
   ]
  },
  {
   "cell_type": "code",
   "execution_count": 54,
   "id": "e67b041c",
   "metadata": {},
   "outputs": [],
   "source": [
    "X_tr, y_tr, G_tr, d_tr = dset.get_pandas(split='train')"
   ]
  },
  {
   "cell_type": "code",
   "execution_count": 55,
   "id": "bb616c45",
   "metadata": {},
   "outputs": [
    {
     "data": {
      "text/plain": [
       "(1264123, 232)"
      ]
     },
     "execution_count": 55,
     "metadata": {},
     "output_type": "execute_result"
    }
   ],
   "source": [
    "X_tr.shape"
   ]
  },
  {
   "cell_type": "code",
   "execution_count": 58,
   "id": "37133d1d",
   "metadata": {},
   "outputs": [
    {
     "data": {
      "text/plain": [
       "array([0., 1.])"
      ]
     },
     "execution_count": 58,
     "metadata": {},
     "output_type": "execute_result"
    }
   ],
   "source": [
    "y_tr.unique()"
   ]
  },
  {
   "cell_type": "code",
   "execution_count": 59,
   "id": "896abb01",
   "metadata": {},
   "outputs": [
    {
     "data": {
      "text/html": [
       "<div>\n",
       "<style scoped>\n",
       "    .dataframe tbody tr th:only-of-type {\n",
       "        vertical-align: middle;\n",
       "    }\n",
       "\n",
       "    .dataframe tbody tr th {\n",
       "        vertical-align: top;\n",
       "    }\n",
       "\n",
       "    .dataframe thead th {\n",
       "        text-align: right;\n",
       "    }\n",
       "</style>\n",
       "<table border=\"1\" class=\"dataframe\">\n",
       "  <thead>\n",
       "    <tr style=\"text-align: right;\">\n",
       "      <th></th>\n",
       "      <th>RAC1P</th>\n",
       "      <th>SEX</th>\n",
       "    </tr>\n",
       "  </thead>\n",
       "  <tbody>\n",
       "    <tr>\n",
       "      <th>1389235</th>\n",
       "      <td>1</td>\n",
       "      <td>0</td>\n",
       "    </tr>\n",
       "    <tr>\n",
       "      <th>644153</th>\n",
       "      <td>1</td>\n",
       "      <td>0</td>\n",
       "    </tr>\n",
       "    <tr>\n",
       "      <th>1134403</th>\n",
       "      <td>1</td>\n",
       "      <td>0</td>\n",
       "    </tr>\n",
       "    <tr>\n",
       "      <th>1277484</th>\n",
       "      <td>1</td>\n",
       "      <td>0</td>\n",
       "    </tr>\n",
       "    <tr>\n",
       "      <th>997142</th>\n",
       "      <td>1</td>\n",
       "      <td>1</td>\n",
       "    </tr>\n",
       "    <tr>\n",
       "      <th>...</th>\n",
       "      <td>...</td>\n",
       "      <td>...</td>\n",
       "    </tr>\n",
       "    <tr>\n",
       "      <th>1142189</th>\n",
       "      <td>1</td>\n",
       "      <td>0</td>\n",
       "    </tr>\n",
       "    <tr>\n",
       "      <th>1183215</th>\n",
       "      <td>1</td>\n",
       "      <td>0</td>\n",
       "    </tr>\n",
       "    <tr>\n",
       "      <th>43389</th>\n",
       "      <td>0</td>\n",
       "      <td>0</td>\n",
       "    </tr>\n",
       "    <tr>\n",
       "      <th>1203916</th>\n",
       "      <td>1</td>\n",
       "      <td>0</td>\n",
       "    </tr>\n",
       "    <tr>\n",
       "      <th>21522</th>\n",
       "      <td>1</td>\n",
       "      <td>0</td>\n",
       "    </tr>\n",
       "  </tbody>\n",
       "</table>\n",
       "<p>1264123 rows × 2 columns</p>\n",
       "</div>"
      ],
      "text/plain": [
       "         RAC1P  SEX\n",
       "1389235      1    0\n",
       "644153       1    0\n",
       "1134403      1    0\n",
       "1277484      1    0\n",
       "997142       1    1\n",
       "...        ...  ...\n",
       "1142189      1    0\n",
       "1183215      1    0\n",
       "43389        0    0\n",
       "1203916      1    0\n",
       "21522        1    0\n",
       "\n",
       "[1264123 rows x 2 columns]"
      ]
     },
     "execution_count": 59,
     "metadata": {},
     "output_type": "execute_result"
    }
   ],
   "source": [
    "G_tr"
   ]
  },
  {
   "cell_type": "code",
   "execution_count": 60,
   "id": "28343453",
   "metadata": {},
   "outputs": [
    {
     "data": {
      "text/plain": [
       "9"
      ]
     },
     "execution_count": 60,
     "metadata": {},
     "output_type": "execute_result"
    }
   ],
   "source": [
    "d_tr.unique().__len__()"
   ]
  },
  {
   "cell_type": "code",
   "execution_count": 61,
   "id": "0e0847f4",
   "metadata": {},
   "outputs": [],
   "source": [
    "X_te, y_te, G_te, d_te = dset.get_pandas(split='ood_test')"
   ]
  },
  {
   "cell_type": "code",
   "execution_count": 62,
   "id": "44d6bac5",
   "metadata": {},
   "outputs": [
    {
     "data": {
      "text/plain": [
       "(75911, 232)"
      ]
     },
     "execution_count": 62,
     "metadata": {},
     "output_type": "execute_result"
    }
   ],
   "source": [
    "X_te.shape"
   ]
  },
  {
   "cell_type": "code",
   "execution_count": 63,
   "id": "dfbaaed2",
   "metadata": {},
   "outputs": [
    {
     "data": {
      "text/plain": [
       "array([0., 1.])"
      ]
     },
     "execution_count": 63,
     "metadata": {},
     "output_type": "execute_result"
    }
   ],
   "source": [
    "y_te.unique()"
   ]
  },
  {
   "cell_type": "code",
   "execution_count": 64,
   "id": "38cd7de2",
   "metadata": {},
   "outputs": [
    {
     "data": {
      "text/html": [
       "<div>\n",
       "<style scoped>\n",
       "    .dataframe tbody tr th:only-of-type {\n",
       "        vertical-align: middle;\n",
       "    }\n",
       "\n",
       "    .dataframe tbody tr th {\n",
       "        vertical-align: top;\n",
       "    }\n",
       "\n",
       "    .dataframe thead th {\n",
       "        text-align: right;\n",
       "    }\n",
       "</style>\n",
       "<table border=\"1\" class=\"dataframe\">\n",
       "  <thead>\n",
       "    <tr style=\"text-align: right;\">\n",
       "      <th></th>\n",
       "      <th>RAC1P</th>\n",
       "      <th>SEX</th>\n",
       "    </tr>\n",
       "  </thead>\n",
       "  <tbody>\n",
       "    <tr>\n",
       "      <th>910298</th>\n",
       "      <td>1</td>\n",
       "      <td>0</td>\n",
       "    </tr>\n",
       "    <tr>\n",
       "      <th>311286</th>\n",
       "      <td>1</td>\n",
       "      <td>1</td>\n",
       "    </tr>\n",
       "    <tr>\n",
       "      <th>1299972</th>\n",
       "      <td>1</td>\n",
       "      <td>0</td>\n",
       "    </tr>\n",
       "    <tr>\n",
       "      <th>722716</th>\n",
       "      <td>1</td>\n",
       "      <td>1</td>\n",
       "    </tr>\n",
       "    <tr>\n",
       "      <th>314653</th>\n",
       "      <td>1</td>\n",
       "      <td>0</td>\n",
       "    </tr>\n",
       "    <tr>\n",
       "      <th>...</th>\n",
       "      <td>...</td>\n",
       "      <td>...</td>\n",
       "    </tr>\n",
       "    <tr>\n",
       "      <th>318737</th>\n",
       "      <td>1</td>\n",
       "      <td>0</td>\n",
       "    </tr>\n",
       "    <tr>\n",
       "      <th>741617</th>\n",
       "      <td>0</td>\n",
       "      <td>1</td>\n",
       "    </tr>\n",
       "    <tr>\n",
       "      <th>725234</th>\n",
       "      <td>1</td>\n",
       "      <td>0</td>\n",
       "    </tr>\n",
       "    <tr>\n",
       "      <th>1305569</th>\n",
       "      <td>1</td>\n",
       "      <td>1</td>\n",
       "    </tr>\n",
       "    <tr>\n",
       "      <th>670325</th>\n",
       "      <td>1</td>\n",
       "      <td>1</td>\n",
       "    </tr>\n",
       "  </tbody>\n",
       "</table>\n",
       "<p>75911 rows × 2 columns</p>\n",
       "</div>"
      ],
      "text/plain": [
       "         RAC1P  SEX\n",
       "910298       1    0\n",
       "311286       1    1\n",
       "1299972      1    0\n",
       "722716       1    1\n",
       "314653       1    0\n",
       "...        ...  ...\n",
       "318737       1    0\n",
       "741617       0    1\n",
       "725234       1    0\n",
       "1305569      1    1\n",
       "670325       1    1\n",
       "\n",
       "[75911 rows x 2 columns]"
      ]
     },
     "execution_count": 64,
     "metadata": {},
     "output_type": "execute_result"
    }
   ],
   "source": [
    "G_te"
   ]
  },
  {
   "cell_type": "code",
   "execution_count": 65,
   "id": "928fc859",
   "metadata": {},
   "outputs": [
    {
     "data": {
      "text/plain": [
       "array([1])"
      ]
     },
     "execution_count": 65,
     "metadata": {},
     "output_type": "execute_result"
    }
   ],
   "source": [
    "d_te.unique()"
   ]
  },
  {
   "cell_type": "code",
   "execution_count": null,
   "id": "22d7698a",
   "metadata": {},
   "outputs": [],
   "source": []
  },
  {
   "cell_type": "markdown",
   "id": "fb6d1217",
   "metadata": {},
   "source": [
    "## Sepsis"
   ]
  },
  {
   "cell_type": "code",
   "execution_count": 5,
   "id": "5e657f5e",
   "metadata": {},
   "outputs": [
    {
     "data": {
      "text/html": [
       "<pre style=\"white-space:pre;overflow-x:auto;line-height:normal;font-family:Menlo,'DejaVu Sans Mono',consolas,'Courier New',monospace\"><span style=\"font-weight: bold\">{</span>\n",
       "    <span style=\"color: #008000; text-decoration-color: #008000\">'splitter'</span>: <span style=\"color: #800080; text-decoration-color: #800080; font-weight: bold\">DomainSplitter</span><span style=\"font-weight: bold\">(</span>\n",
       "        <span style=\"color: #808000; text-decoration-color: #808000\">val_size</span>=<span style=\"color: #008080; text-decoration-color: #008080; font-weight: bold\">0.1</span>,\n",
       "        <span style=\"color: #808000; text-decoration-color: #808000\">random_state</span>=<span style=\"color: #008080; text-decoration-color: #008080; font-weight: bold\">264738</span>,\n",
       "        <span style=\"color: #808000; text-decoration-color: #808000\">id_test_size</span>=<span style=\"color: #008080; text-decoration-color: #008080; font-weight: bold\">0.1</span>,\n",
       "        <span style=\"color: #808000; text-decoration-color: #808000\">domain_split_varname</span>=<span style=\"color: #008000; text-decoration-color: #008000\">'ICULOS'</span>,\n",
       "        <span style=\"color: #808000; text-decoration-color: #808000\">domain_split_ood_values</span>=<span style=\"color: #800080; text-decoration-color: #800080; font-style: italic\">None</span>,\n",
       "        <span style=\"color: #808000; text-decoration-color: #808000\">domain_split_id_values</span>=<span style=\"color: #800080; text-decoration-color: #800080; font-style: italic\">None</span>,\n",
       "        <span style=\"color: #808000; text-decoration-color: #808000\">domain_split_gt_thresh</span>=<span style=\"color: #008080; text-decoration-color: #008080; font-weight: bold\">47.0</span>,\n",
       "        <span style=\"color: #808000; text-decoration-color: #808000\">drop_domain_split_col</span>=<span style=\"color: #00ff00; text-decoration-color: #00ff00; font-style: italic\">True</span>,\n",
       "        <span style=\"color: #808000; text-decoration-color: #808000\">ood_val_size</span>=<span style=\"color: #008080; text-decoration-color: #008080; font-weight: bold\">0.1</span>\n",
       "    <span style=\"font-weight: bold\">)</span>,\n",
       "    <span style=\"color: #008000; text-decoration-color: #008000\">'grouper'</span>: <span style=\"color: #800080; text-decoration-color: #800080; font-style: italic\">None</span>,\n",
       "    <span style=\"color: #008000; text-decoration-color: #008000\">'preprocessor_config'</span>: <span style=\"color: #800080; text-decoration-color: #800080; font-weight: bold\">PreprocessorConfig</span><span style=\"font-weight: bold\">(</span>\n",
       "        <span style=\"color: #808000; text-decoration-color: #808000\">categorical_features</span>=<span style=\"color: #008000; text-decoration-color: #008000\">'one_hot'</span>,\n",
       "        <span style=\"color: #808000; text-decoration-color: #808000\">numeric_features</span>=<span style=\"color: #008000; text-decoration-color: #008000\">'kbins'</span>,\n",
       "        <span style=\"color: #808000; text-decoration-color: #808000\">domain_labels</span>=<span style=\"color: #008000; text-decoration-color: #008000\">'label_encode'</span>,\n",
       "        <span style=\"color: #808000; text-decoration-color: #808000\">passthrough_columns</span>=<span style=\"color: #800080; text-decoration-color: #800080; font-style: italic\">None</span>,\n",
       "        <span style=\"color: #808000; text-decoration-color: #808000\">dropna</span>=<span style=\"color: #800080; text-decoration-color: #800080; font-style: italic\">None</span>,\n",
       "        <span style=\"color: #808000; text-decoration-color: #808000\">use_extended_names</span>=<span style=\"color: #ff0000; text-decoration-color: #ff0000; font-style: italic\">False</span>,\n",
       "        <span style=\"color: #808000; text-decoration-color: #808000\">map_targets</span>=<span style=\"color: #ff0000; text-decoration-color: #ff0000; font-style: italic\">False</span>,\n",
       "        <span style=\"color: #808000; text-decoration-color: #808000\">cast_targets_to_default_type</span>=<span style=\"color: #ff0000; text-decoration-color: #ff0000; font-style: italic\">False</span>,\n",
       "        <span style=\"color: #808000; text-decoration-color: #808000\">min_frequency</span>=<span style=\"color: #800080; text-decoration-color: #800080; font-style: italic\">None</span>,\n",
       "        <span style=\"color: #808000; text-decoration-color: #808000\">max_categories</span>=<span style=\"color: #800080; text-decoration-color: #800080; font-style: italic\">None</span>,\n",
       "        <span style=\"color: #808000; text-decoration-color: #808000\">n_bins</span>=<span style=\"color: #008080; text-decoration-color: #008080; font-weight: bold\">5</span>,\n",
       "        <span style=\"color: #808000; text-decoration-color: #808000\">sub_illegal_chars</span>=<span style=\"color: #00ff00; text-decoration-color: #00ff00; font-style: italic\">True</span>\n",
       "    <span style=\"font-weight: bold\">)</span>,\n",
       "    <span style=\"color: #008000; text-decoration-color: #008000\">'tabular_dataset_kwargs'</span>: <span style=\"font-weight: bold\">{</span><span style=\"color: #008000; text-decoration-color: #008000\">'name'</span>: <span style=\"color: #008000; text-decoration-color: #008000\">'physionet'</span><span style=\"font-weight: bold\">}</span>\n",
       "<span style=\"font-weight: bold\">}</span>\n",
       "</pre>\n"
      ],
      "text/plain": [
       "\u001b[1m{\u001b[0m\n",
       "    \u001b[32m'splitter'\u001b[0m: \u001b[1;35mDomainSplitter\u001b[0m\u001b[1m(\u001b[0m\n",
       "        \u001b[33mval_size\u001b[0m=\u001b[1;36m0\u001b[0m\u001b[1;36m.1\u001b[0m,\n",
       "        \u001b[33mrandom_state\u001b[0m=\u001b[1;36m264738\u001b[0m,\n",
       "        \u001b[33mid_test_size\u001b[0m=\u001b[1;36m0\u001b[0m\u001b[1;36m.1\u001b[0m,\n",
       "        \u001b[33mdomain_split_varname\u001b[0m=\u001b[32m'ICULOS'\u001b[0m,\n",
       "        \u001b[33mdomain_split_ood_values\u001b[0m=\u001b[3;35mNone\u001b[0m,\n",
       "        \u001b[33mdomain_split_id_values\u001b[0m=\u001b[3;35mNone\u001b[0m,\n",
       "        \u001b[33mdomain_split_gt_thresh\u001b[0m=\u001b[1;36m47\u001b[0m\u001b[1;36m.0\u001b[0m,\n",
       "        \u001b[33mdrop_domain_split_col\u001b[0m=\u001b[3;92mTrue\u001b[0m,\n",
       "        \u001b[33mood_val_size\u001b[0m=\u001b[1;36m0\u001b[0m\u001b[1;36m.1\u001b[0m\n",
       "    \u001b[1m)\u001b[0m,\n",
       "    \u001b[32m'grouper'\u001b[0m: \u001b[3;35mNone\u001b[0m,\n",
       "    \u001b[32m'preprocessor_config'\u001b[0m: \u001b[1;35mPreprocessorConfig\u001b[0m\u001b[1m(\u001b[0m\n",
       "        \u001b[33mcategorical_features\u001b[0m=\u001b[32m'one_hot'\u001b[0m,\n",
       "        \u001b[33mnumeric_features\u001b[0m=\u001b[32m'kbins'\u001b[0m,\n",
       "        \u001b[33mdomain_labels\u001b[0m=\u001b[32m'label_encode'\u001b[0m,\n",
       "        \u001b[33mpassthrough_columns\u001b[0m=\u001b[3;35mNone\u001b[0m,\n",
       "        \u001b[33mdropna\u001b[0m=\u001b[3;35mNone\u001b[0m,\n",
       "        \u001b[33muse_extended_names\u001b[0m=\u001b[3;91mFalse\u001b[0m,\n",
       "        \u001b[33mmap_targets\u001b[0m=\u001b[3;91mFalse\u001b[0m,\n",
       "        \u001b[33mcast_targets_to_default_type\u001b[0m=\u001b[3;91mFalse\u001b[0m,\n",
       "        \u001b[33mmin_frequency\u001b[0m=\u001b[3;35mNone\u001b[0m,\n",
       "        \u001b[33mmax_categories\u001b[0m=\u001b[3;35mNone\u001b[0m,\n",
       "        \u001b[33mn_bins\u001b[0m=\u001b[1;36m5\u001b[0m,\n",
       "        \u001b[33msub_illegal_chars\u001b[0m=\u001b[3;92mTrue\u001b[0m\n",
       "    \u001b[1m)\u001b[0m,\n",
       "    \u001b[32m'tabular_dataset_kwargs'\u001b[0m: \u001b[1m{\u001b[0m\u001b[32m'name'\u001b[0m: \u001b[32m'physionet'\u001b[0m\u001b[1m}\u001b[0m\n",
       "\u001b[1m}\u001b[0m\n"
      ]
     },
     "metadata": {},
     "output_type": "display_data"
    }
   ],
   "source": [
    "name = \"physionet\"\n",
    "expt_config = BENCHMARK_CONFIGS.get(name)\n",
    "rich_print(expt_config.__dict__);  # the `domain_split_varname` is the domain indicator"
   ]
  },
  {
   "cell_type": "code",
   "execution_count": 6,
   "id": "ed76dcc5",
   "metadata": {},
   "outputs": [
    {
     "name": "stdout",
     "output_type": "stream",
     "text": [
      "/Users/hgkahng/Workspaces/domain_adaptation/tmp/physionet\n"
     ]
    }
   ],
   "source": [
    "cache_dir = Path(f\"../../tmp/{name}\").resolve()\n",
    "print(cache_dir)"
   ]
  },
  {
   "cell_type": "code",
   "execution_count": 8,
   "id": "eb193aa8",
   "metadata": {},
   "outputs": [
    {
     "name": "stderr",
     "output_type": "stream",
     "text": [
      "/bin/sh: wget: command not found\n"
     ]
    },
    {
     "ename": "ValueError",
     "evalue": "No objects to concatenate",
     "output_type": "error",
     "traceback": [
      "\u001b[0;31m---------------------------------------------------------------------------\u001b[0m",
      "\u001b[0;31mValueError\u001b[0m                                Traceback (most recent call last)",
      "Cell \u001b[0;32mIn[8], line 2\u001b[0m\n\u001b[1;32m      1\u001b[0m \u001b[38;5;28;01mfrom\u001b[39;00m \u001b[38;5;21;01mtableshift\u001b[39;00m \u001b[38;5;28;01mimport\u001b[39;00m get_dataset\n\u001b[0;32m----> 2\u001b[0m dset \u001b[38;5;241m=\u001b[39m \u001b[43mget_dataset\u001b[49m\u001b[43m(\u001b[49m\u001b[43mname\u001b[49m\u001b[38;5;241;43m=\u001b[39;49m\u001b[43mname\u001b[49m\u001b[43m,\u001b[49m\u001b[43m \u001b[49m\u001b[43mcache_dir\u001b[49m\u001b[38;5;241;43m=\u001b[39;49m\u001b[43mcache_dir\u001b[49m\u001b[43m,\u001b[49m\u001b[43m \u001b[49m\u001b[43m)\u001b[49m\n",
      "File \u001b[0;32m/opt/miniconda3/envs/tableshift/lib/python3.10/site-packages/tableshift/core/getters.py:62\u001b[0m, in \u001b[0;36mget_dataset\u001b[0;34m(name, cache_dir, preprocessor_config, initialize_data, use_cached, **kwargs)\u001b[0m\n\u001b[1;32m     59\u001b[0m     preprocessor_config \u001b[38;5;241m=\u001b[39m expt_config\u001b[38;5;241m.\u001b[39mpreprocessor_config\n\u001b[1;32m     61\u001b[0m \u001b[38;5;28;01mif\u001b[39;00m \u001b[38;5;129;01mnot\u001b[39;00m use_cached:\n\u001b[0;32m---> 62\u001b[0m     dset \u001b[38;5;241m=\u001b[39m \u001b[43mTabularDataset\u001b[49m\u001b[43m(\u001b[49m\n\u001b[1;32m     63\u001b[0m \u001b[43m        \u001b[49m\u001b[43mconfig\u001b[49m\u001b[38;5;241;43m=\u001b[39;49m\u001b[43mdataset_config\u001b[49m\u001b[43m,\u001b[49m\n\u001b[1;32m     64\u001b[0m \u001b[43m        \u001b[49m\u001b[43msplitter\u001b[49m\u001b[38;5;241;43m=\u001b[39;49m\u001b[43mexpt_config\u001b[49m\u001b[38;5;241;43m.\u001b[39;49m\u001b[43msplitter\u001b[49m\u001b[43m,\u001b[49m\n\u001b[1;32m     65\u001b[0m \u001b[43m        \u001b[49m\u001b[43mgrouper\u001b[49m\u001b[38;5;241;43m=\u001b[39;49m\u001b[43mkwargs\u001b[49m\u001b[38;5;241;43m.\u001b[39;49m\u001b[43mget\u001b[49m\u001b[43m(\u001b[49m\u001b[38;5;124;43m\"\u001b[39;49m\u001b[38;5;124;43mgrouper\u001b[39;49m\u001b[38;5;124;43m\"\u001b[39;49m\u001b[43m,\u001b[49m\u001b[43m \u001b[49m\u001b[43mexpt_config\u001b[49m\u001b[38;5;241;43m.\u001b[39;49m\u001b[43mgrouper\u001b[49m\u001b[43m)\u001b[49m\u001b[43m,\u001b[49m\n\u001b[1;32m     66\u001b[0m \u001b[43m        \u001b[49m\u001b[43mpreprocessor_config\u001b[49m\u001b[38;5;241;43m=\u001b[39;49m\u001b[43mpreprocessor_config\u001b[49m\u001b[43m,\u001b[49m\n\u001b[1;32m     67\u001b[0m \u001b[43m        \u001b[49m\u001b[43minitialize_data\u001b[49m\u001b[38;5;241;43m=\u001b[39;49m\u001b[43minitialize_data\u001b[49m\u001b[43m,\u001b[49m\n\u001b[1;32m     68\u001b[0m \u001b[43m        \u001b[49m\u001b[38;5;241;43m*\u001b[39;49m\u001b[38;5;241;43m*\u001b[39;49m\u001b[43mtabular_dataset_kwargs\u001b[49m\u001b[43m)\u001b[49m\n\u001b[1;32m     69\u001b[0m \u001b[38;5;28;01melse\u001b[39;00m:\n\u001b[1;32m     70\u001b[0m     dset \u001b[38;5;241m=\u001b[39m CachedDataset(config\u001b[38;5;241m=\u001b[39mdataset_config,\n\u001b[1;32m     71\u001b[0m                          splitter\u001b[38;5;241m=\u001b[39mexpt_config\u001b[38;5;241m.\u001b[39msplitter,\n\u001b[1;32m     72\u001b[0m                          grouper\u001b[38;5;241m=\u001b[39mkwargs\u001b[38;5;241m.\u001b[39mget(\u001b[38;5;124m\"\u001b[39m\u001b[38;5;124mgrouper\u001b[39m\u001b[38;5;124m\"\u001b[39m, expt_config\u001b[38;5;241m.\u001b[39mgrouper),\n\u001b[1;32m     73\u001b[0m                          preprocessor_config\u001b[38;5;241m=\u001b[39mpreprocessor_config,\n\u001b[1;32m     74\u001b[0m                          initialize_data\u001b[38;5;241m=\u001b[39minitialize_data,\n\u001b[1;32m     75\u001b[0m                          name\u001b[38;5;241m=\u001b[39mname)\n",
      "File \u001b[0;32m/opt/miniconda3/envs/tableshift/lib/python3.10/site-packages/tableshift/core/tabular_dataset.py:224\u001b[0m, in \u001b[0;36mTabularDataset.__init__\u001b[0;34m(self, name, config, splitter, preprocessor_config, grouper, initialize_data, task_config, **kwargs)\u001b[0m\n\u001b[1;32m    221\u001b[0m \u001b[38;5;28mself\u001b[39m\u001b[38;5;241m.\u001b[39m_df: Union[pd\u001b[38;5;241m.\u001b[39mDataFrame, \u001b[38;5;28;01mNone\u001b[39;00m] \u001b[38;5;241m=\u001b[39m \u001b[38;5;28;01mNone\u001b[39;00m  \u001b[38;5;66;03m# holds all the data\u001b[39;00m\n\u001b[1;32m    223\u001b[0m \u001b[38;5;28;01mif\u001b[39;00m initialize_data:\n\u001b[0;32m--> 224\u001b[0m     \u001b[38;5;28;43mself\u001b[39;49m\u001b[38;5;241;43m.\u001b[39;49m\u001b[43m_initialize_data\u001b[49m\u001b[43m(\u001b[49m\u001b[43m)\u001b[49m\n",
      "File \u001b[0;32m/opt/miniconda3/envs/tableshift/lib/python3.10/site-packages/tableshift/core/tabular_dataset.py:301\u001b[0m, in \u001b[0;36mTabularDataset._initialize_data\u001b[0;34m(self)\u001b[0m\n\u001b[1;32m    299\u001b[0m \u001b[38;5;28;01mdef\u001b[39;00m \u001b[38;5;21m_initialize_data\u001b[39m(\u001b[38;5;28mself\u001b[39m):\n\u001b[1;32m    300\u001b[0m     \u001b[38;5;124;03m\"\"\"Load the data/labels/groups from a data source.\"\"\"\u001b[39;00m\n\u001b[0;32m--> 301\u001b[0m     data \u001b[38;5;241m=\u001b[39m \u001b[38;5;28;43mself\u001b[39;49m\u001b[38;5;241;43m.\u001b[39;49m\u001b[43mdata_source\u001b[49m\u001b[38;5;241;43m.\u001b[39;49m\u001b[43mget_data\u001b[49m\u001b[43m(\u001b[49m\u001b[43m)\u001b[49m\n\u001b[1;32m    302\u001b[0m     data \u001b[38;5;241m=\u001b[39m \u001b[38;5;28mself\u001b[39m\u001b[38;5;241m.\u001b[39m_check_data_source(data)\n\u001b[1;32m    303\u001b[0m     data \u001b[38;5;241m=\u001b[39m \u001b[38;5;28mself\u001b[39m\u001b[38;5;241m.\u001b[39mtask_config\u001b[38;5;241m.\u001b[39mfeature_list\u001b[38;5;241m.\u001b[39mapply_schema(\n\u001b[1;32m    304\u001b[0m         data, passthrough_columns\u001b[38;5;241m=\u001b[39m[\u001b[38;5;124m\"\u001b[39m\u001b[38;5;124mSplit\u001b[39m\u001b[38;5;124m\"\u001b[39m])\n",
      "File \u001b[0;32m/opt/miniconda3/envs/tableshift/lib/python3.10/site-packages/tableshift/core/data_source.py:74\u001b[0m, in \u001b[0;36mDataSource.get_data\u001b[0;34m(self)\u001b[0m\n\u001b[1;32m     72\u001b[0m \u001b[38;5;124;03m\"\"\"Fetch data from local cache or download if necessary.\"\"\"\u001b[39;00m\n\u001b[1;32m     73\u001b[0m \u001b[38;5;28mself\u001b[39m\u001b[38;5;241m.\u001b[39m_download_if_not_cached()\n\u001b[0;32m---> 74\u001b[0m raw_data \u001b[38;5;241m=\u001b[39m \u001b[38;5;28;43mself\u001b[39;49m\u001b[38;5;241;43m.\u001b[39;49m\u001b[43m_load_data\u001b[49m\u001b[43m(\u001b[49m\u001b[43m)\u001b[49m\n\u001b[1;32m     75\u001b[0m \u001b[38;5;28;01mreturn\u001b[39;00m \u001b[38;5;28mself\u001b[39m\u001b[38;5;241m.\u001b[39mpreprocess_fn(raw_data)\n",
      "File \u001b[0;32m/opt/miniconda3/envs/tableshift/lib/python3.10/site-packages/tableshift/core/data_source.py:536\u001b[0m, in \u001b[0;36mPhysioNetDataSource._load_data\u001b[0;34m(self)\u001b[0m\n\u001b[1;32m    534\u001b[0m logging\u001b[38;5;241m.\u001b[39minfo(\u001b[38;5;124m\"\u001b[39m\u001b[38;5;124mreading physionet data files.\u001b[39m\u001b[38;5;124m\"\u001b[39m)\n\u001b[1;32m    535\u001b[0m train_a_files \u001b[38;5;241m=\u001b[39m glob\u001b[38;5;241m.\u001b[39mglob(os\u001b[38;5;241m.\u001b[39mpath\u001b[38;5;241m.\u001b[39mjoin(root, \u001b[38;5;124m\"\u001b[39m\u001b[38;5;124mtraining_setA\u001b[39m\u001b[38;5;124m\"\u001b[39m, \u001b[38;5;124m\"\u001b[39m\u001b[38;5;124m*.psv\u001b[39m\u001b[38;5;124m\"\u001b[39m))\n\u001b[0;32m--> 536\u001b[0m df_a \u001b[38;5;241m=\u001b[39m \u001b[43mpd\u001b[49m\u001b[38;5;241;43m.\u001b[39;49m\u001b[43mconcat\u001b[49m\u001b[43m(\u001b[49m\u001b[43mpd\u001b[49m\u001b[38;5;241;43m.\u001b[39;49m\u001b[43mread_csv\u001b[49m\u001b[43m(\u001b[49m\u001b[43mx\u001b[49m\u001b[43m,\u001b[49m\u001b[43m \u001b[49m\u001b[43mdelimiter\u001b[49m\u001b[38;5;241;43m=\u001b[39;49m\u001b[38;5;124;43m\"\u001b[39;49m\u001b[38;5;124;43m|\u001b[39;49m\u001b[38;5;124;43m\"\u001b[39;49m\u001b[43m)\u001b[49m\u001b[43m \u001b[49m\u001b[38;5;28;43;01mfor\u001b[39;49;00m\u001b[43m \u001b[49m\u001b[43mx\u001b[49m\u001b[43m \u001b[49m\u001b[38;5;129;43;01min\u001b[39;49;00m\u001b[43m \u001b[49m\u001b[43mtrain_a_files\u001b[49m\u001b[43m)\u001b[49m\n\u001b[1;32m    537\u001b[0m train_b_files \u001b[38;5;241m=\u001b[39m glob\u001b[38;5;241m.\u001b[39mglob(os\u001b[38;5;241m.\u001b[39mpath\u001b[38;5;241m.\u001b[39mjoin(root, \u001b[38;5;124m\"\u001b[39m\u001b[38;5;124mtraining_setB\u001b[39m\u001b[38;5;124m\"\u001b[39m, \u001b[38;5;124m\"\u001b[39m\u001b[38;5;124m*.psv\u001b[39m\u001b[38;5;124m\"\u001b[39m))\n\u001b[1;32m    538\u001b[0m df_b \u001b[38;5;241m=\u001b[39m pd\u001b[38;5;241m.\u001b[39mconcat(pd\u001b[38;5;241m.\u001b[39mread_csv(x, delimiter\u001b[38;5;241m=\u001b[39m\u001b[38;5;124m\"\u001b[39m\u001b[38;5;124m|\u001b[39m\u001b[38;5;124m\"\u001b[39m) \u001b[38;5;28;01mfor\u001b[39;00m x \u001b[38;5;129;01min\u001b[39;00m train_b_files)\n",
      "File \u001b[0;32m/opt/miniconda3/envs/tableshift/lib/python3.10/site-packages/pandas/util/_decorators.py:311\u001b[0m, in \u001b[0;36mdeprecate_nonkeyword_arguments.<locals>.decorate.<locals>.wrapper\u001b[0;34m(*args, **kwargs)\u001b[0m\n\u001b[1;32m    305\u001b[0m \u001b[38;5;28;01mif\u001b[39;00m \u001b[38;5;28mlen\u001b[39m(args) \u001b[38;5;241m>\u001b[39m num_allow_args:\n\u001b[1;32m    306\u001b[0m     warnings\u001b[38;5;241m.\u001b[39mwarn(\n\u001b[1;32m    307\u001b[0m         msg\u001b[38;5;241m.\u001b[39mformat(arguments\u001b[38;5;241m=\u001b[39marguments),\n\u001b[1;32m    308\u001b[0m         \u001b[38;5;167;01mFutureWarning\u001b[39;00m,\n\u001b[1;32m    309\u001b[0m         stacklevel\u001b[38;5;241m=\u001b[39mstacklevel,\n\u001b[1;32m    310\u001b[0m     )\n\u001b[0;32m--> 311\u001b[0m \u001b[38;5;28;01mreturn\u001b[39;00m \u001b[43mfunc\u001b[49m\u001b[43m(\u001b[49m\u001b[38;5;241;43m*\u001b[39;49m\u001b[43margs\u001b[49m\u001b[43m,\u001b[49m\u001b[43m \u001b[49m\u001b[38;5;241;43m*\u001b[39;49m\u001b[38;5;241;43m*\u001b[39;49m\u001b[43mkwargs\u001b[49m\u001b[43m)\u001b[49m\n",
      "File \u001b[0;32m/opt/miniconda3/envs/tableshift/lib/python3.10/site-packages/pandas/core/reshape/concat.py:294\u001b[0m, in \u001b[0;36mconcat\u001b[0;34m(objs, axis, join, ignore_index, keys, levels, names, verify_integrity, sort, copy)\u001b[0m\n\u001b[1;32m     90\u001b[0m \u001b[38;5;129m@deprecate_nonkeyword_arguments\u001b[39m(version\u001b[38;5;241m=\u001b[39m\u001b[38;5;28;01mNone\u001b[39;00m, allowed_args\u001b[38;5;241m=\u001b[39m[\u001b[38;5;124m\"\u001b[39m\u001b[38;5;124mobjs\u001b[39m\u001b[38;5;124m\"\u001b[39m])\n\u001b[1;32m     91\u001b[0m \u001b[38;5;28;01mdef\u001b[39;00m \u001b[38;5;21mconcat\u001b[39m(\n\u001b[1;32m     92\u001b[0m     objs: Iterable[NDFrame] \u001b[38;5;241m|\u001b[39m Mapping[Hashable, NDFrame],\n\u001b[0;32m   (...)\u001b[0m\n\u001b[1;32m    101\u001b[0m     copy: \u001b[38;5;28mbool\u001b[39m \u001b[38;5;241m=\u001b[39m \u001b[38;5;28;01mTrue\u001b[39;00m,\n\u001b[1;32m    102\u001b[0m ) \u001b[38;5;241m-\u001b[39m\u001b[38;5;241m>\u001b[39m FrameOrSeriesUnion:\n\u001b[1;32m    103\u001b[0m     \u001b[38;5;124;03m\"\"\"\u001b[39;00m\n\u001b[1;32m    104\u001b[0m \u001b[38;5;124;03m    Concatenate pandas objects along a particular axis with optional set logic\u001b[39;00m\n\u001b[1;32m    105\u001b[0m \u001b[38;5;124;03m    along the other axes.\u001b[39;00m\n\u001b[0;32m   (...)\u001b[0m\n\u001b[1;32m    292\u001b[0m \u001b[38;5;124;03m    ValueError: Indexes have overlapping values: ['a']\u001b[39;00m\n\u001b[1;32m    293\u001b[0m \u001b[38;5;124;03m    \"\"\"\u001b[39;00m\n\u001b[0;32m--> 294\u001b[0m     op \u001b[38;5;241m=\u001b[39m \u001b[43m_Concatenator\u001b[49m\u001b[43m(\u001b[49m\n\u001b[1;32m    295\u001b[0m \u001b[43m        \u001b[49m\u001b[43mobjs\u001b[49m\u001b[43m,\u001b[49m\n\u001b[1;32m    296\u001b[0m \u001b[43m        \u001b[49m\u001b[43maxis\u001b[49m\u001b[38;5;241;43m=\u001b[39;49m\u001b[43maxis\u001b[49m\u001b[43m,\u001b[49m\n\u001b[1;32m    297\u001b[0m \u001b[43m        \u001b[49m\u001b[43mignore_index\u001b[49m\u001b[38;5;241;43m=\u001b[39;49m\u001b[43mignore_index\u001b[49m\u001b[43m,\u001b[49m\n\u001b[1;32m    298\u001b[0m \u001b[43m        \u001b[49m\u001b[43mjoin\u001b[49m\u001b[38;5;241;43m=\u001b[39;49m\u001b[43mjoin\u001b[49m\u001b[43m,\u001b[49m\n\u001b[1;32m    299\u001b[0m \u001b[43m        \u001b[49m\u001b[43mkeys\u001b[49m\u001b[38;5;241;43m=\u001b[39;49m\u001b[43mkeys\u001b[49m\u001b[43m,\u001b[49m\n\u001b[1;32m    300\u001b[0m \u001b[43m        \u001b[49m\u001b[43mlevels\u001b[49m\u001b[38;5;241;43m=\u001b[39;49m\u001b[43mlevels\u001b[49m\u001b[43m,\u001b[49m\n\u001b[1;32m    301\u001b[0m \u001b[43m        \u001b[49m\u001b[43mnames\u001b[49m\u001b[38;5;241;43m=\u001b[39;49m\u001b[43mnames\u001b[49m\u001b[43m,\u001b[49m\n\u001b[1;32m    302\u001b[0m \u001b[43m        \u001b[49m\u001b[43mverify_integrity\u001b[49m\u001b[38;5;241;43m=\u001b[39;49m\u001b[43mverify_integrity\u001b[49m\u001b[43m,\u001b[49m\n\u001b[1;32m    303\u001b[0m \u001b[43m        \u001b[49m\u001b[43mcopy\u001b[49m\u001b[38;5;241;43m=\u001b[39;49m\u001b[43mcopy\u001b[49m\u001b[43m,\u001b[49m\n\u001b[1;32m    304\u001b[0m \u001b[43m        \u001b[49m\u001b[43msort\u001b[49m\u001b[38;5;241;43m=\u001b[39;49m\u001b[43msort\u001b[49m\u001b[43m,\u001b[49m\n\u001b[1;32m    305\u001b[0m \u001b[43m    \u001b[49m\u001b[43m)\u001b[49m\n\u001b[1;32m    307\u001b[0m     \u001b[38;5;28;01mreturn\u001b[39;00m op\u001b[38;5;241m.\u001b[39mget_result()\n",
      "File \u001b[0;32m/opt/miniconda3/envs/tableshift/lib/python3.10/site-packages/pandas/core/reshape/concat.py:351\u001b[0m, in \u001b[0;36m_Concatenator.__init__\u001b[0;34m(self, objs, axis, join, keys, levels, names, ignore_index, verify_integrity, copy, sort)\u001b[0m\n\u001b[1;32m    348\u001b[0m     objs \u001b[38;5;241m=\u001b[39m \u001b[38;5;28mlist\u001b[39m(objs)\n\u001b[1;32m    350\u001b[0m \u001b[38;5;28;01mif\u001b[39;00m \u001b[38;5;28mlen\u001b[39m(objs) \u001b[38;5;241m==\u001b[39m \u001b[38;5;241m0\u001b[39m:\n\u001b[0;32m--> 351\u001b[0m     \u001b[38;5;28;01mraise\u001b[39;00m \u001b[38;5;167;01mValueError\u001b[39;00m(\u001b[38;5;124m\"\u001b[39m\u001b[38;5;124mNo objects to concatenate\u001b[39m\u001b[38;5;124m\"\u001b[39m)\n\u001b[1;32m    353\u001b[0m \u001b[38;5;28;01mif\u001b[39;00m keys \u001b[38;5;129;01mis\u001b[39;00m \u001b[38;5;28;01mNone\u001b[39;00m:\n\u001b[1;32m    354\u001b[0m     objs \u001b[38;5;241m=\u001b[39m \u001b[38;5;28mlist\u001b[39m(com\u001b[38;5;241m.\u001b[39mnot_none(\u001b[38;5;241m*\u001b[39mobjs))\n",
      "\u001b[0;31mValueError\u001b[0m: No objects to concatenate"
     ]
    }
   ],
   "source": [
    "from tableshift import get_dataset\n",
    "dset = get_dataset(name=name, cache_dir=cache_dir, )"
   ]
  },
  {
   "cell_type": "code",
   "execution_count": null,
   "id": "34a5d188",
   "metadata": {},
   "outputs": [],
   "source": []
  },
  {
   "cell_type": "markdown",
   "id": "762254e9",
   "metadata": {},
   "source": [
    "name = \"acsincome\"\n",
    "expt_config = BENCHMARK_CONFIGS.get(name)\n",
    "rich_print(expt_config.__dict__);  # the `domain_split_varname` is the domain indicator"
   ]
  }
 ],
 "metadata": {
  "kernelspec": {
   "display_name": "tableshift",
   "language": "python",
   "name": "python3"
  },
  "language_info": {
   "codemirror_mode": {
    "name": "ipython",
    "version": 3
   },
   "file_extension": ".py",
   "mimetype": "text/x-python",
   "name": "python",
   "nbconvert_exporter": "python",
   "pygments_lexer": "ipython3",
   "version": "3.10.16"
  }
 },
 "nbformat": 4,
 "nbformat_minor": 5
}
